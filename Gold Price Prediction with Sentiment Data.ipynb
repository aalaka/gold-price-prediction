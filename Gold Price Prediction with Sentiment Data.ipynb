{
 "cells": [
  {
   "cell_type": "markdown",
   "id": "c4a2022c-4d20-4415-b105-0d4a65f7500a",
   "metadata": {},
   "source": [
    "# Gold Price Prediction with the News Sentiment Data "
   ]
  },
  {
   "cell_type": "code",
   "execution_count": 4,
   "id": "5b180955-662b-46fa-b157-b14d4dfe03f7",
   "metadata": {},
   "outputs": [],
   "source": [
    "# importing all the required library\n",
    "import pandas as pd\n",
    "import numpy as np\n",
    "import os\n",
    "import datetime\n",
    "import matplotlib.pyplot as plt\n",
    "import seaborn as sns\n",
    "import matplotlib.dates as mdates\n",
    "import statsmodels.api as sm\n",
    "import xgboost as xgb\n",
    "from statsmodels.tsa.seasonal import seasonal_decompose\n",
    "from dateutil import parser\n",
    "from sklearn.model_selection import train_test_split\n",
    "from sklearn.ensemble import RandomForestRegressor\n",
    "from sklearn.metrics import mean_squared_error, r2_score, mean_absolute_error\n",
    "from sklearn.preprocessing import MinMaxScaler\n",
    "from keras.models import Sequential\n",
    "from sklearn.linear_model import Ridge\n",
    "from sklearn.model_selection import GridSearchCV\n",
    "from sklearn.linear_model import Lasso\n",
    "from sklearn.preprocessing import PolynomialFeatures\n",
    "from sklearn.linear_model import LinearRegression\n",
    "from sklearn.pipeline import make_pipeline\n",
    "from sklearn.feature_selection import RFE\n",
    "from sklearn.model_selection import cross_val_score\n",
    "from sklearn.preprocessing import StandardScaler\n",
    "from xgboost import XGBRegressor\n",
    "from scipy.stats import pearsonr\n",
    "\n",
    "\n",
    "import warnings\n",
    "warnings.filterwarnings('ignore')"
   ]
  },
  {
   "cell_type": "code",
   "execution_count": 49,
   "id": "549680a6-168a-44e6-a617-4b75e4edfafc",
   "metadata": {},
   "outputs": [],
   "source": [
    "# import the require dataset for the analysis\n",
    "gold_data = pd.read_csv('result_Data\\gold_dataset.csv')\n",
    "sentiment_data = pd.read_csv('result_Data\\sentiment_dataset.csv')"
   ]
  },
  {
   "cell_type": "code",
   "execution_count": 50,
   "id": "dc918e3d-3edd-449b-88c3-937f8d5bd326",
   "metadata": {},
   "outputs": [
    {
     "data": {
      "text/html": [
       "<div>\n",
       "<style scoped>\n",
       "    .dataframe tbody tr th:only-of-type {\n",
       "        vertical-align: middle;\n",
       "    }\n",
       "\n",
       "    .dataframe tbody tr th {\n",
       "        vertical-align: top;\n",
       "    }\n",
       "\n",
       "    .dataframe thead th {\n",
       "        text-align: right;\n",
       "    }\n",
       "</style>\n",
       "<table border=\"1\" class=\"dataframe\">\n",
       "  <thead>\n",
       "    <tr style=\"text-align: right;\">\n",
       "      <th></th>\n",
       "      <th>date</th>\n",
       "      <th>gold_price</th>\n",
       "    </tr>\n",
       "  </thead>\n",
       "  <tbody>\n",
       "    <tr>\n",
       "      <th>0</th>\n",
       "      <td>2015-01-02</td>\n",
       "      <td>1186.2</td>\n",
       "    </tr>\n",
       "    <tr>\n",
       "      <th>1</th>\n",
       "      <td>2015-01-05</td>\n",
       "      <td>1204.0</td>\n",
       "    </tr>\n",
       "    <tr>\n",
       "      <th>2</th>\n",
       "      <td>2015-01-06</td>\n",
       "      <td>1219.4</td>\n",
       "    </tr>\n",
       "    <tr>\n",
       "      <th>3</th>\n",
       "      <td>2015-01-07</td>\n",
       "      <td>1210.7</td>\n",
       "    </tr>\n",
       "    <tr>\n",
       "      <th>4</th>\n",
       "      <td>2015-01-08</td>\n",
       "      <td>1208.5</td>\n",
       "    </tr>\n",
       "  </tbody>\n",
       "</table>\n",
       "</div>"
      ],
      "text/plain": [
       "         date  gold_price\n",
       "0  2015-01-02      1186.2\n",
       "1  2015-01-05      1204.0\n",
       "2  2015-01-06      1219.4\n",
       "3  2015-01-07      1210.7\n",
       "4  2015-01-08      1208.5"
      ]
     },
     "execution_count": 50,
     "metadata": {},
     "output_type": "execute_result"
    }
   ],
   "source": [
    "gold_data.head()"
   ]
  },
  {
   "cell_type": "code",
   "execution_count": 51,
   "id": "aa4bbd61-ce48-4fb4-a53a-04621f46c3f2",
   "metadata": {},
   "outputs": [
    {
     "data": {
      "text/plain": [
       "(2499, 2)"
      ]
     },
     "execution_count": 51,
     "metadata": {},
     "output_type": "execute_result"
    }
   ],
   "source": [
    "gold_data.shape"
   ]
  },
  {
   "cell_type": "code",
   "execution_count": 52,
   "id": "0db340ce-4aa5-4c01-a85f-d768484376db",
   "metadata": {},
   "outputs": [
    {
     "name": "stdout",
     "output_type": "stream",
     "text": [
      "<class 'pandas.core.frame.DataFrame'>\n",
      "RangeIndex: 2499 entries, 0 to 2498\n",
      "Data columns (total 2 columns):\n",
      " #   Column      Non-Null Count  Dtype  \n",
      "---  ------      --------------  -----  \n",
      " 0   date        2499 non-null   object \n",
      " 1   gold_price  2499 non-null   float64\n",
      "dtypes: float64(1), object(1)\n",
      "memory usage: 39.2+ KB\n"
     ]
    }
   ],
   "source": [
    "gold_data.info()"
   ]
  },
  {
   "cell_type": "code",
   "execution_count": 53,
   "id": "c90fb5d9-e0a4-4d1b-8a1a-a85666c555f8",
   "metadata": {},
   "outputs": [
    {
     "data": {
      "text/html": [
       "<div>\n",
       "<style scoped>\n",
       "    .dataframe tbody tr th:only-of-type {\n",
       "        vertical-align: middle;\n",
       "    }\n",
       "\n",
       "    .dataframe tbody tr th {\n",
       "        vertical-align: top;\n",
       "    }\n",
       "\n",
       "    .dataframe thead th {\n",
       "        text-align: right;\n",
       "    }\n",
       "</style>\n",
       "<table border=\"1\" class=\"dataframe\">\n",
       "  <thead>\n",
       "    <tr style=\"text-align: right;\">\n",
       "      <th></th>\n",
       "      <th>date</th>\n",
       "      <th>sentiment_score</th>\n",
       "    </tr>\n",
       "  </thead>\n",
       "  <tbody>\n",
       "    <tr>\n",
       "      <th>0</th>\n",
       "      <td>2015-01-02</td>\n",
       "      <td>-0.4019</td>\n",
       "    </tr>\n",
       "    <tr>\n",
       "      <th>1</th>\n",
       "      <td>2015-01-05</td>\n",
       "      <td>0.4404</td>\n",
       "    </tr>\n",
       "    <tr>\n",
       "      <th>2</th>\n",
       "      <td>2015-01-07</td>\n",
       "      <td>-0.5106</td>\n",
       "    </tr>\n",
       "    <tr>\n",
       "      <th>3</th>\n",
       "      <td>2015-01-09</td>\n",
       "      <td>0.0000</td>\n",
       "    </tr>\n",
       "    <tr>\n",
       "      <th>4</th>\n",
       "      <td>2015-01-12</td>\n",
       "      <td>0.0000</td>\n",
       "    </tr>\n",
       "  </tbody>\n",
       "</table>\n",
       "</div>"
      ],
      "text/plain": [
       "         date  sentiment_score\n",
       "0  2015-01-02          -0.4019\n",
       "1  2015-01-05           0.4404\n",
       "2  2015-01-07          -0.5106\n",
       "3  2015-01-09           0.0000\n",
       "4  2015-01-12           0.0000"
      ]
     },
     "execution_count": 53,
     "metadata": {},
     "output_type": "execute_result"
    }
   ],
   "source": [
    "sentiment_data.head()"
   ]
  },
  {
   "cell_type": "code",
   "execution_count": 54,
   "id": "731be273-9c09-4b9c-8265-1eb3de999094",
   "metadata": {},
   "outputs": [
    {
     "data": {
      "text/plain": [
       "(1539, 2)"
      ]
     },
     "execution_count": 54,
     "metadata": {},
     "output_type": "execute_result"
    }
   ],
   "source": [
    "sentiment_data.shape"
   ]
  },
  {
   "cell_type": "code",
   "execution_count": 55,
   "id": "ce0e44b2-4adb-4c4a-97d2-06d6b1b9e6c7",
   "metadata": {},
   "outputs": [
    {
     "name": "stdout",
     "output_type": "stream",
     "text": [
      "<class 'pandas.core.frame.DataFrame'>\n",
      "RangeIndex: 1539 entries, 0 to 1538\n",
      "Data columns (total 2 columns):\n",
      " #   Column           Non-Null Count  Dtype  \n",
      "---  ------           --------------  -----  \n",
      " 0   date             1539 non-null   object \n",
      " 1   sentiment_score  1539 non-null   float64\n",
      "dtypes: float64(1), object(1)\n",
      "memory usage: 24.2+ KB\n"
     ]
    }
   ],
   "source": [
    "sentiment_data.info()"
   ]
  },
  {
   "cell_type": "code",
   "execution_count": 56,
   "id": "ecf4964d-8ad3-4bbd-b03f-b4da50cccedf",
   "metadata": {},
   "outputs": [],
   "source": [
    "# function to change the date data type from object to date\n",
    "def changeDataType(df):\n",
    "    df['date']=pd.to_datetime(df['date'])\n",
    "    return df"
   ]
  },
  {
   "cell_type": "code",
   "execution_count": 57,
   "id": "097407fe-c360-412b-8886-52c96e0cd73e",
   "metadata": {},
   "outputs": [
    {
     "name": "stdout",
     "output_type": "stream",
     "text": [
      "<class 'pandas.core.frame.DataFrame'>\n",
      "RangeIndex: 2499 entries, 0 to 2498\n",
      "Data columns (total 2 columns):\n",
      " #   Column      Non-Null Count  Dtype         \n",
      "---  ------      --------------  -----         \n",
      " 0   date        2499 non-null   datetime64[ns]\n",
      " 1   gold_price  2499 non-null   float64       \n",
      "dtypes: datetime64[ns](1), float64(1)\n",
      "memory usage: 39.2 KB\n"
     ]
    }
   ],
   "source": [
    "gold_data = changeDataType(gold_data)\n",
    "gold_data.info()"
   ]
  },
  {
   "cell_type": "code",
   "execution_count": 58,
   "id": "e37d0575-5456-448e-ac9d-7792dd2893a8",
   "metadata": {},
   "outputs": [
    {
     "name": "stdout",
     "output_type": "stream",
     "text": [
      "<class 'pandas.core.frame.DataFrame'>\n",
      "RangeIndex: 1539 entries, 0 to 1538\n",
      "Data columns (total 2 columns):\n",
      " #   Column           Non-Null Count  Dtype         \n",
      "---  ------           --------------  -----         \n",
      " 0   date             1539 non-null   datetime64[ns]\n",
      " 1   sentiment_score  1539 non-null   float64       \n",
      "dtypes: datetime64[ns](1), float64(1)\n",
      "memory usage: 24.2 KB\n"
     ]
    }
   ],
   "source": [
    "sentiment_data = changeDataType(sentiment_data)\n",
    "sentiment_data.info()"
   ]
  },
  {
   "cell_type": "code",
   "execution_count": 59,
   "id": "070b0947-fdf0-41c2-8006-db48f65915ac",
   "metadata": {},
   "outputs": [],
   "source": [
    "# date range in consideration for the analysis\n",
    "all_dates = pd.date_range(start='2015-01-01', end='2024-10-01', freq='D')"
   ]
  },
  {
   "cell_type": "code",
   "execution_count": 60,
   "id": "a5c8eecb-e0ec-4d63-a8fe-fd35c9577854",
   "metadata": {},
   "outputs": [
    {
     "data": {
      "text/html": [
       "<div>\n",
       "<style scoped>\n",
       "    .dataframe tbody tr th:only-of-type {\n",
       "        vertical-align: middle;\n",
       "    }\n",
       "\n",
       "    .dataframe tbody tr th {\n",
       "        vertical-align: top;\n",
       "    }\n",
       "\n",
       "    .dataframe thead th {\n",
       "        text-align: right;\n",
       "    }\n",
       "</style>\n",
       "<table border=\"1\" class=\"dataframe\">\n",
       "  <thead>\n",
       "    <tr style=\"text-align: right;\">\n",
       "      <th></th>\n",
       "      <th>date</th>\n",
       "      <th>sentiment_score</th>\n",
       "    </tr>\n",
       "  </thead>\n",
       "  <tbody>\n",
       "    <tr>\n",
       "      <th>0</th>\n",
       "      <td>2015-01-01</td>\n",
       "      <td>NaN</td>\n",
       "    </tr>\n",
       "    <tr>\n",
       "      <th>1</th>\n",
       "      <td>2015-01-02</td>\n",
       "      <td>-0.4019</td>\n",
       "    </tr>\n",
       "    <tr>\n",
       "      <th>2</th>\n",
       "      <td>2015-01-03</td>\n",
       "      <td>NaN</td>\n",
       "    </tr>\n",
       "    <tr>\n",
       "      <th>3</th>\n",
       "      <td>2015-01-04</td>\n",
       "      <td>NaN</td>\n",
       "    </tr>\n",
       "    <tr>\n",
       "      <th>4</th>\n",
       "      <td>2015-01-05</td>\n",
       "      <td>0.4404</td>\n",
       "    </tr>\n",
       "  </tbody>\n",
       "</table>\n",
       "</div>"
      ],
      "text/plain": [
       "        date  sentiment_score\n",
       "0 2015-01-01              NaN\n",
       "1 2015-01-02          -0.4019\n",
       "2 2015-01-03              NaN\n",
       "3 2015-01-04              NaN\n",
       "4 2015-01-05           0.4404"
      ]
     },
     "execution_count": 60,
     "metadata": {},
     "output_type": "execute_result"
    }
   ],
   "source": [
    "# applying the data range on the sentiment data \n",
    "sentiment_data = sentiment_data.set_index('date').reindex(all_dates).rename_axis('date').reset_index()\n",
    "sentiment_data.head()"
   ]
  },
  {
   "cell_type": "code",
   "execution_count": 61,
   "id": "c2316d29-3c4d-4810-a698-f37d6948fa1a",
   "metadata": {},
   "outputs": [
    {
     "data": {
      "text/plain": [
       "(3562, 2)"
      ]
     },
     "execution_count": 61,
     "metadata": {},
     "output_type": "execute_result"
    }
   ],
   "source": [
    "sentiment_data.shape"
   ]
  },
  {
   "cell_type": "code",
   "execution_count": 62,
   "id": "8b7d6b14-53ce-4ca1-aea0-0295d2dd9ee6",
   "metadata": {},
   "outputs": [
    {
     "name": "stdout",
     "output_type": "stream",
     "text": [
      "<class 'pandas.core.frame.DataFrame'>\n",
      "Index: 2544 entries, 0 to 3561\n",
      "Data columns (total 2 columns):\n",
      " #   Column           Non-Null Count  Dtype         \n",
      "---  ------           --------------  -----         \n",
      " 0   date             2544 non-null   datetime64[ns]\n",
      " 1   sentiment_score  1222 non-null   float64       \n",
      "dtypes: datetime64[ns](1), float64(1)\n",
      "memory usage: 59.6 KB\n"
     ]
    }
   ],
   "source": [
    "# Filter out weekends (Saturday=5, Sunday=6)\n",
    "sentiment_data = sentiment_data[~sentiment_data['date'].dt.dayofweek.isin([5, 6])]\n",
    "sentiment_data.info()"
   ]
  },
  {
   "cell_type": "code",
   "execution_count": 63,
   "id": "c1bc6dbe-35ed-49de-bb1d-26e31ad6bbea",
   "metadata": {},
   "outputs": [
    {
     "data": {
      "text/plain": [
       "(2544, 3)"
      ]
     },
     "execution_count": 63,
     "metadata": {},
     "output_type": "execute_result"
    }
   ],
   "source": [
    "# combining the sentiment data and the gold data\n",
    "gold_sentiment = pd.merge(sentiment_data, gold_data, on='date', how='left')\n",
    "gold_sentiment.shape"
   ]
  },
  {
   "cell_type": "code",
   "execution_count": 64,
   "id": "8d388a10-ec0c-4c9d-9b99-d9c79521be28",
   "metadata": {},
   "outputs": [
    {
     "data": {
      "text/html": [
       "<div>\n",
       "<style scoped>\n",
       "    .dataframe tbody tr th:only-of-type {\n",
       "        vertical-align: middle;\n",
       "    }\n",
       "\n",
       "    .dataframe tbody tr th {\n",
       "        vertical-align: top;\n",
       "    }\n",
       "\n",
       "    .dataframe thead th {\n",
       "        text-align: right;\n",
       "    }\n",
       "</style>\n",
       "<table border=\"1\" class=\"dataframe\">\n",
       "  <thead>\n",
       "    <tr style=\"text-align: right;\">\n",
       "      <th></th>\n",
       "      <th>date</th>\n",
       "      <th>sentiment_score</th>\n",
       "      <th>gold_price</th>\n",
       "    </tr>\n",
       "  </thead>\n",
       "  <tbody>\n",
       "    <tr>\n",
       "      <th>0</th>\n",
       "      <td>2015-01-01</td>\n",
       "      <td>NaN</td>\n",
       "      <td>NaN</td>\n",
       "    </tr>\n",
       "    <tr>\n",
       "      <th>1</th>\n",
       "      <td>2015-01-02</td>\n",
       "      <td>-0.4019</td>\n",
       "      <td>1186.2</td>\n",
       "    </tr>\n",
       "    <tr>\n",
       "      <th>2</th>\n",
       "      <td>2015-01-05</td>\n",
       "      <td>0.4404</td>\n",
       "      <td>1204.0</td>\n",
       "    </tr>\n",
       "    <tr>\n",
       "      <th>3</th>\n",
       "      <td>2015-01-06</td>\n",
       "      <td>NaN</td>\n",
       "      <td>1219.4</td>\n",
       "    </tr>\n",
       "    <tr>\n",
       "      <th>4</th>\n",
       "      <td>2015-01-07</td>\n",
       "      <td>-0.5106</td>\n",
       "      <td>1210.7</td>\n",
       "    </tr>\n",
       "  </tbody>\n",
       "</table>\n",
       "</div>"
      ],
      "text/plain": [
       "        date  sentiment_score  gold_price\n",
       "0 2015-01-01              NaN         NaN\n",
       "1 2015-01-02          -0.4019      1186.2\n",
       "2 2015-01-05           0.4404      1204.0\n",
       "3 2015-01-06              NaN      1219.4\n",
       "4 2015-01-07          -0.5106      1210.7"
      ]
     },
     "execution_count": 64,
     "metadata": {},
     "output_type": "execute_result"
    }
   ],
   "source": [
    "gold_sentiment.head()"
   ]
  },
  {
   "cell_type": "markdown",
   "id": "5b94b1a8-744a-48ed-8276-9777e9ac271f",
   "metadata": {},
   "source": [
    "### Feature Engineering\n",
    "* Create lag features of the gold price for 1 day and 5 days after the news date"
   ]
  },
  {
   "cell_type": "code",
   "execution_count": 66,
   "id": "7a66b6a5-26e0-428f-8773-9a0bef25669c",
   "metadata": {},
   "outputs": [
    {
     "data": {
      "text/html": [
       "<div>\n",
       "<style scoped>\n",
       "    .dataframe tbody tr th:only-of-type {\n",
       "        vertical-align: middle;\n",
       "    }\n",
       "\n",
       "    .dataframe tbody tr th {\n",
       "        vertical-align: top;\n",
       "    }\n",
       "\n",
       "    .dataframe thead th {\n",
       "        text-align: right;\n",
       "    }\n",
       "</style>\n",
       "<table border=\"1\" class=\"dataframe\">\n",
       "  <thead>\n",
       "    <tr style=\"text-align: right;\">\n",
       "      <th></th>\n",
       "      <th>date</th>\n",
       "      <th>sentiment_score</th>\n",
       "      <th>gold_price</th>\n",
       "      <th>gold_price_after_1_day</th>\n",
       "    </tr>\n",
       "  </thead>\n",
       "  <tbody>\n",
       "    <tr>\n",
       "      <th>0</th>\n",
       "      <td>2015-01-01</td>\n",
       "      <td>NaN</td>\n",
       "      <td>NaN</td>\n",
       "      <td>1186.2</td>\n",
       "    </tr>\n",
       "    <tr>\n",
       "      <th>1</th>\n",
       "      <td>2015-01-02</td>\n",
       "      <td>-0.4019</td>\n",
       "      <td>1186.2</td>\n",
       "      <td>1204.0</td>\n",
       "    </tr>\n",
       "    <tr>\n",
       "      <th>2</th>\n",
       "      <td>2015-01-05</td>\n",
       "      <td>0.4404</td>\n",
       "      <td>1204.0</td>\n",
       "      <td>1219.4</td>\n",
       "    </tr>\n",
       "    <tr>\n",
       "      <th>3</th>\n",
       "      <td>2015-01-06</td>\n",
       "      <td>NaN</td>\n",
       "      <td>1219.4</td>\n",
       "      <td>1210.7</td>\n",
       "    </tr>\n",
       "    <tr>\n",
       "      <th>4</th>\n",
       "      <td>2015-01-07</td>\n",
       "      <td>-0.5106</td>\n",
       "      <td>1210.7</td>\n",
       "      <td>1208.5</td>\n",
       "    </tr>\n",
       "  </tbody>\n",
       "</table>\n",
       "</div>"
      ],
      "text/plain": [
       "        date  sentiment_score  gold_price  gold_price_after_1_day\n",
       "0 2015-01-01              NaN         NaN                  1186.2\n",
       "1 2015-01-02          -0.4019      1186.2                  1204.0\n",
       "2 2015-01-05           0.4404      1204.0                  1219.4\n",
       "3 2015-01-06              NaN      1219.4                  1210.7\n",
       "4 2015-01-07          -0.5106      1210.7                  1208.5"
      ]
     },
     "execution_count": 66,
     "metadata": {},
     "output_type": "execute_result"
    }
   ],
   "source": [
    "# creating a lag variable for the gold price to create gold price after 1 day and 5 days\n",
    "gold_sentiment['gold_price_after_1_day'] = gold_sentiment['gold_price'].shift(-1)\n",
    "gold_sentiment.head()"
   ]
  },
  {
   "cell_type": "code",
   "execution_count": 67,
   "id": "8e9ac6a0-8e32-4ad9-95fc-24719441900a",
   "metadata": {},
   "outputs": [
    {
     "name": "stdout",
     "output_type": "stream",
     "text": [
      "<class 'pandas.core.frame.DataFrame'>\n",
      "RangeIndex: 2544 entries, 0 to 2543\n",
      "Data columns (total 4 columns):\n",
      " #   Column                  Non-Null Count  Dtype         \n",
      "---  ------                  --------------  -----         \n",
      " 0   date                    2544 non-null   datetime64[ns]\n",
      " 1   sentiment_score         1222 non-null   float64       \n",
      " 2   gold_price              2499 non-null   float64       \n",
      " 3   gold_price_after_1_day  2499 non-null   float64       \n",
      "dtypes: datetime64[ns](1), float64(3)\n",
      "memory usage: 79.6 KB\n"
     ]
    }
   ],
   "source": [
    "gold_sentiment.info()"
   ]
  },
  {
   "cell_type": "code",
   "execution_count": 68,
   "id": "ee66e0ae-cc64-45f0-b81c-d2c8b3864b53",
   "metadata": {},
   "outputs": [
    {
     "data": {
      "text/plain": [
       "date                         0\n",
       "sentiment_score           1322\n",
       "gold_price                  45\n",
       "gold_price_after_1_day      45\n",
       "dtype: int64"
      ]
     },
     "execution_count": 68,
     "metadata": {},
     "output_type": "execute_result"
    }
   ],
   "source": [
    "gold_sentiment.isnull().sum()"
   ]
  },
  {
   "cell_type": "code",
   "execution_count": 69,
   "id": "ed4c5224-ceac-4bc3-8abb-dc10b269a078",
   "metadata": {},
   "outputs": [
    {
     "name": "stdout",
     "output_type": "stream",
     "text": [
      "<class 'pandas.core.frame.DataFrame'>\n",
      "Index: 1209 entries, 1 to 2543\n",
      "Data columns (total 4 columns):\n",
      " #   Column                  Non-Null Count  Dtype         \n",
      "---  ------                  --------------  -----         \n",
      " 0   date                    1209 non-null   datetime64[ns]\n",
      " 1   sentiment_score         1209 non-null   float64       \n",
      " 2   gold_price              1209 non-null   float64       \n",
      " 3   gold_price_after_1_day  1185 non-null   float64       \n",
      "dtypes: datetime64[ns](1), float64(3)\n",
      "memory usage: 47.2 KB\n"
     ]
    }
   ],
   "source": [
    "# reduce to only the date where we have sentiment data and gold data\n",
    "gold_sentiment.dropna(subset=['sentiment_score','gold_price'], inplace=True)\n",
    "gold_sentiment.info()"
   ]
  },
  {
   "cell_type": "code",
   "execution_count": 70,
   "id": "aa0a252f-75a4-4aa6-bad8-63fa7f94bf55",
   "metadata": {},
   "outputs": [
    {
     "name": "stdout",
     "output_type": "stream",
     "text": [
      "<class 'pandas.core.frame.DataFrame'>\n",
      "Index: 1209 entries, 1 to 2543\n",
      "Data columns (total 4 columns):\n",
      " #   Column                  Non-Null Count  Dtype         \n",
      "---  ------                  --------------  -----         \n",
      " 0   date                    1209 non-null   datetime64[ns]\n",
      " 1   sentiment_score         1209 non-null   float64       \n",
      " 2   gold_price              1209 non-null   float64       \n",
      " 3   gold_price_after_1_day  1209 non-null   float64       \n",
      "dtypes: datetime64[ns](1), float64(3)\n",
      "memory usage: 47.2 KB\n"
     ]
    }
   ],
   "source": [
    "# filling the null values in Gold_price_after_1_day and Gold_price_after_5_day with interpolation value\n",
    "gold_sentiment['gold_price_after_1_day'] = gold_sentiment['gold_price_after_1_day'].interpolate()\n",
    "gold_sentiment.info()"
   ]
  },
  {
   "cell_type": "code",
   "execution_count": 71,
   "id": "8dd314d2-111a-4426-947f-cd38ca768220",
   "metadata": {},
   "outputs": [
    {
     "data": {
      "text/html": [
       "<div>\n",
       "<style scoped>\n",
       "    .dataframe tbody tr th:only-of-type {\n",
       "        vertical-align: middle;\n",
       "    }\n",
       "\n",
       "    .dataframe tbody tr th {\n",
       "        vertical-align: top;\n",
       "    }\n",
       "\n",
       "    .dataframe thead th {\n",
       "        text-align: right;\n",
       "    }\n",
       "</style>\n",
       "<table border=\"1\" class=\"dataframe\">\n",
       "  <thead>\n",
       "    <tr style=\"text-align: right;\">\n",
       "      <th></th>\n",
       "      <th>date</th>\n",
       "      <th>sentiment_score</th>\n",
       "      <th>gold_price</th>\n",
       "      <th>gold_price_after_1_day</th>\n",
       "    </tr>\n",
       "  </thead>\n",
       "  <tbody>\n",
       "    <tr>\n",
       "      <th>1</th>\n",
       "      <td>2015-01-02</td>\n",
       "      <td>-0.4019</td>\n",
       "      <td>1186.2</td>\n",
       "      <td>1204.0</td>\n",
       "    </tr>\n",
       "    <tr>\n",
       "      <th>2</th>\n",
       "      <td>2015-01-05</td>\n",
       "      <td>0.4404</td>\n",
       "      <td>1204.0</td>\n",
       "      <td>1219.4</td>\n",
       "    </tr>\n",
       "    <tr>\n",
       "      <th>4</th>\n",
       "      <td>2015-01-07</td>\n",
       "      <td>-0.5106</td>\n",
       "      <td>1210.7</td>\n",
       "      <td>1208.5</td>\n",
       "    </tr>\n",
       "    <tr>\n",
       "      <th>6</th>\n",
       "      <td>2015-01-09</td>\n",
       "      <td>0.0000</td>\n",
       "      <td>1216.1</td>\n",
       "      <td>1232.8</td>\n",
       "    </tr>\n",
       "    <tr>\n",
       "      <th>7</th>\n",
       "      <td>2015-01-12</td>\n",
       "      <td>0.0000</td>\n",
       "      <td>1232.8</td>\n",
       "      <td>1234.4</td>\n",
       "    </tr>\n",
       "  </tbody>\n",
       "</table>\n",
       "</div>"
      ],
      "text/plain": [
       "        date  sentiment_score  gold_price  gold_price_after_1_day\n",
       "1 2015-01-02          -0.4019      1186.2                  1204.0\n",
       "2 2015-01-05           0.4404      1204.0                  1219.4\n",
       "4 2015-01-07          -0.5106      1210.7                  1208.5\n",
       "6 2015-01-09           0.0000      1216.1                  1232.8\n",
       "7 2015-01-12           0.0000      1232.8                  1234.4"
      ]
     },
     "execution_count": 71,
     "metadata": {},
     "output_type": "execute_result"
    }
   ],
   "source": [
    "gold_sentiment.head()"
   ]
  },
  {
   "cell_type": "code",
   "execution_count": 72,
   "id": "ae490b80-e839-4fac-b89d-0b4277f9db07",
   "metadata": {},
   "outputs": [],
   "source": [
    "gold_sentiment.to_csv('result_Data\\gold_sentiment.csv', index=False)"
   ]
  },
  {
   "cell_type": "markdown",
   "id": "e8789e70-775f-41d5-ab88-b5e13488dc24",
   "metadata": {},
   "source": [
    "## DATA MODEL - To predict gold price after one day of the news headline\n",
    "Models in consideration:\n",
    "* Linear Regression model\n",
    "* Random Forest \n",
    "* XGBoost Model\n",
    "* LSTM"
   ]
  },
  {
   "cell_type": "code",
   "execution_count": 74,
   "id": "04c64032-a9e4-413e-8c69-e0351d9f9397",
   "metadata": {},
   "outputs": [],
   "source": [
    "# Load dataset\n",
    "data = pd.read_csv(\"result_Data\\gold_sentiment.csv\")\n"
   ]
  },
  {
   "cell_type": "code",
   "execution_count": 75,
   "id": "396e0e0a-3d0b-41d3-85ff-cec7c5267610",
   "metadata": {},
   "outputs": [
    {
     "data": {
      "text/html": [
       "<div>\n",
       "<style scoped>\n",
       "    .dataframe tbody tr th:only-of-type {\n",
       "        vertical-align: middle;\n",
       "    }\n",
       "\n",
       "    .dataframe tbody tr th {\n",
       "        vertical-align: top;\n",
       "    }\n",
       "\n",
       "    .dataframe thead th {\n",
       "        text-align: right;\n",
       "    }\n",
       "</style>\n",
       "<table border=\"1\" class=\"dataframe\">\n",
       "  <thead>\n",
       "    <tr style=\"text-align: right;\">\n",
       "      <th></th>\n",
       "      <th>date</th>\n",
       "      <th>sentiment_score</th>\n",
       "      <th>gold_price</th>\n",
       "      <th>gold_price_after_1_day</th>\n",
       "    </tr>\n",
       "  </thead>\n",
       "  <tbody>\n",
       "    <tr>\n",
       "      <th>0</th>\n",
       "      <td>2015-01-02</td>\n",
       "      <td>-0.4019</td>\n",
       "      <td>1186.2</td>\n",
       "      <td>1204.0</td>\n",
       "    </tr>\n",
       "    <tr>\n",
       "      <th>1</th>\n",
       "      <td>2015-01-05</td>\n",
       "      <td>0.4404</td>\n",
       "      <td>1204.0</td>\n",
       "      <td>1219.4</td>\n",
       "    </tr>\n",
       "    <tr>\n",
       "      <th>2</th>\n",
       "      <td>2015-01-07</td>\n",
       "      <td>-0.5106</td>\n",
       "      <td>1210.7</td>\n",
       "      <td>1208.5</td>\n",
       "    </tr>\n",
       "    <tr>\n",
       "      <th>3</th>\n",
       "      <td>2015-01-09</td>\n",
       "      <td>0.0000</td>\n",
       "      <td>1216.1</td>\n",
       "      <td>1232.8</td>\n",
       "    </tr>\n",
       "    <tr>\n",
       "      <th>4</th>\n",
       "      <td>2015-01-12</td>\n",
       "      <td>0.0000</td>\n",
       "      <td>1232.8</td>\n",
       "      <td>1234.4</td>\n",
       "    </tr>\n",
       "  </tbody>\n",
       "</table>\n",
       "</div>"
      ],
      "text/plain": [
       "         date  sentiment_score  gold_price  gold_price_after_1_day\n",
       "0  2015-01-02          -0.4019      1186.2                  1204.0\n",
       "1  2015-01-05           0.4404      1204.0                  1219.4\n",
       "2  2015-01-07          -0.5106      1210.7                  1208.5\n",
       "3  2015-01-09           0.0000      1216.1                  1232.8\n",
       "4  2015-01-12           0.0000      1232.8                  1234.4"
      ]
     },
     "execution_count": 75,
     "metadata": {},
     "output_type": "execute_result"
    }
   ],
   "source": [
    "data.head()"
   ]
  },
  {
   "cell_type": "code",
   "execution_count": 76,
   "id": "dce42941-7611-49dd-8f25-8a2a903e8410",
   "metadata": {},
   "outputs": [
    {
     "data": {
      "text/plain": [
       "(1209, 4)"
      ]
     },
     "execution_count": 76,
     "metadata": {},
     "output_type": "execute_result"
    }
   ],
   "source": [
    "data.shape"
   ]
  },
  {
   "cell_type": "code",
   "execution_count": 77,
   "id": "c80b90ee-7502-4a34-abf6-724aa16c958d",
   "metadata": {},
   "outputs": [],
   "source": [
    "# Data preprocessing\n",
    "# Define features (X) and target variable (y)\n",
    "X = data.drop(columns=[\"gold_price_after_1_day\",'date'])  \n",
    "y = data[\"gold_price_after_1_day\"]  \n",
    "\n",
    "# Scale the features\n",
    "scaler = MinMaxScaler()\n",
    "X_scaled = scaler.fit_transform(X)\n",
    "\n",
    "# Train-test split\n",
    "X_train, X_test, y_train, y_test = train_test_split(X_scaled, y, test_size=0.2, random_state=42)"
   ]
  },
  {
   "cell_type": "code",
   "execution_count": 78,
   "id": "4360c31e-b822-4bb9-b000-27ed0f6a78b1",
   "metadata": {},
   "outputs": [],
   "source": [
    "# Define models\n",
    "models = {\n",
    "    \"Linear Regression\": LinearRegression(),\n",
    "    \"Random Forest\": RandomForestRegressor(random_state=42),\n",
    "    \"XGBoost\": XGBRegressor(random_state=42)\n",
    "}\n"
   ]
  },
  {
   "cell_type": "code",
   "execution_count": 79,
   "id": "f9c20da3-65e2-4324-8f6c-5a4f99c0c7f8",
   "metadata": {},
   "outputs": [],
   "source": [
    "# Function for hyperparameter tuning with cross-validation\n",
    "def tune_model(model, param_grid, X_train, y_train):\n",
    "    grid_search = GridSearchCV(estimator=model, param_grid=param_grid, \n",
    "                               cv=5, scoring='neg_mean_squared_error', n_jobs=-1)\n",
    "    grid_search.fit(X_train, y_train)\n",
    "    return grid_search.best_estimator_, -grid_search.best_score_\n",
    "\n",
    "# Hyperparameter grids\n",
    "param_grids = {\n",
    "    \"Linear Regression\": {},  # No hyperparameters to tune for plain Linear Regression\n",
    "    \"Random Forest\": {\n",
    "        \"n_estimators\": [50, 100, 200],\n",
    "        \"max_depth\": [None, 10, 20],\n",
    "        \"min_samples_split\": [2, 5, 10]\n",
    "    },\n",
    "    \"XGBoost\": {\n",
    "        \"n_estimators\": [50, 100, 200],\n",
    "        \"learning_rate\": [0.01, 0.1, 0.2],\n",
    "        \"max_depth\": [3, 6, 10]\n",
    "    }\n",
    "}\n"
   ]
  },
  {
   "cell_type": "code",
   "execution_count": 80,
   "id": "fa953b60-e0ae-4aa5-8c67-2e506e061609",
   "metadata": {},
   "outputs": [
    {
     "name": "stdout",
     "output_type": "stream",
     "text": [
      "Tuning Linear Regression...\n",
      "Best Linear Regression model: LinearRegression()\n",
      "Best CV RMSE: 15.626741178381822\n",
      "Tuning Random Forest...\n",
      "Best Random Forest model: RandomForestRegressor(min_samples_split=10, n_estimators=200, random_state=42)\n",
      "Best CV RMSE: 17.77901936250908\n",
      "Tuning XGBoost...\n",
      "Best XGBoost model: XGBRegressor(base_score=None, booster=None, callbacks=None,\n",
      "             colsample_bylevel=None, colsample_bynode=None,\n",
      "             colsample_bytree=None, device=None, early_stopping_rounds=None,\n",
      "             enable_categorical=False, eval_metric=None, feature_types=None,\n",
      "             gamma=None, grow_policy=None, importance_type=None,\n",
      "             interaction_constraints=None, learning_rate=0.1, max_bin=None,\n",
      "             max_cat_threshold=None, max_cat_to_onehot=None,\n",
      "             max_delta_step=None, max_depth=3, max_leaves=None,\n",
      "             min_child_weight=None, missing=nan, monotone_constraints=None,\n",
      "             multi_strategy=None, n_estimators=100, n_jobs=None,\n",
      "             num_parallel_tree=None, random_state=42, ...)\n",
      "Best CV RMSE: 19.226659494912937\n",
      "Linear Regression Test Results - RMSE: 16.87, R2: 0.9981, Correlation_coef: 0.9991\n",
      "Random Forest Test Results - RMSE: 18.73, R2: 0.9977, Correlation_coef: 0.9989\n",
      "XGBoost Test Results - RMSE: 18.66, R2: 0.9977, Correlation_coef: 0.9989\n",
      "Cross-Validation Results:\n",
      "Linear Regression: 15.626741178381822 (RMSE)\n",
      "Random Forest: 17.77901936250908 (RMSE)\n",
      "XGBoost: 19.226659494912937 (RMSE)\n",
      "\n",
      "Test Results:\n",
      "Linear Regression: RMSE = 16.869374501972455, R2 = 0.9981434557006936, Correlation_coef = 0.9990832797810809\n",
      "Random Forest: RMSE = 18.727052493695314, R2 = 0.9977120516678356, Correlation_coef = 0.9988577551993617\n",
      "XGBoost: RMSE = 18.664667912224616, R2 = 0.9977272697551123, Correlation_coef = 0.9988730076108114\n"
     ]
    }
   ],
   "source": [
    "# Train models with cross-validation and hyperparameter tuning\n",
    "best_models = {}\n",
    "cv_results = {}\n",
    "\n",
    "for name, model in models.items():\n",
    "    print(f\"Tuning {name}...\")\n",
    "    param_grid = param_grids.get(name, {})\n",
    "    best_model, best_cv_score = tune_model(model, param_grid, X_train, y_train)\n",
    "    best_models[name] = best_model\n",
    "    cv_results[name] = best_cv_score\n",
    "    print(f\"Best {name} model: {best_model}\")\n",
    "    print(f\"Best CV RMSE: {np.sqrt(best_cv_score)}\")\n",
    "\n",
    "# Test the final models on the test set\n",
    "test_results = {}\n",
    "for name, model in best_models.items():\n",
    "    y_pred = model.predict(X_test)\n",
    "    rmse = np.sqrt(mean_squared_error(y_test, y_pred))\n",
    "    r2 = r2_score(y_test, y_pred)\n",
    "    corr, _ = pearsonr(y_test, y_pred)\n",
    "    test_results[name] = {\"RMSE\": rmse, \"R2\": r2 , \"corr\": corr }\n",
    "    print(f\"{name} Test Results - RMSE: {rmse:.4}, R2: {r2:.4}, Correlation_coef: {corr:.4}\")\n",
    "\n",
    "# Summary of results\n",
    "print(\"Cross-Validation Results:\")\n",
    "for name, score in cv_results.items():\n",
    "    print(f\"{name}: {np.sqrt(score)} (RMSE)\")\n",
    "\n",
    "print(\"\\nTest Results:\")\n",
    "for name, results in test_results.items():\n",
    "    print(f\"{name}: RMSE = {results['RMSE']}, R2 = {results['R2']}, Correlation_coef = {results['corr']}\")\n"
   ]
  },
  {
   "cell_type": "code",
   "execution_count": 81,
   "id": "296bf937-8b7d-4840-80bb-5a539e0a7d28",
   "metadata": {},
   "outputs": [
    {
     "data": {
      "image/png": "[encoded data removed]",
      "text/plain": [
       "<Figure size 1000x600 with 1 Axes>"
      ]
     },
     "metadata": {},
     "output_type": "display_data"
    },
    {
     "data": {
      "image/png": "[encoded data removed]",
      "text/plain": [
       "<Figure size 1000x600 with 1 Axes>"
      ]
     },
     "metadata": {},
     "output_type": "display_data"
    },
    {
     "data": {
      "image/png": "[encoded data removed]",
      "text/plain": [
       "<Figure size 1000x600 with 1 Axes>"
      ]
     },
     "metadata": {},
     "output_type": "display_data"
    }
   ],
   "source": [
    "models = list(test_results.keys())\n",
    "rmse_values = [test_results[model]['RMSE'] for model in models]\n",
    "r2_values = [test_results[model]['R2'] for model in models]\n",
    "corr_values = [test_results[model]['corr'] for model in models]\n",
    "\n",
    "# Plot RMSE\n",
    "plt.figure(figsize=(10, 6))\n",
    "plt.bar(models, rmse_values, color='skyblue')\n",
    "plt.title('Model Comparison: RMSE')\n",
    "plt.ylabel('RMSE')\n",
    "plt.show()\n",
    "\n",
    "# Plot R²\n",
    "plt.figure(figsize=(10, 6))\n",
    "plt.bar(models, r2_values, color='lightgreen')\n",
    "plt.title('Model Comparison: R² Score')\n",
    "plt.ylabel('R² Score')\n",
    "plt.show()\n",
    "\n",
    "# Plot Corr\n",
    "plt.figure(figsize=(10, 6))\n",
    "plt.bar(models, corr_values, color='red')\n",
    "plt.title('Model Comparison: Correlation Score')\n",
    "plt.ylabel('Corr Score')\n",
    "plt.show()"
   ]
  },
  {
   "cell_type": "markdown",
   "id": "a3a9e5b4-d4c9-4735-9d59-8eb2882ad474",
   "metadata": {},
   "source": [
    "### Visualization: \n",
    "Ploting the actual gold price against the predicted gold price"
   ]
  },
  {
   "cell_type": "code",
   "execution_count": 83,
   "id": "952dd43a-2e5a-488d-8bd4-60bf90c1db53",
   "metadata": {},
   "outputs": [
    {
     "data": {
      "image/png": "[encoded data removed]",
      "text/plain": [
       "<Figure size 1000x600 with 1 Axes>"
      ]
     },
     "metadata": {},
     "output_type": "display_data"
    }
   ],
   "source": [
    "# Create a scatter plot of actual vs predicted\n",
    "plt.figure(figsize=(10, 6))\n",
    "plt.scatter(y_test, y_pred, color='blue', alpha=0.5)\n",
    "plt.plot([min(y_test), max(y_test)], [min(y_test), max(y_test)], color='red', linewidth=2)  # line of perfect prediction\n",
    "plt.title('Actual vs Predicted Values')\n",
    "plt.xlabel('Actual Values')\n",
    "plt.ylabel('Predicted Values')\n",
    "plt.grid(True)\n",
    "plt.show()\n"
   ]
  },
  {
   "cell_type": "markdown",
   "id": "924f6cd6-6d3e-4801-82e9-e5120a48b46a",
   "metadata": {},
   "source": [
    "* The red line represents the perfect predictions where the actual and predicted values would be exactly equal. The closer the points are to the red line, the better the predictions.\n",
    "* From the above visual, there is a close relationship between the predicted value and the actual value"
   ]
  },
  {
   "cell_type": "markdown",
   "id": "d1e488bf-8b4c-4964-b16f-2e8af4fc9a53",
   "metadata": {},
   "source": [
    "#### Residual Ploting:\n",
    "* To see how well the model is doing in terms of errors (residuals), below is the plot for the residuals (the difference between the actual and predicted values).\n",
    "* Residual plot help to visualize any patterns in the residuals, which can indicate model improvement areas. If the residuals are randomly scattered around zero, the model is likely performing well."
   ]
  },
  {
   "cell_type": "code",
   "execution_count": 86,
   "id": "27d29a1f-f416-45ba-921f-37387a2106c0",
   "metadata": {},
   "outputs": [
    {
     "data": {
      "image/png": "[encoded data removed]",
      "text/plain": [
       "<Figure size 1000x600 with 1 Axes>"
      ]
     },
     "metadata": {},
     "output_type": "display_data"
    }
   ],
   "source": [
    "# Calculate residuals\n",
    "residuals = y_test - y_pred\n",
    "\n",
    "# Plot residuals\n",
    "plt.figure(figsize=(10, 6))\n",
    "plt.scatter(y_test, residuals, color='purple', alpha=0.5)\n",
    "plt.axhline(y=0, color='red', linewidth=2)\n",
    "plt.title('Residuals Plot')\n",
    "plt.xlabel('Actual Values')\n",
    "plt.ylabel('Residuals')\n",
    "plt.grid(True)\n",
    "plt.show()\n"
   ]
  },
  {
   "cell_type": "markdown",
   "id": "08c745d7-09e4-4ce9-a679-8c04002bda40",
   "metadata": {},
   "source": [
    "### Observation\n",
    "* From the above residual ploting, we can see that there are still room for improvement for this predictive model\n",
    "* I will proceed to the next stage and add other economical variables to the fearture and see if it will improve the model performance. "
   ]
  },
  {
   "cell_type": "markdown",
   "id": "cbcee08c-8467-4e14-a3b3-2b24c1ac327d",
   "metadata": {},
   "source": [
    "#### Feature importance\n"
   ]
  },
  {
   "cell_type": "code",
   "execution_count": 89,
   "id": "d4fe6cd5-1474-45ae-9573-e102d993c154",
   "metadata": {},
   "outputs": [
    {
     "name": "stdout",
     "output_type": "stream",
     "text": [
      "[1.14159791e+00 1.63734715e+03]\n"
     ]
    }
   ],
   "source": [
    "coefficients = best_models['Linear Regression'].coef_\n",
    "print(coefficients)"
   ]
  },
  {
   "cell_type": "code",
   "execution_count": 90,
   "id": "a5ae10fc-b7c7-4c69-b2da-23d31c7dc4b5",
   "metadata": {},
   "outputs": [
    {
     "data": {
      "image/png": "[encoded data removed]",
      "text/plain": [
       "<Figure size 1000x600 with 1 Axes>"
      ]
     },
     "metadata": {},
     "output_type": "display_data"
    }
   ],
   "source": [
    "# Get feature coefficients\n",
    "coefficients = best_models['Linear Regression'].coef_\n",
    "feature_names = ['sentiment_score', 'gold_price']\n",
    "\n",
    "# Create a DataFrame to visualize\n",
    "importance_df = pd.DataFrame({'Feature': feature_names, 'Coefficient': coefficients})\n",
    "importance_df['abs_coeff'] = np.abs(importance_df['Coefficient'])  # for better sorting\n",
    "importance_df = importance_df.sort_values(by='abs_coeff', ascending=False)\n",
    "\n",
    "# Plot coefficients\n",
    "plt.figure(figsize=(10, 6))\n",
    "plt.barh(importance_df['Feature'], importance_df['abs_coeff'], color='lightgreen')\n",
    "plt.title('Feature Coefficients in Linear Regression')\n",
    "plt.xlabel('Coefficient Value')\n",
    "plt.ylabel('Feature')\n",
    "plt.gca().invert_yaxis()\n",
    "plt.show()\n"
   ]
  },
  {
   "cell_type": "markdown",
   "id": "b0a878a9-e08d-476f-b762-e05491fbe55e",
   "metadata": {},
   "source": [
    "### Table view of the actual gold price and the predicted price"
   ]
  },
  {
   "cell_type": "code",
   "execution_count": 92,
   "id": "d76363b7-ed69-4799-8877-c5b8d10d9540",
   "metadata": {},
   "outputs": [
    {
     "data": {
      "text/html": [
       "<div>\n",
       "<style scoped>\n",
       "    .dataframe tbody tr th:only-of-type {\n",
       "        vertical-align: middle;\n",
       "    }\n",
       "\n",
       "    .dataframe tbody tr th {\n",
       "        vertical-align: top;\n",
       "    }\n",
       "\n",
       "    .dataframe thead th {\n",
       "        text-align: right;\n",
       "    }\n",
       "</style>\n",
       "<table border=\"1\" class=\"dataframe\">\n",
       "  <thead>\n",
       "    <tr style=\"text-align: right;\">\n",
       "      <th></th>\n",
       "      <th>Gold Actual Price</th>\n",
       "      <th>Gold Predicted Price</th>\n",
       "      <th>diff</th>\n",
       "    </tr>\n",
       "  </thead>\n",
       "  <tbody>\n",
       "    <tr>\n",
       "      <th>101</th>\n",
       "      <td>1049.6</td>\n",
       "      <td>1080.753540</td>\n",
       "      <td>31.153540</td>\n",
       "    </tr>\n",
       "    <tr>\n",
       "      <th>432</th>\n",
       "      <td>1483.5</td>\n",
       "      <td>1499.109619</td>\n",
       "      <td>15.609619</td>\n",
       "    </tr>\n",
       "    <tr>\n",
       "      <th>309</th>\n",
       "      <td>1332.8</td>\n",
       "      <td>1329.022339</td>\n",
       "      <td>-3.777661</td>\n",
       "    </tr>\n",
       "    <tr>\n",
       "      <th>109</th>\n",
       "      <td>1089.1</td>\n",
       "      <td>1090.859131</td>\n",
       "      <td>1.759131</td>\n",
       "    </tr>\n",
       "    <tr>\n",
       "      <th>1001</th>\n",
       "      <td>2014.5</td>\n",
       "      <td>2046.369141</td>\n",
       "      <td>31.869141</td>\n",
       "    </tr>\n",
       "    <tr>\n",
       "      <th>942</th>\n",
       "      <td>1944.3</td>\n",
       "      <td>1934.715942</td>\n",
       "      <td>-9.584058</td>\n",
       "    </tr>\n",
       "    <tr>\n",
       "      <th>231</th>\n",
       "      <td>1253.9</td>\n",
       "      <td>1257.143921</td>\n",
       "      <td>3.243921</td>\n",
       "    </tr>\n",
       "    <tr>\n",
       "      <th>49</th>\n",
       "      <td>1186.9</td>\n",
       "      <td>1204.089355</td>\n",
       "      <td>17.189355</td>\n",
       "    </tr>\n",
       "    <tr>\n",
       "      <th>785</th>\n",
       "      <td>1876.6</td>\n",
       "      <td>1934.715942</td>\n",
       "      <td>58.115942</td>\n",
       "    </tr>\n",
       "    <tr>\n",
       "      <th>746</th>\n",
       "      <td>1801.5</td>\n",
       "      <td>1802.878784</td>\n",
       "      <td>1.378784</td>\n",
       "    </tr>\n",
       "  </tbody>\n",
       "</table>\n",
       "</div>"
      ],
      "text/plain": [
       "      Gold Actual Price  Gold Predicted Price       diff\n",
       "101              1049.6           1080.753540  31.153540\n",
       "432              1483.5           1499.109619  15.609619\n",
       "309              1332.8           1329.022339  -3.777661\n",
       "109              1089.1           1090.859131   1.759131\n",
       "1001             2014.5           2046.369141  31.869141\n",
       "942              1944.3           1934.715942  -9.584058\n",
       "231              1253.9           1257.143921   3.243921\n",
       "49               1186.9           1204.089355  17.189355\n",
       "785              1876.6           1934.715942  58.115942\n",
       "746              1801.5           1802.878784   1.378784"
      ]
     },
     "execution_count": 92,
     "metadata": {},
     "output_type": "execute_result"
    }
   ],
   "source": [
    "\n",
    "# Create a DataFrame to compare actual vs predicted\n",
    "comparison_df = pd.DataFrame({'Gold Actual Price': y_test, 'Gold Predicted Price': y_pred}) \n",
    "comparison_df['diff'] = comparison_df['Gold Predicted Price']-comparison_df['Gold Actual Price']\n",
    "comparison_df.head(10)"
   ]
  },
  {
   "cell_type": "code",
   "execution_count": 93,
   "id": "a1c651cf-1f9e-449e-a04a-f3f4914204a7",
   "metadata": {},
   "outputs": [
    {
     "name": "stdout",
     "output_type": "stream",
     "text": [
      "Maximum price diff : 73.1640625\n",
      "the minimum price diff: -64.263427734375\n",
      "Average price diff: -0.2421900221138984\n"
     ]
    }
   ],
   "source": [
    "price_dif = comparison_df['diff']\n",
    "print(f'Maximum price diff : {price_dif.max()}')\n",
    "print(f'the minimum price diff: {price_dif.min()}')\n",
    "print(f'Average price diff: {price_dif.mean()}')"
   ]
  },
  {
   "cell_type": "code",
   "execution_count": null,
   "id": "6ad00a80-32bd-4212-9fdc-12469a030586",
   "metadata": {},
   "outputs": [],
   "source": []
  }
 ],
 "metadata": {
  "kernelspec": {
   "display_name": "Python (tensorflow_env)",
   "language": "python",
   "name": "tensorflow_env"
  },
  "language_info": {
   "codemirror_mode": {
    "name": "ipython",
    "version": 3
   },
   "file_extension": ".py",
   "mimetype": "text/x-python",
   "name": "python",
   "nbconvert_exporter": "python",
   "pygments_lexer": "ipython3",
   "version": "3.9.18"
  }
 },
 "nbformat": 4,
 "nbformat_minor": 5
}

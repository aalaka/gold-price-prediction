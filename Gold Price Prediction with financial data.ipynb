{
 "cells": [
  {
   "cell_type": "markdown",
   "id": "c4a2022c-4d20-4415-b105-0d4a65f7500a",
   "metadata": {},
   "source": [
    "# Gold Price Prediction with Macroeconomic Indicators Data"
   ]
  },
  {
   "cell_type": "code",
   "execution_count": 3,
   "id": "5b180955-662b-46fa-b157-b14d4dfe03f7",
   "metadata": {},
   "outputs": [],
   "source": [
    "# importing all the required library\n",
    "import pandas as pd\n",
    "import numpy as np\n",
    "import os\n",
    "import datetime\n",
    "import matplotlib.pyplot as plt\n",
    "import seaborn as sns\n",
    "import matplotlib.dates as mdates\n",
    "import statsmodels.api as sm\n",
    "from statsmodels.tsa.seasonal import seasonal_decompose\n",
    "from dateutil import parser\n",
    "from sklearn.model_selection import train_test_split\n",
    "from sklearn.ensemble import RandomForestRegressor\n",
    "from sklearn.metrics import mean_squared_error, r2_score, mean_absolute_error\n",
    "from sklearn.preprocessing import MinMaxScaler\n",
    "from keras.models import Sequential\n",
    "import xgboost as xgb\n",
    "from sklearn.linear_model import Ridge\n",
    "from sklearn.model_selection import GridSearchCV\n",
    "from sklearn.linear_model import Lasso\n",
    "from sklearn.preprocessing import PolynomialFeatures\n",
    "from sklearn.linear_model import LinearRegression\n",
    "from sklearn.pipeline import make_pipeline\n",
    "from sklearn.feature_selection import RFE\n",
    "from sklearn.model_selection import cross_val_score\n",
    "from sklearn.preprocessing import StandardScaler\n",
    "from xgboost import XGBRegressor\n",
    "from scipy.stats import pearsonr\n",
    "\n",
    "import warnings\n",
    "warnings.filterwarnings('ignore')"
   ]
  },
  {
   "cell_type": "code",
   "execution_count": 4,
   "id": "549680a6-168a-44e6-a617-4b75e4edfafc",
   "metadata": {},
   "outputs": [],
   "source": [
    "# import the require dataset for the analysis\n",
    "gold_data = pd.read_csv('result_Data\\gold_dataset.csv')\n",
    "additional_features = pd.read_csv('result_Data/additional_features.csv')"
   ]
  },
  {
   "cell_type": "code",
   "execution_count": 5,
   "id": "dc918e3d-3edd-449b-88c3-937f8d5bd326",
   "metadata": {},
   "outputs": [
    {
     "data": {
      "text/html": [
       "<div>\n",
       "<style scoped>\n",
       "    .dataframe tbody tr th:only-of-type {\n",
       "        vertical-align: middle;\n",
       "    }\n",
       "\n",
       "    .dataframe tbody tr th {\n",
       "        vertical-align: top;\n",
       "    }\n",
       "\n",
       "    .dataframe thead th {\n",
       "        text-align: right;\n",
       "    }\n",
       "</style>\n",
       "<table border=\"1\" class=\"dataframe\">\n",
       "  <thead>\n",
       "    <tr style=\"text-align: right;\">\n",
       "      <th></th>\n",
       "      <th>date</th>\n",
       "      <th>gold_price</th>\n",
       "    </tr>\n",
       "  </thead>\n",
       "  <tbody>\n",
       "    <tr>\n",
       "      <th>0</th>\n",
       "      <td>2015-01-02</td>\n",
       "      <td>1186.2</td>\n",
       "    </tr>\n",
       "    <tr>\n",
       "      <th>1</th>\n",
       "      <td>2015-01-05</td>\n",
       "      <td>1204.0</td>\n",
       "    </tr>\n",
       "    <tr>\n",
       "      <th>2</th>\n",
       "      <td>2015-01-06</td>\n",
       "      <td>1219.4</td>\n",
       "    </tr>\n",
       "    <tr>\n",
       "      <th>3</th>\n",
       "      <td>2015-01-07</td>\n",
       "      <td>1210.7</td>\n",
       "    </tr>\n",
       "    <tr>\n",
       "      <th>4</th>\n",
       "      <td>2015-01-08</td>\n",
       "      <td>1208.5</td>\n",
       "    </tr>\n",
       "  </tbody>\n",
       "</table>\n",
       "</div>"
      ],
      "text/plain": [
       "         date  gold_price\n",
       "0  2015-01-02      1186.2\n",
       "1  2015-01-05      1204.0\n",
       "2  2015-01-06      1219.4\n",
       "3  2015-01-07      1210.7\n",
       "4  2015-01-08      1208.5"
      ]
     },
     "execution_count": 5,
     "metadata": {},
     "output_type": "execute_result"
    }
   ],
   "source": [
    "# first few record in the dataset\n",
    "gold_data.head()"
   ]
  },
  {
   "cell_type": "code",
   "execution_count": 6,
   "id": "aa4bbd61-ce48-4fb4-a53a-04621f46c3f2",
   "metadata": {},
   "outputs": [
    {
     "data": {
      "text/plain": [
       "(2499, 2)"
      ]
     },
     "execution_count": 6,
     "metadata": {},
     "output_type": "execute_result"
    }
   ],
   "source": [
    "gold_data.shape"
   ]
  },
  {
   "cell_type": "code",
   "execution_count": 7,
   "id": "0db340ce-4aa5-4c01-a85f-d768484376db",
   "metadata": {},
   "outputs": [
    {
     "name": "stdout",
     "output_type": "stream",
     "text": [
      "<class 'pandas.core.frame.DataFrame'>\n",
      "RangeIndex: 2499 entries, 0 to 2498\n",
      "Data columns (total 2 columns):\n",
      " #   Column      Non-Null Count  Dtype  \n",
      "---  ------      --------------  -----  \n",
      " 0   date        2499 non-null   object \n",
      " 1   gold_price  2499 non-null   float64\n",
      "dtypes: float64(1), object(1)\n",
      "memory usage: 39.2+ KB\n"
     ]
    }
   ],
   "source": [
    "gold_data.info()"
   ]
  },
  {
   "cell_type": "code",
   "execution_count": 8,
   "id": "2e5924ea-1026-4023-9452-1b5985751799",
   "metadata": {},
   "outputs": [
    {
     "data": {
      "text/html": [
       "<div>\n",
       "<style scoped>\n",
       "    .dataframe tbody tr th:only-of-type {\n",
       "        vertical-align: middle;\n",
       "    }\n",
       "\n",
       "    .dataframe tbody tr th {\n",
       "        vertical-align: top;\n",
       "    }\n",
       "\n",
       "    .dataframe thead th {\n",
       "        text-align: right;\n",
       "    }\n",
       "</style>\n",
       "<table border=\"1\" class=\"dataframe\">\n",
       "  <thead>\n",
       "    <tr style=\"text-align: right;\">\n",
       "      <th></th>\n",
       "      <th>date</th>\n",
       "      <th>usd_rate</th>\n",
       "      <th>oil_price</th>\n",
       "      <th>bond_yield_price</th>\n",
       "      <th>interest_rate</th>\n",
       "      <th>inflation_rate</th>\n",
       "    </tr>\n",
       "  </thead>\n",
       "  <tbody>\n",
       "    <tr>\n",
       "      <th>0</th>\n",
       "      <td>2015-01-02</td>\n",
       "      <td>91.08</td>\n",
       "      <td>52.69</td>\n",
       "      <td>2.114</td>\n",
       "      <td>0.12</td>\n",
       "      <td>1.71</td>\n",
       "    </tr>\n",
       "    <tr>\n",
       "      <th>1</th>\n",
       "      <td>2015-01-05</td>\n",
       "      <td>91.38</td>\n",
       "      <td>50.04</td>\n",
       "      <td>2.034</td>\n",
       "      <td>0.12</td>\n",
       "      <td>1.64</td>\n",
       "    </tr>\n",
       "    <tr>\n",
       "      <th>2</th>\n",
       "      <td>2015-01-06</td>\n",
       "      <td>91.50</td>\n",
       "      <td>47.93</td>\n",
       "      <td>1.938</td>\n",
       "      <td>0.12</td>\n",
       "      <td>1.56</td>\n",
       "    </tr>\n",
       "    <tr>\n",
       "      <th>3</th>\n",
       "      <td>2015-01-07</td>\n",
       "      <td>91.89</td>\n",
       "      <td>48.65</td>\n",
       "      <td>1.969</td>\n",
       "      <td>0.12</td>\n",
       "      <td>1.57</td>\n",
       "    </tr>\n",
       "    <tr>\n",
       "      <th>4</th>\n",
       "      <td>2015-01-08</td>\n",
       "      <td>92.37</td>\n",
       "      <td>48.79</td>\n",
       "      <td>2.018</td>\n",
       "      <td>0.12</td>\n",
       "      <td>1.62</td>\n",
       "    </tr>\n",
       "  </tbody>\n",
       "</table>\n",
       "</div>"
      ],
      "text/plain": [
       "         date  usd_rate  oil_price  bond_yield_price  interest_rate  \\\n",
       "0  2015-01-02     91.08      52.69             2.114           0.12   \n",
       "1  2015-01-05     91.38      50.04             2.034           0.12   \n",
       "2  2015-01-06     91.50      47.93             1.938           0.12   \n",
       "3  2015-01-07     91.89      48.65             1.969           0.12   \n",
       "4  2015-01-08     92.37      48.79             2.018           0.12   \n",
       "\n",
       "   inflation_rate  \n",
       "0            1.71  \n",
       "1            1.64  \n",
       "2            1.56  \n",
       "3            1.57  \n",
       "4            1.62  "
      ]
     },
     "execution_count": 8,
     "metadata": {},
     "output_type": "execute_result"
    }
   ],
   "source": [
    "# first few record in the dataset\n",
    "additional_features.head()"
   ]
  },
  {
   "cell_type": "code",
   "execution_count": 9,
   "id": "42f8a481-46e3-44ea-a4b1-c48249c52b24",
   "metadata": {},
   "outputs": [
    {
     "data": {
      "text/plain": [
       "(2429, 6)"
      ]
     },
     "execution_count": 9,
     "metadata": {},
     "output_type": "execute_result"
    }
   ],
   "source": [
    "additional_features.shape"
   ]
  },
  {
   "cell_type": "code",
   "execution_count": 10,
   "id": "1abb25bb-08cf-46eb-ba5f-cad52b16b59f",
   "metadata": {},
   "outputs": [
    {
     "name": "stdout",
     "output_type": "stream",
     "text": [
      "<class 'pandas.core.frame.DataFrame'>\n",
      "RangeIndex: 2429 entries, 0 to 2428\n",
      "Data columns (total 6 columns):\n",
      " #   Column            Non-Null Count  Dtype  \n",
      "---  ------            --------------  -----  \n",
      " 0   date              2429 non-null   object \n",
      " 1   usd_rate          2429 non-null   float64\n",
      " 2   oil_price         2429 non-null   float64\n",
      " 3   bond_yield_price  2429 non-null   float64\n",
      " 4   interest_rate     2429 non-null   float64\n",
      " 5   inflation_rate    2429 non-null   float64\n",
      "dtypes: float64(5), object(1)\n",
      "memory usage: 114.0+ KB\n"
     ]
    }
   ],
   "source": [
    "additional_features.info()"
   ]
  },
  {
   "cell_type": "code",
   "execution_count": 11,
   "id": "ecf4964d-8ad3-4bbd-b03f-b4da50cccedf",
   "metadata": {},
   "outputs": [],
   "source": [
    "# function to change the date data type from object to date\n",
    "def changeDataType(df):\n",
    "    df['date']=pd.to_datetime(df['date'])\n",
    "    return df"
   ]
  },
  {
   "cell_type": "code",
   "execution_count": 12,
   "id": "097407fe-c360-412b-8886-52c96e0cd73e",
   "metadata": {},
   "outputs": [
    {
     "name": "stdout",
     "output_type": "stream",
     "text": [
      "<class 'pandas.core.frame.DataFrame'>\n",
      "RangeIndex: 2499 entries, 0 to 2498\n",
      "Data columns (total 2 columns):\n",
      " #   Column      Non-Null Count  Dtype         \n",
      "---  ------      --------------  -----         \n",
      " 0   date        2499 non-null   datetime64[ns]\n",
      " 1   gold_price  2499 non-null   float64       \n",
      "dtypes: datetime64[ns](1), float64(1)\n",
      "memory usage: 39.2 KB\n"
     ]
    }
   ],
   "source": [
    "# apply date datatype change function\n",
    "gold_data = changeDataType(gold_data)\n",
    "gold_data.info()"
   ]
  },
  {
   "cell_type": "code",
   "execution_count": 13,
   "id": "b4dac0ad-3155-4c75-aea5-46311ff6a8e7",
   "metadata": {},
   "outputs": [
    {
     "name": "stdout",
     "output_type": "stream",
     "text": [
      "<class 'pandas.core.frame.DataFrame'>\n",
      "RangeIndex: 2429 entries, 0 to 2428\n",
      "Data columns (total 6 columns):\n",
      " #   Column            Non-Null Count  Dtype         \n",
      "---  ------            --------------  -----         \n",
      " 0   date              2429 non-null   datetime64[ns]\n",
      " 1   usd_rate          2429 non-null   float64       \n",
      " 2   oil_price         2429 non-null   float64       \n",
      " 3   bond_yield_price  2429 non-null   float64       \n",
      " 4   interest_rate     2429 non-null   float64       \n",
      " 5   inflation_rate    2429 non-null   float64       \n",
      "dtypes: datetime64[ns](1), float64(5)\n",
      "memory usage: 114.0 KB\n"
     ]
    }
   ],
   "source": [
    "additional_features = changeDataType(additional_features)\n",
    "additional_features.info()"
   ]
  },
  {
   "cell_type": "code",
   "execution_count": 14,
   "id": "070b0947-fdf0-41c2-8006-db48f65915ac",
   "metadata": {},
   "outputs": [],
   "source": [
    "# date range in consideration for the analysis\n",
    "# all_dates = pd.date_range(start='2010-01-01', end='2024-10-16', freq='D')\n",
    "all_dates = pd.date_range(start='2015-01-01', end='2024-10-16', freq='D')"
   ]
  },
  {
   "cell_type": "code",
   "execution_count": 15,
   "id": "d7598263-8c93-4c8e-8786-125ff1fad23e",
   "metadata": {},
   "outputs": [
    {
     "data": {
      "text/html": [
       "<div>\n",
       "<style scoped>\n",
       "    .dataframe tbody tr th:only-of-type {\n",
       "        vertical-align: middle;\n",
       "    }\n",
       "\n",
       "    .dataframe tbody tr th {\n",
       "        vertical-align: top;\n",
       "    }\n",
       "\n",
       "    .dataframe thead th {\n",
       "        text-align: right;\n",
       "    }\n",
       "</style>\n",
       "<table border=\"1\" class=\"dataframe\">\n",
       "  <thead>\n",
       "    <tr style=\"text-align: right;\">\n",
       "      <th></th>\n",
       "      <th>date</th>\n",
       "      <th>gold_price</th>\n",
       "    </tr>\n",
       "  </thead>\n",
       "  <tbody>\n",
       "    <tr>\n",
       "      <th>0</th>\n",
       "      <td>2015-01-01</td>\n",
       "      <td>NaN</td>\n",
       "    </tr>\n",
       "    <tr>\n",
       "      <th>1</th>\n",
       "      <td>2015-01-02</td>\n",
       "      <td>1186.2</td>\n",
       "    </tr>\n",
       "    <tr>\n",
       "      <th>2</th>\n",
       "      <td>2015-01-03</td>\n",
       "      <td>NaN</td>\n",
       "    </tr>\n",
       "    <tr>\n",
       "      <th>3</th>\n",
       "      <td>2015-01-04</td>\n",
       "      <td>NaN</td>\n",
       "    </tr>\n",
       "    <tr>\n",
       "      <th>4</th>\n",
       "      <td>2015-01-05</td>\n",
       "      <td>1204.0</td>\n",
       "    </tr>\n",
       "  </tbody>\n",
       "</table>\n",
       "</div>"
      ],
      "text/plain": [
       "        date  gold_price\n",
       "0 2015-01-01         NaN\n",
       "1 2015-01-02      1186.2\n",
       "2 2015-01-03         NaN\n",
       "3 2015-01-04         NaN\n",
       "4 2015-01-05      1204.0"
      ]
     },
     "execution_count": 15,
     "metadata": {},
     "output_type": "execute_result"
    }
   ],
   "source": [
    "# applying the data range on the sentiment data \n",
    "gold_data = gold_data.set_index('date').reindex(all_dates).rename_axis('date').reset_index()\n",
    "gold_data.head()"
   ]
  },
  {
   "cell_type": "code",
   "execution_count": 16,
   "id": "0fad4209-7345-4a4f-9321-c3e2b12c3113",
   "metadata": {},
   "outputs": [
    {
     "name": "stdout",
     "output_type": "stream",
     "text": [
      "<class 'pandas.core.frame.DataFrame'>\n",
      "Index: 2555 entries, 0 to 3576\n",
      "Data columns (total 2 columns):\n",
      " #   Column      Non-Null Count  Dtype         \n",
      "---  ------      --------------  -----         \n",
      " 0   date        2555 non-null   datetime64[ns]\n",
      " 1   gold_price  2499 non-null   float64       \n",
      "dtypes: datetime64[ns](1), float64(1)\n",
      "memory usage: 59.9 KB\n"
     ]
    }
   ],
   "source": [
    "# Filter out weekends (Saturday=5, Sunday=6)\n",
    "gold_data = gold_data[~gold_data['date'].dt.dayofweek.isin([5, 6])]\n",
    "gold_data.info()"
   ]
  },
  {
   "cell_type": "code",
   "execution_count": 17,
   "id": "c1bc6dbe-35ed-49de-bb1d-26e31ad6bbea",
   "metadata": {},
   "outputs": [
    {
     "data": {
      "text/plain": [
       "(2555, 7)"
      ]
     },
     "execution_count": 17,
     "metadata": {},
     "output_type": "execute_result"
    }
   ],
   "source": [
    "# combining the sentiment dataset and the additional features\n",
    "combine_dataset = pd.merge(gold_data, additional_features, on='date', how='left')\n",
    "combine_dataset.shape"
   ]
  },
  {
   "cell_type": "code",
   "execution_count": 18,
   "id": "b9fefac5-f975-4a91-9206-8893d4c165f3",
   "metadata": {},
   "outputs": [
    {
     "data": {
      "text/html": [
       "<div>\n",
       "<style scoped>\n",
       "    .dataframe tbody tr th:only-of-type {\n",
       "        vertical-align: middle;\n",
       "    }\n",
       "\n",
       "    .dataframe tbody tr th {\n",
       "        vertical-align: top;\n",
       "    }\n",
       "\n",
       "    .dataframe thead th {\n",
       "        text-align: right;\n",
       "    }\n",
       "</style>\n",
       "<table border=\"1\" class=\"dataframe\">\n",
       "  <thead>\n",
       "    <tr style=\"text-align: right;\">\n",
       "      <th></th>\n",
       "      <th>date</th>\n",
       "      <th>gold_price</th>\n",
       "      <th>usd_rate</th>\n",
       "      <th>oil_price</th>\n",
       "      <th>bond_yield_price</th>\n",
       "      <th>interest_rate</th>\n",
       "      <th>inflation_rate</th>\n",
       "    </tr>\n",
       "  </thead>\n",
       "  <tbody>\n",
       "    <tr>\n",
       "      <th>0</th>\n",
       "      <td>2015-01-01</td>\n",
       "      <td>NaN</td>\n",
       "      <td>NaN</td>\n",
       "      <td>NaN</td>\n",
       "      <td>NaN</td>\n",
       "      <td>NaN</td>\n",
       "      <td>NaN</td>\n",
       "    </tr>\n",
       "    <tr>\n",
       "      <th>1</th>\n",
       "      <td>2015-01-02</td>\n",
       "      <td>1186.2</td>\n",
       "      <td>91.08</td>\n",
       "      <td>52.69</td>\n",
       "      <td>2.114</td>\n",
       "      <td>0.12</td>\n",
       "      <td>1.71</td>\n",
       "    </tr>\n",
       "    <tr>\n",
       "      <th>2</th>\n",
       "      <td>2015-01-05</td>\n",
       "      <td>1204.0</td>\n",
       "      <td>91.38</td>\n",
       "      <td>50.04</td>\n",
       "      <td>2.034</td>\n",
       "      <td>0.12</td>\n",
       "      <td>1.64</td>\n",
       "    </tr>\n",
       "    <tr>\n",
       "      <th>3</th>\n",
       "      <td>2015-01-06</td>\n",
       "      <td>1219.4</td>\n",
       "      <td>91.50</td>\n",
       "      <td>47.93</td>\n",
       "      <td>1.938</td>\n",
       "      <td>0.12</td>\n",
       "      <td>1.56</td>\n",
       "    </tr>\n",
       "    <tr>\n",
       "      <th>4</th>\n",
       "      <td>2015-01-07</td>\n",
       "      <td>1210.7</td>\n",
       "      <td>91.89</td>\n",
       "      <td>48.65</td>\n",
       "      <td>1.969</td>\n",
       "      <td>0.12</td>\n",
       "      <td>1.57</td>\n",
       "    </tr>\n",
       "  </tbody>\n",
       "</table>\n",
       "</div>"
      ],
      "text/plain": [
       "        date  gold_price  usd_rate  oil_price  bond_yield_price  \\\n",
       "0 2015-01-01         NaN       NaN        NaN               NaN   \n",
       "1 2015-01-02      1186.2     91.08      52.69             2.114   \n",
       "2 2015-01-05      1204.0     91.38      50.04             2.034   \n",
       "3 2015-01-06      1219.4     91.50      47.93             1.938   \n",
       "4 2015-01-07      1210.7     91.89      48.65             1.969   \n",
       "\n",
       "   interest_rate  inflation_rate  \n",
       "0            NaN             NaN  \n",
       "1           0.12            1.71  \n",
       "2           0.12            1.64  \n",
       "3           0.12            1.56  \n",
       "4           0.12            1.57  "
      ]
     },
     "execution_count": 18,
     "metadata": {},
     "output_type": "execute_result"
    }
   ],
   "source": [
    "# combined dataset\n",
    "combine_dataset.head()"
   ]
  },
  {
   "cell_type": "markdown",
   "id": "76005789-6dbf-44f1-be9a-3417e3dcb438",
   "metadata": {},
   "source": [
    "### Feature Engineering\n",
    "* Create lag features of the gold price for 1 day and 5 days after the news date"
   ]
  },
  {
   "cell_type": "code",
   "execution_count": 20,
   "id": "7a66b6a5-26e0-428f-8773-9a0bef25669c",
   "metadata": {},
   "outputs": [
    {
     "data": {
      "text/html": [
       "<div>\n",
       "<style scoped>\n",
       "    .dataframe tbody tr th:only-of-type {\n",
       "        vertical-align: middle;\n",
       "    }\n",
       "\n",
       "    .dataframe tbody tr th {\n",
       "        vertical-align: top;\n",
       "    }\n",
       "\n",
       "    .dataframe thead th {\n",
       "        text-align: right;\n",
       "    }\n",
       "</style>\n",
       "<table border=\"1\" class=\"dataframe\">\n",
       "  <thead>\n",
       "    <tr style=\"text-align: right;\">\n",
       "      <th></th>\n",
       "      <th>date</th>\n",
       "      <th>gold_price</th>\n",
       "      <th>usd_rate</th>\n",
       "      <th>oil_price</th>\n",
       "      <th>bond_yield_price</th>\n",
       "      <th>interest_rate</th>\n",
       "      <th>inflation_rate</th>\n",
       "      <th>gold_price_after_1_day</th>\n",
       "    </tr>\n",
       "  </thead>\n",
       "  <tbody>\n",
       "    <tr>\n",
       "      <th>0</th>\n",
       "      <td>2015-01-01</td>\n",
       "      <td>NaN</td>\n",
       "      <td>NaN</td>\n",
       "      <td>NaN</td>\n",
       "      <td>NaN</td>\n",
       "      <td>NaN</td>\n",
       "      <td>NaN</td>\n",
       "      <td>1186.2</td>\n",
       "    </tr>\n",
       "    <tr>\n",
       "      <th>1</th>\n",
       "      <td>2015-01-02</td>\n",
       "      <td>1186.2</td>\n",
       "      <td>91.08</td>\n",
       "      <td>52.69</td>\n",
       "      <td>2.114</td>\n",
       "      <td>0.12</td>\n",
       "      <td>1.71</td>\n",
       "      <td>1204.0</td>\n",
       "    </tr>\n",
       "    <tr>\n",
       "      <th>2</th>\n",
       "      <td>2015-01-05</td>\n",
       "      <td>1204.0</td>\n",
       "      <td>91.38</td>\n",
       "      <td>50.04</td>\n",
       "      <td>2.034</td>\n",
       "      <td>0.12</td>\n",
       "      <td>1.64</td>\n",
       "      <td>1219.4</td>\n",
       "    </tr>\n",
       "    <tr>\n",
       "      <th>3</th>\n",
       "      <td>2015-01-06</td>\n",
       "      <td>1219.4</td>\n",
       "      <td>91.50</td>\n",
       "      <td>47.93</td>\n",
       "      <td>1.938</td>\n",
       "      <td>0.12</td>\n",
       "      <td>1.56</td>\n",
       "      <td>1210.7</td>\n",
       "    </tr>\n",
       "    <tr>\n",
       "      <th>4</th>\n",
       "      <td>2015-01-07</td>\n",
       "      <td>1210.7</td>\n",
       "      <td>91.89</td>\n",
       "      <td>48.65</td>\n",
       "      <td>1.969</td>\n",
       "      <td>0.12</td>\n",
       "      <td>1.57</td>\n",
       "      <td>1208.5</td>\n",
       "    </tr>\n",
       "  </tbody>\n",
       "</table>\n",
       "</div>"
      ],
      "text/plain": [
       "        date  gold_price  usd_rate  oil_price  bond_yield_price  \\\n",
       "0 2015-01-01         NaN       NaN        NaN               NaN   \n",
       "1 2015-01-02      1186.2     91.08      52.69             2.114   \n",
       "2 2015-01-05      1204.0     91.38      50.04             2.034   \n",
       "3 2015-01-06      1219.4     91.50      47.93             1.938   \n",
       "4 2015-01-07      1210.7     91.89      48.65             1.969   \n",
       "\n",
       "   interest_rate  inflation_rate  gold_price_after_1_day  \n",
       "0            NaN             NaN                  1186.2  \n",
       "1           0.12            1.71                  1204.0  \n",
       "2           0.12            1.64                  1219.4  \n",
       "3           0.12            1.56                  1210.7  \n",
       "4           0.12            1.57                  1208.5  "
      ]
     },
     "execution_count": 20,
     "metadata": {},
     "output_type": "execute_result"
    }
   ],
   "source": [
    "# creating a lag variable for the gold price to create gold price after 1 day and 5 days\n",
    "combine_dataset['gold_price_after_1_day'] = combine_dataset['gold_price'].shift(-1)\n",
    "combine_dataset.head()"
   ]
  },
  {
   "cell_type": "code",
   "execution_count": 21,
   "id": "ec3b219b-c248-4b1d-b6e0-a906fc5610f0",
   "metadata": {},
   "outputs": [
    {
     "data": {
      "text/plain": [
       "date                        0\n",
       "gold_price                 56\n",
       "usd_rate                  126\n",
       "oil_price                 126\n",
       "bond_yield_price          126\n",
       "interest_rate             126\n",
       "inflation_rate            126\n",
       "gold_price_after_1_day     56\n",
       "dtype: int64"
      ]
     },
     "execution_count": 21,
     "metadata": {},
     "output_type": "execute_result"
    }
   ],
   "source": [
    "combine_dataset.isnull().sum()"
   ]
  },
  {
   "cell_type": "code",
   "execution_count": 22,
   "id": "ed4c5224-ceac-4bc3-8abb-dc10b269a078",
   "metadata": {},
   "outputs": [
    {
     "name": "stdout",
     "output_type": "stream",
     "text": [
      "<class 'pandas.core.frame.DataFrame'>\n",
      "Index: 2414 entries, 1 to 2534\n",
      "Data columns (total 8 columns):\n",
      " #   Column                  Non-Null Count  Dtype         \n",
      "---  ------                  --------------  -----         \n",
      " 0   date                    2414 non-null   datetime64[ns]\n",
      " 1   gold_price              2414 non-null   float64       \n",
      " 2   usd_rate                2414 non-null   float64       \n",
      " 3   oil_price               2414 non-null   float64       \n",
      " 4   bond_yield_price        2414 non-null   float64       \n",
      " 5   interest_rate           2414 non-null   float64       \n",
      " 6   inflation_rate          2414 non-null   float64       \n",
      " 7   gold_price_after_1_day  2384 non-null   float64       \n",
      "dtypes: datetime64[ns](1), float64(7)\n",
      "memory usage: 169.7 KB\n"
     ]
    }
   ],
   "source": [
    "combine_dataset.dropna(subset=['gold_price','usd_rate'], inplace=True)\n",
    "combine_dataset.info()"
   ]
  },
  {
   "cell_type": "code",
   "execution_count": 23,
   "id": "dd3e6c51-c418-4707-8218-64740bc8bff9",
   "metadata": {},
   "outputs": [
    {
     "name": "stdout",
     "output_type": "stream",
     "text": [
      "<class 'pandas.core.frame.DataFrame'>\n",
      "Index: 2414 entries, 1 to 2534\n",
      "Data columns (total 8 columns):\n",
      " #   Column                  Non-Null Count  Dtype         \n",
      "---  ------                  --------------  -----         \n",
      " 0   date                    2414 non-null   datetime64[ns]\n",
      " 1   gold_price              2414 non-null   float64       \n",
      " 2   usd_rate                2414 non-null   float64       \n",
      " 3   oil_price               2414 non-null   float64       \n",
      " 4   bond_yield_price        2414 non-null   float64       \n",
      " 5   interest_rate           2414 non-null   float64       \n",
      " 6   inflation_rate          2414 non-null   float64       \n",
      " 7   gold_price_after_1_day  2414 non-null   float64       \n",
      "dtypes: datetime64[ns](1), float64(7)\n",
      "memory usage: 169.7 KB\n"
     ]
    }
   ],
   "source": [
    "# filling the null values in gold_price_after_1_day and Gold_price_after_5_day with interpolation value\n",
    "combine_dataset['gold_price_after_1_day'] = combine_dataset['gold_price_after_1_day'].interpolate()\n",
    "combine_dataset.info()"
   ]
  },
  {
   "cell_type": "code",
   "execution_count": 24,
   "id": "8dd314d2-111a-4426-947f-cd38ca768220",
   "metadata": {},
   "outputs": [
    {
     "data": {
      "text/html": [
       "<div>\n",
       "<style scoped>\n",
       "    .dataframe tbody tr th:only-of-type {\n",
       "        vertical-align: middle;\n",
       "    }\n",
       "\n",
       "    .dataframe tbody tr th {\n",
       "        vertical-align: top;\n",
       "    }\n",
       "\n",
       "    .dataframe thead th {\n",
       "        text-align: right;\n",
       "    }\n",
       "</style>\n",
       "<table border=\"1\" class=\"dataframe\">\n",
       "  <thead>\n",
       "    <tr style=\"text-align: right;\">\n",
       "      <th></th>\n",
       "      <th>date</th>\n",
       "      <th>gold_price</th>\n",
       "      <th>usd_rate</th>\n",
       "      <th>oil_price</th>\n",
       "      <th>bond_yield_price</th>\n",
       "      <th>interest_rate</th>\n",
       "      <th>inflation_rate</th>\n",
       "      <th>gold_price_after_1_day</th>\n",
       "    </tr>\n",
       "  </thead>\n",
       "  <tbody>\n",
       "    <tr>\n",
       "      <th>1</th>\n",
       "      <td>2015-01-02</td>\n",
       "      <td>1186.2</td>\n",
       "      <td>91.08</td>\n",
       "      <td>52.69</td>\n",
       "      <td>2.114</td>\n",
       "      <td>0.12</td>\n",
       "      <td>1.71</td>\n",
       "      <td>1204.0</td>\n",
       "    </tr>\n",
       "    <tr>\n",
       "      <th>2</th>\n",
       "      <td>2015-01-05</td>\n",
       "      <td>1204.0</td>\n",
       "      <td>91.38</td>\n",
       "      <td>50.04</td>\n",
       "      <td>2.034</td>\n",
       "      <td>0.12</td>\n",
       "      <td>1.64</td>\n",
       "      <td>1219.4</td>\n",
       "    </tr>\n",
       "    <tr>\n",
       "      <th>3</th>\n",
       "      <td>2015-01-06</td>\n",
       "      <td>1219.4</td>\n",
       "      <td>91.50</td>\n",
       "      <td>47.93</td>\n",
       "      <td>1.938</td>\n",
       "      <td>0.12</td>\n",
       "      <td>1.56</td>\n",
       "      <td>1210.7</td>\n",
       "    </tr>\n",
       "    <tr>\n",
       "      <th>4</th>\n",
       "      <td>2015-01-07</td>\n",
       "      <td>1210.7</td>\n",
       "      <td>91.89</td>\n",
       "      <td>48.65</td>\n",
       "      <td>1.969</td>\n",
       "      <td>0.12</td>\n",
       "      <td>1.57</td>\n",
       "      <td>1208.5</td>\n",
       "    </tr>\n",
       "    <tr>\n",
       "      <th>5</th>\n",
       "      <td>2015-01-08</td>\n",
       "      <td>1208.5</td>\n",
       "      <td>92.37</td>\n",
       "      <td>48.79</td>\n",
       "      <td>2.018</td>\n",
       "      <td>0.12</td>\n",
       "      <td>1.62</td>\n",
       "      <td>1216.1</td>\n",
       "    </tr>\n",
       "  </tbody>\n",
       "</table>\n",
       "</div>"
      ],
      "text/plain": [
       "        date  gold_price  usd_rate  oil_price  bond_yield_price  \\\n",
       "1 2015-01-02      1186.2     91.08      52.69             2.114   \n",
       "2 2015-01-05      1204.0     91.38      50.04             2.034   \n",
       "3 2015-01-06      1219.4     91.50      47.93             1.938   \n",
       "4 2015-01-07      1210.7     91.89      48.65             1.969   \n",
       "5 2015-01-08      1208.5     92.37      48.79             2.018   \n",
       "\n",
       "   interest_rate  inflation_rate  gold_price_after_1_day  \n",
       "1           0.12            1.71                  1204.0  \n",
       "2           0.12            1.64                  1219.4  \n",
       "3           0.12            1.56                  1210.7  \n",
       "4           0.12            1.57                  1208.5  \n",
       "5           0.12            1.62                  1216.1  "
      ]
     },
     "execution_count": 24,
     "metadata": {},
     "output_type": "execute_result"
    }
   ],
   "source": [
    "combine_dataset.head()"
   ]
  },
  {
   "cell_type": "code",
   "execution_count": 25,
   "id": "8454e12b-1688-4b22-a79c-9364ce338534",
   "metadata": {},
   "outputs": [
    {
     "data": {
      "text/plain": [
       "(2414, 8)"
      ]
     },
     "execution_count": 25,
     "metadata": {},
     "output_type": "execute_result"
    }
   ],
   "source": [
    "combine_dataset.shape"
   ]
  },
  {
   "cell_type": "code",
   "execution_count": 26,
   "id": "bed66ff0-8c1f-4515-8fb0-2e133052afa4",
   "metadata": {},
   "outputs": [],
   "source": [
    "combine_dataset.to_csv('result_Data/combined_dataset.csv', index=False)"
   ]
  },
  {
   "cell_type": "markdown",
   "id": "e8789e70-775f-41d5-ab88-b5e13488dc24",
   "metadata": {},
   "source": [
    "## DATA MODEL - To predict gold price after one day of the news headline\n",
    "Models in consideration:\n",
    "* Linear Regression model\n",
    "* Random Forest \n",
    "* XGBoost Model"
   ]
  },
  {
   "cell_type": "code",
   "execution_count": 28,
   "id": "aea68f48-cf65-418c-ad95-fb3b56463742",
   "metadata": {},
   "outputs": [],
   "source": [
    "# Load dataset\n",
    "data = pd.read_csv(\"result_Data/combined_dataset.csv\")\n"
   ]
  },
  {
   "cell_type": "code",
   "execution_count": 29,
   "id": "d1ef2114-e0a8-452d-85d7-cf36fff29efa",
   "metadata": {},
   "outputs": [
    {
     "data": {
      "text/html": [
       "<div>\n",
       "<style scoped>\n",
       "    .dataframe tbody tr th:only-of-type {\n",
       "        vertical-align: middle;\n",
       "    }\n",
       "\n",
       "    .dataframe tbody tr th {\n",
       "        vertical-align: top;\n",
       "    }\n",
       "\n",
       "    .dataframe thead th {\n",
       "        text-align: right;\n",
       "    }\n",
       "</style>\n",
       "<table border=\"1\" class=\"dataframe\">\n",
       "  <thead>\n",
       "    <tr style=\"text-align: right;\">\n",
       "      <th></th>\n",
       "      <th>date</th>\n",
       "      <th>gold_price</th>\n",
       "      <th>usd_rate</th>\n",
       "      <th>oil_price</th>\n",
       "      <th>bond_yield_price</th>\n",
       "      <th>interest_rate</th>\n",
       "      <th>inflation_rate</th>\n",
       "      <th>gold_price_after_1_day</th>\n",
       "    </tr>\n",
       "  </thead>\n",
       "  <tbody>\n",
       "    <tr>\n",
       "      <th>0</th>\n",
       "      <td>2015-01-02</td>\n",
       "      <td>1186.2</td>\n",
       "      <td>91.08</td>\n",
       "      <td>52.69</td>\n",
       "      <td>2.114</td>\n",
       "      <td>0.12</td>\n",
       "      <td>1.71</td>\n",
       "      <td>1204.0</td>\n",
       "    </tr>\n",
       "    <tr>\n",
       "      <th>1</th>\n",
       "      <td>2015-01-05</td>\n",
       "      <td>1204.0</td>\n",
       "      <td>91.38</td>\n",
       "      <td>50.04</td>\n",
       "      <td>2.034</td>\n",
       "      <td>0.12</td>\n",
       "      <td>1.64</td>\n",
       "      <td>1219.4</td>\n",
       "    </tr>\n",
       "    <tr>\n",
       "      <th>2</th>\n",
       "      <td>2015-01-06</td>\n",
       "      <td>1219.4</td>\n",
       "      <td>91.50</td>\n",
       "      <td>47.93</td>\n",
       "      <td>1.938</td>\n",
       "      <td>0.12</td>\n",
       "      <td>1.56</td>\n",
       "      <td>1210.7</td>\n",
       "    </tr>\n",
       "    <tr>\n",
       "      <th>3</th>\n",
       "      <td>2015-01-07</td>\n",
       "      <td>1210.7</td>\n",
       "      <td>91.89</td>\n",
       "      <td>48.65</td>\n",
       "      <td>1.969</td>\n",
       "      <td>0.12</td>\n",
       "      <td>1.57</td>\n",
       "      <td>1208.5</td>\n",
       "    </tr>\n",
       "    <tr>\n",
       "      <th>4</th>\n",
       "      <td>2015-01-08</td>\n",
       "      <td>1208.5</td>\n",
       "      <td>92.37</td>\n",
       "      <td>48.79</td>\n",
       "      <td>2.018</td>\n",
       "      <td>0.12</td>\n",
       "      <td>1.62</td>\n",
       "      <td>1216.1</td>\n",
       "    </tr>\n",
       "  </tbody>\n",
       "</table>\n",
       "</div>"
      ],
      "text/plain": [
       "         date  gold_price  usd_rate  oil_price  bond_yield_price  \\\n",
       "0  2015-01-02      1186.2     91.08      52.69             2.114   \n",
       "1  2015-01-05      1204.0     91.38      50.04             2.034   \n",
       "2  2015-01-06      1219.4     91.50      47.93             1.938   \n",
       "3  2015-01-07      1210.7     91.89      48.65             1.969   \n",
       "4  2015-01-08      1208.5     92.37      48.79             2.018   \n",
       "\n",
       "   interest_rate  inflation_rate  gold_price_after_1_day  \n",
       "0           0.12            1.71                  1204.0  \n",
       "1           0.12            1.64                  1219.4  \n",
       "2           0.12            1.56                  1210.7  \n",
       "3           0.12            1.57                  1208.5  \n",
       "4           0.12            1.62                  1216.1  "
      ]
     },
     "execution_count": 29,
     "metadata": {},
     "output_type": "execute_result"
    }
   ],
   "source": [
    "data.head()"
   ]
  },
  {
   "cell_type": "code",
   "execution_count": 30,
   "id": "7da266e2-737c-4c86-931c-24342bb87e76",
   "metadata": {},
   "outputs": [
    {
     "data": {
      "text/plain": [
       "(2414, 8)"
      ]
     },
     "execution_count": 30,
     "metadata": {},
     "output_type": "execute_result"
    }
   ],
   "source": [
    "data.shape"
   ]
  },
  {
   "cell_type": "code",
   "execution_count": 31,
   "id": "ee42bd0d-0fcb-4b8e-8949-9aef819d3c90",
   "metadata": {},
   "outputs": [],
   "source": [
    "# Data preprocessing\n",
    "# Define features (X) and target variable (y)\n",
    "X = data.drop(columns=[\"gold_price_after_1_day\",'date'])  \n",
    "y = data[\"gold_price_after_1_day\"]  \n",
    "\n",
    "# Scale the features\n",
    "scaler = MinMaxScaler()\n",
    "X_scaled = scaler.fit_transform(X)\n",
    "\n",
    "# Train-test split\n",
    "X_train, X_test, y_train, y_test = train_test_split(X_scaled, y, test_size=0.2, random_state=42)"
   ]
  },
  {
   "cell_type": "code",
   "execution_count": 32,
   "id": "b3cc018d-8602-4421-874e-bb45dbe4fa04",
   "metadata": {},
   "outputs": [],
   "source": [
    "# Define models\n",
    "models = {\n",
    "    \"Linear Regression\": LinearRegression(),\n",
    "    \"Random Forest\": RandomForestRegressor(random_state=42),\n",
    "    \"XGBoost\": XGBRegressor(random_state=42)\n",
    "}\n"
   ]
  },
  {
   "cell_type": "code",
   "execution_count": 33,
   "id": "8e0ded5f-4704-4253-8c32-4331896e7f2a",
   "metadata": {},
   "outputs": [],
   "source": [
    "# Function for hyperparameter tuning with cross-validation\n",
    "def tune_model(model, param_grid, X_train, y_train):\n",
    "    grid_search = GridSearchCV(estimator=model, param_grid=param_grid, \n",
    "                               cv=5, scoring='neg_mean_squared_error', n_jobs=-1)\n",
    "    grid_search.fit(X_train, y_train)\n",
    "    return grid_search.best_estimator_, -grid_search.best_score_\n",
    "\n",
    "# Hyperparameter grids\n",
    "param_grids = {\n",
    "    \"Linear Regression\": {},  # No hyperparameters to tune for plain Linear Regression\n",
    "    \"Random Forest\": {\n",
    "        \"n_estimators\": [50, 100, 200],\n",
    "        \"max_depth\": [None, 10, 20],\n",
    "        \"min_samples_split\": [2, 5, 10]\n",
    "    },\n",
    "    \"XGBoost\": {\n",
    "        \"n_estimators\": [50, 100, 200],\n",
    "        \"learning_rate\": [0.01, 0.1, 0.2],\n",
    "        \"max_depth\": [3, 6, 10]\n",
    "    }\n",
    "}\n"
   ]
  },
  {
   "cell_type": "code",
   "execution_count": 34,
   "id": "de8e22a9-5f78-4922-8971-569e7ea97824",
   "metadata": {},
   "outputs": [
    {
     "name": "stdout",
     "output_type": "stream",
     "text": [
      "Tuning Linear Regression...\n",
      "Best Linear Regression model: LinearRegression()\n",
      "Best CV RMSE: 15.347230152084002\n",
      "Tuning Random Forest...\n",
      "Best Random Forest model: RandomForestRegressor(max_depth=10, min_samples_split=10, n_estimators=200,\n",
      "                      random_state=42)\n",
      "Best CV RMSE: 16.595690209080335\n",
      "Tuning XGBoost...\n",
      "Best XGBoost model: XGBRegressor(base_score=None, booster=None, callbacks=None,\n",
      "             colsample_bylevel=None, colsample_bynode=None,\n",
      "             colsample_bytree=None, device=None, early_stopping_rounds=None,\n",
      "             enable_categorical=False, eval_metric=None, feature_types=None,\n",
      "             gamma=None, grow_policy=None, importance_type=None,\n",
      "             interaction_constraints=None, learning_rate=0.1, max_bin=None,\n",
      "             max_cat_threshold=None, max_cat_to_onehot=None,\n",
      "             max_delta_step=None, max_depth=3, max_leaves=None,\n",
      "             min_child_weight=None, missing=nan, monotone_constraints=None,\n",
      "             multi_strategy=None, n_estimators=100, n_jobs=None,\n",
      "             num_parallel_tree=None, random_state=42, ...)\n",
      "Best CV RMSE: 17.124472015347706\n",
      "Linear Regression Test Results - RMSE: 15.48, R2: 0.9982, Correlation_coef: 0.9991\n",
      "Random Forest Test Results - RMSE: 16.35, R2: 0.998, Correlation_coef: 0.999\n",
      "XGBoost Test Results - RMSE: 16.49, R2: 0.9979, Correlation_coef: 0.999\n",
      "Cross-Validation Results:\n",
      "Linear Regression: 15.347230152084002 (RMSE)\n",
      "Random Forest: 16.595690209080335 (RMSE)\n",
      "XGBoost: 17.124472015347706 (RMSE)\n",
      "\n",
      "Test Results:\n",
      "Linear Regression: RMSE = 15.479382829938569, R2 = 0.9981812388355449, Correlation_coef = 0.9990907255379914\n",
      "Random Forest: RMSE = 16.345491799061772, R2 = 0.9979720167015681, Correlation_coef = 0.9989856603526777\n",
      "XGBoost: RMSE = 16.491009739550364, R2 = 0.9979357471814202, Correlation_coef = 0.9989702331091247\n"
     ]
    }
   ],
   "source": [
    "# Train models with cross-validation and hyperparameter tuning\n",
    "best_models = {}\n",
    "cv_results = {}\n",
    "\n",
    "for name, model in models.items():\n",
    "    print(f\"Tuning {name}...\")\n",
    "    param_grid = param_grids.get(name, {})\n",
    "    best_model, best_cv_score = tune_model(model, param_grid, X_train, y_train)\n",
    "    best_models[name] = best_model\n",
    "    cv_results[name] = best_cv_score\n",
    "    print(f\"Best {name} model: {best_model}\")\n",
    "    print(f\"Best CV RMSE: {np.sqrt(best_cv_score)}\")\n",
    "\n",
    "# Test the final models on the test set\n",
    "test_results = {}\n",
    "for name, model in best_models.items():\n",
    "    y_pred = model.predict(X_test)\n",
    "    rmse = np.sqrt(mean_squared_error(y_test, y_pred))\n",
    "    r2 = r2_score(y_test, y_pred)\n",
    "    corr, _ = pearsonr(y_test, y_pred)\n",
    "    test_results[name] = {\"RMSE\": rmse, \"R2\": r2 , \"corr\": corr }\n",
    "    print(f\"{name} Test Results - RMSE: {rmse:.4}, R2: {r2:.4}, Correlation_coef: {corr:.4}\")\n",
    "\n",
    "# Summary of results\n",
    "print(\"Cross-Validation Results:\")\n",
    "for name, score in cv_results.items():\n",
    "    print(f\"{name}: {np.sqrt(score)} (RMSE)\")\n",
    "\n",
    "print(\"\\nTest Results:\")\n",
    "for name, results in test_results.items():\n",
    "    print(f\"{name}: RMSE = {results['RMSE']}, R2 = {results['R2']}, Correlation_coef = {results['corr']}\")\n"
   ]
  },
  {
   "cell_type": "code",
   "execution_count": 35,
   "id": "00587ff1-8d9c-400b-b163-898c71c79f1c",
   "metadata": {},
   "outputs": [
    {
     "data": {
      "image/png": "[encoded data removed]",
      "text/plain": [
       "<Figure size 1000x600 with 1 Axes>"
      ]
     },
     "metadata": {},
     "output_type": "display_data"
    },
    {
     "data": {
      "image/png": "[encoded data removed]",
      "text/plain": [
       "<Figure size 1000x600 with 1 Axes>"
      ]
     },
     "metadata": {},
     "output_type": "display_data"
    },
    {
     "data": {
      "image/png": "[encoded data removed]",
      "text/plain": [
       "<Figure size 1000x600 with 1 Axes>"
      ]
     },
     "metadata": {},
     "output_type": "display_data"
    }
   ],
   "source": [
    "models = list(test_results.keys())\n",
    "rmse_values = [test_results[model]['RMSE'] for model in models]\n",
    "r2_values = [test_results[model]['R2'] for model in models]\n",
    "corr_values = [test_results[model]['corr'] for model in models]\n",
    "\n",
    "# Plot RMSE\n",
    "plt.figure(figsize=(10, 6))\n",
    "plt.bar(models, rmse_values, color='skyblue')\n",
    "plt.title('Model Comparison: RMSE')\n",
    "plt.ylabel('RMSE')\n",
    "plt.show()\n",
    "\n",
    "# Plot R²\n",
    "plt.figure(figsize=(10, 6))\n",
    "plt.bar(models, r2_values, color='lightgreen')\n",
    "plt.title('Model Comparison: R² Score')\n",
    "plt.ylabel('R² Score')\n",
    "plt.show()\n",
    "\n",
    "# Plot Corr\n",
    "plt.figure(figsize=(10, 6))\n",
    "plt.bar(models, corr_values, color='red')\n",
    "plt.title('Model Comparison: Correlation Score')\n",
    "plt.ylabel('Corr Score')\n",
    "plt.show()"
   ]
  },
  {
   "cell_type": "markdown",
   "id": "a3a9e5b4-d4c9-4735-9d59-8eb2882ad474",
   "metadata": {},
   "source": [
    "### Visualization: \n",
    "Ploting the actual gold price against the predicted gold price"
   ]
  },
  {
   "cell_type": "code",
   "execution_count": 37,
   "id": "952dd43a-2e5a-488d-8bd4-60bf90c1db53",
   "metadata": {},
   "outputs": [
    {
     "data": {
      "image/png": "[encoded data removed]",
      "text/plain": [
       "<Figure size 1000x600 with 1 Axes>"
      ]
     },
     "metadata": {},
     "output_type": "display_data"
    }
   ],
   "source": [
    "# Create a scatter plot of actual vs predicted\n",
    "plt.figure(figsize=(10, 6))\n",
    "plt.scatter(y_test, y_pred, color='blue', alpha=0.5)\n",
    "plt.plot([min(y_test), max(y_test)], [min(y_test), max(y_test)], color='red', linewidth=2)  # line of perfect prediction\n",
    "plt.title('Actual vs Predicted Values')\n",
    "plt.xlabel('Actual Values')\n",
    "plt.ylabel('Predicted Values')\n",
    "plt.grid(True)\n",
    "plt.show()\n"
   ]
  },
  {
   "cell_type": "markdown",
   "id": "924f6cd6-6d3e-4801-82e9-e5120a48b46a",
   "metadata": {},
   "source": [
    "* The red line represents the perfect predictions where the actual and predicted values would be exactly equal. The closer the points are to the red line, the better the predictions.\n",
    "* From the above visual, there is a close relationship between the predicted value and the actual value"
   ]
  },
  {
   "cell_type": "markdown",
   "id": "d1e488bf-8b4c-4964-b16f-2e8af4fc9a53",
   "metadata": {},
   "source": [
    "#### Residual Ploting:\n",
    "* To see how well the model is doing in terms of errors (residuals), below is the plot for the residuals (the difference between the actual and predicted values).\n",
    "* Residual plot help to visualize any patterns in the residuals, which can indicate model improvement areas. If the residuals are randomly scattered around zero, the model is likely performing well."
   ]
  },
  {
   "cell_type": "code",
   "execution_count": 40,
   "id": "27d29a1f-f416-45ba-921f-37387a2106c0",
   "metadata": {},
   "outputs": [
    {
     "data": {
      "image/png": "[encoded data removed]",
      "text/plain": [
       "<Figure size 1000x600 with 1 Axes>"
      ]
     },
     "metadata": {},
     "output_type": "display_data"
    }
   ],
   "source": [
    "# Calculate residuals\n",
    "residuals = y_test - y_pred\n",
    "\n",
    "# Plot residuals\n",
    "plt.figure(figsize=(10, 6))\n",
    "plt.scatter(y_test, residuals, color='purple', alpha=0.5)\n",
    "plt.axhline(y=0, color='red', linewidth=2)\n",
    "plt.title('Residuals Plot')\n",
    "plt.xlabel('Actual Values')\n",
    "plt.ylabel('Residuals')\n",
    "plt.grid(True)\n",
    "plt.show()\n"
   ]
  },
  {
   "cell_type": "markdown",
   "id": "08c745d7-09e4-4ce9-a679-8c04002bda40",
   "metadata": {},
   "source": [
    "### Observation\n",
    "* From the above residual ploting, we can see that there are still room for improvement for this predictive model\n",
    "* I will proceed and add other economical variables to the fearture and see if it will improve the model performance. "
   ]
  },
  {
   "cell_type": "markdown",
   "id": "cbcee08c-8467-4e14-a3b3-2b24c1ac327d",
   "metadata": {},
   "source": [
    "#### Feature importance\n"
   ]
  },
  {
   "cell_type": "code",
   "execution_count": 43,
   "id": "9fef5034-e3eb-4b2a-9af5-6a34f00776c7",
   "metadata": {},
   "outputs": [],
   "source": [
    "coefficients = best_models['Linear Regression'].coef_\n",
    "#coefficients = lasso_best.coef_\n",
    "\n",
    "# Create a DataFrame for coefficients with feature names\n",
    "coeff_df = pd.DataFrame({\n",
    "    'Feature': X.columns,\n",
    "    'Coefficient': coefficients\n",
    "})"
   ]
  },
  {
   "cell_type": "code",
   "execution_count": 44,
   "id": "c50a6c5d-cb21-4231-a8a2-04097b47a0f8",
   "metadata": {},
   "outputs": [
    {
     "data": {
      "text/html": [
       "<div>\n",
       "<style scoped>\n",
       "    .dataframe tbody tr th:only-of-type {\n",
       "        vertical-align: middle;\n",
       "    }\n",
       "\n",
       "    .dataframe tbody tr th {\n",
       "        vertical-align: top;\n",
       "    }\n",
       "\n",
       "    .dataframe thead th {\n",
       "        text-align: right;\n",
       "    }\n",
       "</style>\n",
       "<table border=\"1\" class=\"dataframe\">\n",
       "  <thead>\n",
       "    <tr style=\"text-align: right;\">\n",
       "      <th></th>\n",
       "      <th>Feature</th>\n",
       "      <th>Coefficient</th>\n",
       "    </tr>\n",
       "  </thead>\n",
       "  <tbody>\n",
       "    <tr>\n",
       "      <th>0</th>\n",
       "      <td>gold_price</td>\n",
       "      <td>1546.737866</td>\n",
       "    </tr>\n",
       "    <tr>\n",
       "      <th>1</th>\n",
       "      <td>usd_rate</td>\n",
       "      <td>5.659755</td>\n",
       "    </tr>\n",
       "    <tr>\n",
       "      <th>2</th>\n",
       "      <td>oil_price</td>\n",
       "      <td>-10.500851</td>\n",
       "    </tr>\n",
       "    <tr>\n",
       "      <th>3</th>\n",
       "      <td>bond_yield_price</td>\n",
       "      <td>-7.825889</td>\n",
       "    </tr>\n",
       "    <tr>\n",
       "      <th>4</th>\n",
       "      <td>interest_rate</td>\n",
       "      <td>5.517107</td>\n",
       "    </tr>\n",
       "    <tr>\n",
       "      <th>5</th>\n",
       "      <td>inflation_rate</td>\n",
       "      <td>5.455975</td>\n",
       "    </tr>\n",
       "  </tbody>\n",
       "</table>\n",
       "</div>"
      ],
      "text/plain": [
       "            Feature  Coefficient\n",
       "0        gold_price  1546.737866\n",
       "1          usd_rate     5.659755\n",
       "2         oil_price   -10.500851\n",
       "3  bond_yield_price    -7.825889\n",
       "4     interest_rate     5.517107\n",
       "5    inflation_rate     5.455975"
      ]
     },
     "execution_count": 44,
     "metadata": {},
     "output_type": "execute_result"
    }
   ],
   "source": [
    "coeff_df"
   ]
  },
  {
   "cell_type": "code",
   "execution_count": 45,
   "id": "55dabc7e-bcf2-4cc2-b4ad-b3fa213151a5",
   "metadata": {},
   "outputs": [
    {
     "data": {
      "text/plain": [
       "1            usd_rate\n",
       "2           oil_price\n",
       "3    bond_yield_price\n",
       "4       interest_rate\n",
       "5      inflation_rate\n",
       "Name: Feature, dtype: object"
      ]
     },
     "execution_count": 45,
     "metadata": {},
     "output_type": "execute_result"
    }
   ],
   "source": [
    "# I will exclude the historical gold price influence on the prediction to have a good visuals of others with low values\n",
    "coeff_df.iloc[1:]['Feature']"
   ]
  },
  {
   "cell_type": "code",
   "execution_count": 46,
   "id": "a5ae10fc-b7c7-4c69-b2da-23d31c7dc4b5",
   "metadata": {},
   "outputs": [
    {
     "data": {
      "image/png": "[encoded data removed]",
      "text/plain": [
       "<Figure size 1000x600 with 1 Axes>"
      ]
     },
     "metadata": {},
     "output_type": "display_data"
    }
   ],
   "source": [
    "# Get feature coefficients\n",
    "feature_names = coeff_df.iloc[1:]['Feature']\n",
    "coefficients = coeff_df.iloc[1:]['Coefficient']\n",
    "# Create a DataFrame to visualize\n",
    "importance_df = pd.DataFrame({'Feature': feature_names, 'Coefficient': coefficients})\n",
    "importance_df['abs_coeff'] = np.abs(importance_df['Coefficient'])  # for better sorting\n",
    "importance_df = importance_df.sort_values(by='abs_coeff', ascending=False)\n",
    "\n",
    "# Plot coefficients\n",
    "plt.figure(figsize=(10, 6))\n",
    "plt.barh(importance_df['Feature'], importance_df['abs_coeff'], color='lightgreen')\n",
    "plt.title('Feature Coefficients in Linear Regression')\n",
    "plt.xlabel('Coefficient Value')\n",
    "plt.ylabel('Feature')\n",
    "plt.gca().invert_yaxis()\n",
    "plt.show()\n"
   ]
  },
  {
   "cell_type": "markdown",
   "id": "b0a878a9-e08d-476f-b762-e05491fbe55e",
   "metadata": {},
   "source": [
    "### Table view of the actual gold price and the predicted price"
   ]
  },
  {
   "cell_type": "code",
   "execution_count": 48,
   "id": "d76363b7-ed69-4799-8877-c5b8d10d9540",
   "metadata": {},
   "outputs": [
    {
     "data": {
      "text/html": [
       "<div>\n",
       "<style scoped>\n",
       "    .dataframe tbody tr th:only-of-type {\n",
       "        vertical-align: middle;\n",
       "    }\n",
       "\n",
       "    .dataframe tbody tr th {\n",
       "        vertical-align: top;\n",
       "    }\n",
       "\n",
       "    .dataframe thead th {\n",
       "        text-align: right;\n",
       "    }\n",
       "</style>\n",
       "<table border=\"1\" class=\"dataframe\">\n",
       "  <thead>\n",
       "    <tr style=\"text-align: right;\">\n",
       "      <th></th>\n",
       "      <th>Gold Actual Price</th>\n",
       "      <th>Gold Predicted Price</th>\n",
       "      <th>diff</th>\n",
       "    </tr>\n",
       "  </thead>\n",
       "  <tbody>\n",
       "    <tr>\n",
       "      <th>765</th>\n",
       "      <td>1358.0</td>\n",
       "      <td>1329.190552</td>\n",
       "      <td>-28.809448</td>\n",
       "    </tr>\n",
       "    <tr>\n",
       "      <th>2388</th>\n",
       "      <td>2457.1</td>\n",
       "      <td>2482.166992</td>\n",
       "      <td>25.066992</td>\n",
       "    </tr>\n",
       "    <tr>\n",
       "      <th>2163</th>\n",
       "      <td>1958.0</td>\n",
       "      <td>1937.842163</td>\n",
       "      <td>-20.157837</td>\n",
       "    </tr>\n",
       "    <tr>\n",
       "      <th>1681</th>\n",
       "      <td>1797.9</td>\n",
       "      <td>1797.948975</td>\n",
       "      <td>0.048975</td>\n",
       "    </tr>\n",
       "    <tr>\n",
       "      <th>1815</th>\n",
       "      <td>1894.8</td>\n",
       "      <td>1891.855591</td>\n",
       "      <td>-2.944409</td>\n",
       "    </tr>\n",
       "    <tr>\n",
       "      <th>630</th>\n",
       "      <td>1276.1</td>\n",
       "      <td>1269.341309</td>\n",
       "      <td>-6.758691</td>\n",
       "    </tr>\n",
       "    <tr>\n",
       "      <th>361</th>\n",
       "      <td>1324.7</td>\n",
       "      <td>1322.011963</td>\n",
       "      <td>-2.688037</td>\n",
       "    </tr>\n",
       "    <tr>\n",
       "      <th>1844</th>\n",
       "      <td>1852.8</td>\n",
       "      <td>1848.499146</td>\n",
       "      <td>-4.300854</td>\n",
       "    </tr>\n",
       "    <tr>\n",
       "      <th>1472</th>\n",
       "      <td>1832.1</td>\n",
       "      <td>1847.611206</td>\n",
       "      <td>15.511206</td>\n",
       "    </tr>\n",
       "    <tr>\n",
       "      <th>1594</th>\n",
       "      <td>1896.4</td>\n",
       "      <td>1904.099731</td>\n",
       "      <td>7.699731</td>\n",
       "    </tr>\n",
       "  </tbody>\n",
       "</table>\n",
       "</div>"
      ],
      "text/plain": [
       "      Gold Actual Price  Gold Predicted Price       diff\n",
       "765              1358.0           1329.190552 -28.809448\n",
       "2388             2457.1           2482.166992  25.066992\n",
       "2163             1958.0           1937.842163 -20.157837\n",
       "1681             1797.9           1797.948975   0.048975\n",
       "1815             1894.8           1891.855591  -2.944409\n",
       "630              1276.1           1269.341309  -6.758691\n",
       "361              1324.7           1322.011963  -2.688037\n",
       "1844             1852.8           1848.499146  -4.300854\n",
       "1472             1832.1           1847.611206  15.511206\n",
       "1594             1896.4           1904.099731   7.699731"
      ]
     },
     "execution_count": 48,
     "metadata": {},
     "output_type": "execute_result"
    }
   ],
   "source": [
    "# Create a DataFrame to compare actual vs predicted\n",
    "comparison_df = pd.DataFrame({'Gold Actual Price': y_test, 'Gold Predicted Price': y_pred})   #  y_pred_lr\n",
    "comparison_df['diff'] = comparison_df['Gold Predicted Price']-comparison_df['Gold Actual Price'] \n",
    "comparison_df.head(10)"
   ]
  },
  {
   "cell_type": "code",
   "execution_count": 49,
   "id": "a1c651cf-1f9e-449e-a04a-f3f4914204a7",
   "metadata": {},
   "outputs": [
    {
     "name": "stdout",
     "output_type": "stream",
     "text": [
      "Maximum price diff : 88.37204589843759\n",
      "Minimum price diff: -56.159008789062455\n",
      "Average price diff: -0.3258442312047082\n"
     ]
    }
   ],
   "source": [
    "price_dif = comparison_df['diff']\n",
    "print(f'Maximum price diff : {price_dif.max()}')\n",
    "print(f'Minimum price diff: {price_dif.min()}')\n",
    "print(f'Average price diff: {price_dif.mean()}')"
   ]
  }
 ],
 "metadata": {
  "kernelspec": {
   "display_name": "Python (tensorflow_env)",
   "language": "python",
   "name": "tensorflow_env"
  },
  "language_info": {
   "codemirror_mode": {
    "name": "ipython",
    "version": 3
   },
   "file_extension": ".py",
   "mimetype": "text/x-python",
   "name": "python",
   "nbconvert_exporter": "python",
   "pygments_lexer": "ipython3",
   "version": "3.9.18"
  }
 },
 "nbformat": 4,
 "nbformat_minor": 5
}

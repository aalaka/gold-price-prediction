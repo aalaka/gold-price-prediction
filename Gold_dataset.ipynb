{
 "cells": [
  {
   "cell_type": "markdown",
   "id": "efafd4df-9de8-43c5-abff-f95f1f65c883",
   "metadata": {},
   "source": [
    "### Gold data Collection & Pre-processing"
   ]
  },
  {
   "cell_type": "markdown",
   "id": "5fa72898-a423-41dd-af1d-1b3aab08378d",
   "metadata": {},
   "source": [
    "### Gold Price Dataset\n",
    "Below are the columns names in the dataset and their meaning\n",
    "* Date: A unique identifier for each trading day.\n",
    "* Close: Closing price of gold on the respective date.\n",
    "* Volume: Gold trading volume on the corresponding date.\n",
    "* Open: Opening price of gold on the respective date.\n",
    "* High: The highest recorded price of gold during the trading day.\n",
    "* Low: The lowest price recorded for gold in the trading day.\n"
   ]
  },
  {
   "cell_type": "code",
   "execution_count": 216,
   "id": "31a821b3-c6ff-4cab-b696-79c769aab604",
   "metadata": {},
   "outputs": [],
   "source": [
    "# importing all the required library\n",
    "import pandas as pd\n",
    "import numpy as np\n",
    "import datetime\n",
    "import matplotlib.pyplot as plt\n",
    "import seaborn as sns\n",
    "\n",
    "import warnings\n",
    "warnings.filterwarnings('ignore')"
   ]
  },
  {
   "cell_type": "code",
   "execution_count": 217,
   "id": "379633ae-59c6-485b-bff2-353c524e8522",
   "metadata": {},
   "outputs": [],
   "source": [
    "#import Gold the dataset\n",
    "gold_price = pd.read_csv('datafile/marketwatchdir/numeric_data/Gold_data.csv')"
   ]
  },
  {
   "cell_type": "code",
   "execution_count": 218,
   "id": "71dd7749-f0e6-41ef-be55-816c9798e9d7",
   "metadata": {},
   "outputs": [],
   "source": [
    "#make a copy of the gold historical price dataset\n",
    "df_gold_price = gold_price.copy()\n"
   ]
  },
  {
   "cell_type": "code",
   "execution_count": 219,
   "id": "fec5cc76-4c76-43ad-9562-06b73326efe8",
   "metadata": {},
   "outputs": [
    {
     "data": {
      "text/html": [
       "<div>\n",
       "<style scoped>\n",
       "    .dataframe tbody tr th:only-of-type {\n",
       "        vertical-align: middle;\n",
       "    }\n",
       "\n",
       "    .dataframe tbody tr th {\n",
       "        vertical-align: top;\n",
       "    }\n",
       "\n",
       "    .dataframe thead th {\n",
       "        text-align: right;\n",
       "    }\n",
       "</style>\n",
       "<table border=\"1\" class=\"dataframe\">\n",
       "  <thead>\n",
       "    <tr style=\"text-align: right;\">\n",
       "      <th></th>\n",
       "      <th>Date</th>\n",
       "      <th>Price</th>\n",
       "      <th>Open</th>\n",
       "      <th>High</th>\n",
       "      <th>Low</th>\n",
       "      <th>Vol.</th>\n",
       "      <th>Change %</th>\n",
       "    </tr>\n",
       "  </thead>\n",
       "  <tbody>\n",
       "    <tr>\n",
       "      <th>0</th>\n",
       "      <td>10/18/2024</td>\n",
       "      <td>2,736.60</td>\n",
       "      <td>2,708.75</td>\n",
       "      <td>2,737.75</td>\n",
       "      <td>2,708.05</td>\n",
       "      <td>NaN</td>\n",
       "      <td>1.07%</td>\n",
       "    </tr>\n",
       "    <tr>\n",
       "      <th>1</th>\n",
       "      <td>10/17/2024</td>\n",
       "      <td>2,707.50</td>\n",
       "      <td>2,690.40</td>\n",
       "      <td>2,712.70</td>\n",
       "      <td>2,688.20</td>\n",
       "      <td>181.82K</td>\n",
       "      <td>0.60%</td>\n",
       "    </tr>\n",
       "    <tr>\n",
       "      <th>2</th>\n",
       "      <td>10/16/2024</td>\n",
       "      <td>2,691.30</td>\n",
       "      <td>2,679.50</td>\n",
       "      <td>2,702.50</td>\n",
       "      <td>2,674.90</td>\n",
       "      <td>156.88K</td>\n",
       "      <td>0.46%</td>\n",
       "    </tr>\n",
       "    <tr>\n",
       "      <th>3</th>\n",
       "      <td>10/15/2024</td>\n",
       "      <td>2,678.90</td>\n",
       "      <td>2,663.50</td>\n",
       "      <td>2,685.90</td>\n",
       "      <td>2,654.40</td>\n",
       "      <td>160.56K</td>\n",
       "      <td>0.50%</td>\n",
       "    </tr>\n",
       "    <tr>\n",
       "      <th>4</th>\n",
       "      <td>10/14/2024</td>\n",
       "      <td>2,665.60</td>\n",
       "      <td>2,673.10</td>\n",
       "      <td>2,684.20</td>\n",
       "      <td>2,660.00</td>\n",
       "      <td>123.36K</td>\n",
       "      <td>-0.40%</td>\n",
       "    </tr>\n",
       "  </tbody>\n",
       "</table>\n",
       "</div>"
      ],
      "text/plain": [
       "         Date     Price      Open      High       Low     Vol. Change %\n",
       "0  10/18/2024  2,736.60  2,708.75  2,737.75  2,708.05      NaN    1.07%\n",
       "1  10/17/2024  2,707.50  2,690.40  2,712.70  2,688.20  181.82K    0.60%\n",
       "2  10/16/2024  2,691.30  2,679.50  2,702.50  2,674.90  156.88K    0.46%\n",
       "3  10/15/2024  2,678.90  2,663.50  2,685.90  2,654.40  160.56K    0.50%\n",
       "4  10/14/2024  2,665.60  2,673.10  2,684.20  2,660.00  123.36K   -0.40%"
      ]
     },
     "execution_count": 219,
     "metadata": {},
     "output_type": "execute_result"
    }
   ],
   "source": [
    "#display first few records on the gold_price dataframe\n",
    "df_gold_price.head()"
   ]
  },
  {
   "cell_type": "code",
   "execution_count": 220,
   "id": "4627df1e-3738-483d-9df1-57d51e51acb5",
   "metadata": {},
   "outputs": [
    {
     "data": {
      "text/plain": [
       "(3774, 7)"
      ]
     },
     "execution_count": 220,
     "metadata": {},
     "output_type": "execute_result"
    }
   ],
   "source": [
    "#display is dimension\n",
    "df_gold_price.shape"
   ]
  },
  {
   "cell_type": "code",
   "execution_count": 221,
   "id": "cc4c0ae4-6ccb-465d-bd10-73ea72c161b5",
   "metadata": {},
   "outputs": [
    {
     "name": "stdout",
     "output_type": "stream",
     "text": [
      "<class 'pandas.core.frame.DataFrame'>\n",
      "RangeIndex: 3774 entries, 0 to 3773\n",
      "Data columns (total 7 columns):\n",
      " #   Column    Non-Null Count  Dtype \n",
      "---  ------    --------------  ----- \n",
      " 0   Date      3774 non-null   object\n",
      " 1   Price     3774 non-null   object\n",
      " 2   Open      3774 non-null   object\n",
      " 3   High      3774 non-null   object\n",
      " 4   Low       3774 non-null   object\n",
      " 5   Vol.      3770 non-null   object\n",
      " 6   Change %  3774 non-null   object\n",
      "dtypes: object(7)\n",
      "memory usage: 206.5+ KB\n"
     ]
    }
   ],
   "source": [
    "df_gold_price.info()"
   ]
  },
  {
   "cell_type": "code",
   "execution_count": 222,
   "id": "5d4bfc62-b802-42ad-83bf-23f8822de93c",
   "metadata": {},
   "outputs": [
    {
     "name": "stdout",
     "output_type": "stream",
     "text": [
      "<class 'pandas.core.frame.DataFrame'>\n",
      "RangeIndex: 3774 entries, 0 to 3773\n",
      "Data columns (total 7 columns):\n",
      " #   Column    Non-Null Count  Dtype         \n",
      "---  ------    --------------  -----         \n",
      " 0   Date      3774 non-null   datetime64[ns]\n",
      " 1   Price     3774 non-null   object        \n",
      " 2   Open      3774 non-null   object        \n",
      " 3   High      3774 non-null   object        \n",
      " 4   Low       3774 non-null   object        \n",
      " 5   Vol.      3770 non-null   object        \n",
      " 6   Change %  3774 non-null   object        \n",
      "dtypes: datetime64[ns](1), object(6)\n",
      "memory usage: 206.5+ KB\n"
     ]
    }
   ],
   "source": [
    "# change the data datatype from object to datetime\n",
    "df_gold_price['Date']=pd.to_datetime(df_gold_price['Date'])\n",
    "df_gold_price.info()"
   ]
  },
  {
   "cell_type": "code",
   "execution_count": 223,
   "id": "350b1264-855a-4920-bb3c-61f3eadc84e9",
   "metadata": {},
   "outputs": [],
   "source": [
    "# date range in consideration for the analysis\n",
    "all_dates = pd.date_range(start='2015-01-01', end='2024-10-1', freq='D')\n"
   ]
  },
  {
   "cell_type": "code",
   "execution_count": 224,
   "id": "0fb4bbd9-0a8a-44a1-9280-13bc6918e113",
   "metadata": {},
   "outputs": [
    {
     "name": "stdout",
     "output_type": "stream",
     "text": [
      "           Date     Price      Open      High       Low     Vol. Change %\n",
      "0    2015-01-01       NaN       NaN       NaN       NaN      NaN      NaN\n",
      "1    2015-01-02  1,186.20  1,184.00  1,194.90  1,167.30  120.68K    0.18%\n",
      "2    2015-01-03       NaN       NaN       NaN       NaN      NaN      NaN\n",
      "3    2015-01-04       NaN       NaN       NaN       NaN      NaN      NaN\n",
      "4    2015-01-05  1,204.00  1,187.80  1,207.50  1,177.80  149.11K    1.50%\n",
      "...         ...       ...       ...       ...       ...      ...      ...\n",
      "3557 2024-09-27  2,668.10  2,695.10  2,696.90  2,665.30  196.73K   -0.55%\n",
      "3558 2024-09-28       NaN       NaN       NaN       NaN      NaN      NaN\n",
      "3559 2024-09-29       NaN       NaN       NaN       NaN      NaN      NaN\n",
      "3560 2024-09-30  2,659.40  2,680.50  2,687.70  2,646.20  173.25K   -0.33%\n",
      "3561 2024-10-01  2,690.30  2,656.10  2,694.70  2,653.80  202.76K    1.16%\n",
      "\n",
      "[3562 rows x 7 columns]\n"
     ]
    }
   ],
   "source": [
    "# applying the data range on the gold data \n",
    "df_gold_price = df_gold_price.set_index('Date').reindex(all_dates).rename_axis('Date').reset_index()\n",
    "print(df_gold_price)"
   ]
  },
  {
   "cell_type": "code",
   "execution_count": 225,
   "id": "f6facc57-d090-40f7-8c0b-5bce38edc942",
   "metadata": {},
   "outputs": [
    {
     "data": {
      "text/plain": [
       "Date           0\n",
       "Price       1061\n",
       "Open        1061\n",
       "High        1061\n",
       "Low         1061\n",
       "Vol.        1063\n",
       "Change %    1061\n",
       "dtype: int64"
      ]
     },
     "execution_count": 225,
     "metadata": {},
     "output_type": "execute_result"
    }
   ],
   "source": [
    "#check for NULL values\n",
    "df_gold_price.isnull().sum()\n"
   ]
  },
  {
   "cell_type": "code",
   "execution_count": 226,
   "id": "b6e02df9-fc87-4d8b-94df-624542c8ef6c",
   "metadata": {},
   "outputs": [],
   "source": [
    "df_gold_price.dropna(inplace=True)"
   ]
  },
  {
   "cell_type": "code",
   "execution_count": 227,
   "id": "d676064f-7c35-4beb-b793-34a83ad9ebb9",
   "metadata": {},
   "outputs": [
    {
     "data": {
      "text/html": [
       "<div>\n",
       "<style scoped>\n",
       "    .dataframe tbody tr th:only-of-type {\n",
       "        vertical-align: middle;\n",
       "    }\n",
       "\n",
       "    .dataframe tbody tr th {\n",
       "        vertical-align: top;\n",
       "    }\n",
       "\n",
       "    .dataframe thead th {\n",
       "        text-align: right;\n",
       "    }\n",
       "</style>\n",
       "<table border=\"1\" class=\"dataframe\">\n",
       "  <thead>\n",
       "    <tr style=\"text-align: right;\">\n",
       "      <th></th>\n",
       "      <th>Date</th>\n",
       "      <th>Price</th>\n",
       "      <th>Open</th>\n",
       "      <th>High</th>\n",
       "      <th>Low</th>\n",
       "      <th>Vol.</th>\n",
       "      <th>Change %</th>\n",
       "    </tr>\n",
       "  </thead>\n",
       "  <tbody>\n",
       "    <tr>\n",
       "      <th>1</th>\n",
       "      <td>2015-01-02</td>\n",
       "      <td>1,186.20</td>\n",
       "      <td>1,184.00</td>\n",
       "      <td>1,194.90</td>\n",
       "      <td>1,167.30</td>\n",
       "      <td>120.68K</td>\n",
       "      <td>0.18%</td>\n",
       "    </tr>\n",
       "    <tr>\n",
       "      <th>4</th>\n",
       "      <td>2015-01-05</td>\n",
       "      <td>1,204.00</td>\n",
       "      <td>1,187.80</td>\n",
       "      <td>1,207.50</td>\n",
       "      <td>1,177.80</td>\n",
       "      <td>149.11K</td>\n",
       "      <td>1.50%</td>\n",
       "    </tr>\n",
       "    <tr>\n",
       "      <th>5</th>\n",
       "      <td>2015-01-06</td>\n",
       "      <td>1,219.40</td>\n",
       "      <td>1,204.00</td>\n",
       "      <td>1,223.30</td>\n",
       "      <td>1,201.60</td>\n",
       "      <td>190.36K</td>\n",
       "      <td>1.28%</td>\n",
       "    </tr>\n",
       "    <tr>\n",
       "      <th>6</th>\n",
       "      <td>2015-01-07</td>\n",
       "      <td>1,210.70</td>\n",
       "      <td>1,219.00</td>\n",
       "      <td>1,219.40</td>\n",
       "      <td>1,209.10</td>\n",
       "      <td>117.09K</td>\n",
       "      <td>-0.71%</td>\n",
       "    </tr>\n",
       "    <tr>\n",
       "      <th>7</th>\n",
       "      <td>2015-01-08</td>\n",
       "      <td>1,208.50</td>\n",
       "      <td>1,211.00</td>\n",
       "      <td>1,216.80</td>\n",
       "      <td>1,204.20</td>\n",
       "      <td>122.49K</td>\n",
       "      <td>-0.18%</td>\n",
       "    </tr>\n",
       "  </tbody>\n",
       "</table>\n",
       "</div>"
      ],
      "text/plain": [
       "        Date     Price      Open      High       Low     Vol. Change %\n",
       "1 2015-01-02  1,186.20  1,184.00  1,194.90  1,167.30  120.68K    0.18%\n",
       "4 2015-01-05  1,204.00  1,187.80  1,207.50  1,177.80  149.11K    1.50%\n",
       "5 2015-01-06  1,219.40  1,204.00  1,223.30  1,201.60  190.36K    1.28%\n",
       "6 2015-01-07  1,210.70  1,219.00  1,219.40  1,209.10  117.09K   -0.71%\n",
       "7 2015-01-08  1,208.50  1,211.00  1,216.80  1,204.20  122.49K   -0.18%"
      ]
     },
     "execution_count": 227,
     "metadata": {},
     "output_type": "execute_result"
    }
   ],
   "source": [
    "df_gold_price.head()"
   ]
  },
  {
   "cell_type": "code",
   "execution_count": 228,
   "id": "faf3da8e-b43f-4249-a400-d2dcfacfbe58",
   "metadata": {},
   "outputs": [
    {
     "name": "stdout",
     "output_type": "stream",
     "text": [
      "<class 'pandas.core.frame.DataFrame'>\n",
      "Index: 2499 entries, 1 to 3561\n",
      "Data columns (total 7 columns):\n",
      " #   Column    Non-Null Count  Dtype         \n",
      "---  ------    --------------  -----         \n",
      " 0   Date      2499 non-null   datetime64[ns]\n",
      " 1   Price     2499 non-null   object        \n",
      " 2   Open      2499 non-null   object        \n",
      " 3   High      2499 non-null   object        \n",
      " 4   Low       2499 non-null   object        \n",
      " 5   Vol.      2499 non-null   object        \n",
      " 6   Change %  2499 non-null   object        \n",
      "dtypes: datetime64[ns](1), object(6)\n",
      "memory usage: 156.2+ KB\n"
     ]
    }
   ],
   "source": [
    "df_gold_price.info()"
   ]
  },
  {
   "cell_type": "code",
   "execution_count": 229,
   "id": "50596920-c71a-48dd-aa2d-8f4cba2d8bfc",
   "metadata": {},
   "outputs": [
    {
     "data": {
      "text/html": [
       "<div>\n",
       "<style scoped>\n",
       "    .dataframe tbody tr th:only-of-type {\n",
       "        vertical-align: middle;\n",
       "    }\n",
       "\n",
       "    .dataframe tbody tr th {\n",
       "        vertical-align: top;\n",
       "    }\n",
       "\n",
       "    .dataframe thead th {\n",
       "        text-align: right;\n",
       "    }\n",
       "</style>\n",
       "<table border=\"1\" class=\"dataframe\">\n",
       "  <thead>\n",
       "    <tr style=\"text-align: right;\">\n",
       "      <th></th>\n",
       "      <th>Date</th>\n",
       "      <th>Price</th>\n",
       "      <th>Open</th>\n",
       "      <th>High</th>\n",
       "      <th>Low</th>\n",
       "      <th>Vol.</th>\n",
       "      <th>Change %</th>\n",
       "    </tr>\n",
       "  </thead>\n",
       "  <tbody>\n",
       "  </tbody>\n",
       "</table>\n",
       "</div>"
      ],
      "text/plain": [
       "Empty DataFrame\n",
       "Columns: [Date, Price, Open, High, Low, Vol., Change %]\n",
       "Index: []"
      ]
     },
     "execution_count": 229,
     "metadata": {},
     "output_type": "execute_result"
    }
   ],
   "source": [
    "#check for duplicated records\n",
    "df_gold_price[df_gold_price.duplicated()]\n"
   ]
  },
  {
   "cell_type": "code",
   "execution_count": 230,
   "id": "8af5df32-5c8e-4a0d-b46e-6c046d5570d6",
   "metadata": {},
   "outputs": [],
   "source": [
    "# select the required columns \n",
    "df_gold_price= df_gold_price[['Date','Price']]"
   ]
  },
  {
   "cell_type": "code",
   "execution_count": 231,
   "id": "1e83d06b-baae-4871-91e8-62dc82afa016",
   "metadata": {},
   "outputs": [],
   "source": [
    "# renaming the column name\n",
    "df_gold_price.rename(columns={'Date':'date','Price':'gold_price'}, inplace=True)"
   ]
  },
  {
   "cell_type": "code",
   "execution_count": 232,
   "id": "cc725932-c7e8-4d4c-b09b-8f0fb6ee51c3",
   "metadata": {},
   "outputs": [
    {
     "data": {
      "text/plain": [
       "date          datetime64[ns]\n",
       "gold_price            object\n",
       "dtype: object"
      ]
     },
     "execution_count": 232,
     "metadata": {},
     "output_type": "execute_result"
    }
   ],
   "source": [
    "df_gold_price.dtypes"
   ]
  },
  {
   "cell_type": "code",
   "execution_count": 233,
   "id": "da43d5eb-2638-41f0-bf96-a256435288e8",
   "metadata": {},
   "outputs": [
    {
     "name": "stdout",
     "output_type": "stream",
     "text": [
      "<class 'pandas.core.frame.DataFrame'>\n",
      "Index: 2499 entries, 1 to 3561\n",
      "Data columns (total 2 columns):\n",
      " #   Column      Non-Null Count  Dtype         \n",
      "---  ------      --------------  -----         \n",
      " 0   date        2499 non-null   datetime64[ns]\n",
      " 1   gold_price  2499 non-null   object        \n",
      "dtypes: datetime64[ns](1), object(1)\n",
      "memory usage: 58.6+ KB\n"
     ]
    }
   ],
   "source": [
    "df_gold_price.info()"
   ]
  },
  {
   "cell_type": "code",
   "execution_count": 234,
   "id": "60b29abf-9afa-4e94-85a6-05e2ef244fb8",
   "metadata": {},
   "outputs": [],
   "source": [
    "# remove comma in the gold price value to allow convertion to float\n",
    "df_gold_price['gold_price'] = df_gold_price['gold_price'].str.replace(',','')  #remove commas"
   ]
  },
  {
   "cell_type": "code",
   "execution_count": 235,
   "id": "dc053071-01a5-49fd-a732-e75e08a3965a",
   "metadata": {},
   "outputs": [
    {
     "name": "stdout",
     "output_type": "stream",
     "text": [
      "<class 'pandas.core.frame.DataFrame'>\n",
      "Index: 2499 entries, 1 to 3561\n",
      "Data columns (total 2 columns):\n",
      " #   Column      Non-Null Count  Dtype         \n",
      "---  ------      --------------  -----         \n",
      " 0   date        2499 non-null   datetime64[ns]\n",
      " 1   gold_price  2499 non-null   float64       \n",
      "dtypes: datetime64[ns](1), float64(1)\n",
      "memory usage: 58.6 KB\n"
     ]
    }
   ],
   "source": [
    "# change the datatype from object to float\n",
    "df_gold_price['gold_price'] = pd.to_numeric(df_gold_price['gold_price'], errors = 'coerce')\n",
    "df_gold_price.info()"
   ]
  },
  {
   "cell_type": "code",
   "execution_count": 236,
   "id": "14b61480-745d-4822-8c7e-6434b40e1ba7",
   "metadata": {},
   "outputs": [],
   "source": [
    "# Function to the gold price distribution\n",
    "def visualize_numeric(df):\n",
    "    numeric_cols = df.select_dtypes(include=['float64']).columns\n",
    "    \n",
    "    # Histogram for each numeric variable\n",
    "    df[numeric_cols].hist(figsize=(8, 6), bins=20)\n",
    "    plt.suptitle('Histograms of Numeric Variables')\n",
    "    plt.show()\n",
    "\n",
    "    # Box plots for each numeric variable\n",
    "    plt.figure(figsize=(8, 6))\n",
    "    for i, col in enumerate(numeric_cols, 1):\n",
    "        plt.subplot(len(numeric_cols), 1, i)\n",
    "        sns.boxplot(x=df[col])\n",
    "        plt.title(f'Box plot of {col}')\n",
    "    plt.tight_layout()\n",
    "    plt.show()\n"
   ]
  },
  {
   "cell_type": "code",
   "execution_count": 237,
   "id": "b04d66d8-4a1b-4ae6-baae-d2167fc1f7f3",
   "metadata": {
    "scrolled": true
   },
   "outputs": [
    {
     "data": {
      "image/png": "[encoded data removed]",
      "text/plain": [
       "<Figure size 800x600 with 1 Axes>"
      ]
     },
     "metadata": {},
     "output_type": "display_data"
    },
    {
     "data": {
      "image/png": "[encoded data removed]",
      "text/plain": [
       "<Figure size 800x600 with 1 Axes>"
      ]
     },
     "metadata": {},
     "output_type": "display_data"
    }
   ],
   "source": [
    "# Call the function to visualize the gold price dataset\n",
    "visualize_numeric(df_gold_price)"
   ]
  },
  {
   "cell_type": "code",
   "execution_count": 238,
   "id": "96306774-d5a2-483f-9e56-4fa8cf88ed6f",
   "metadata": {},
   "outputs": [
    {
     "data": {
      "text/plain": [
       "(2499, 2)"
      ]
     },
     "execution_count": 238,
     "metadata": {},
     "output_type": "execute_result"
    }
   ],
   "source": [
    "df_gold_price.shape"
   ]
  },
  {
   "cell_type": "code",
   "execution_count": 239,
   "id": "b3141a3c-31eb-4ffd-9cf2-4e88212d2913",
   "metadata": {},
   "outputs": [
    {
     "data": {
      "text/html": [
       "<div>\n",
       "<style scoped>\n",
       "    .dataframe tbody tr th:only-of-type {\n",
       "        vertical-align: middle;\n",
       "    }\n",
       "\n",
       "    .dataframe tbody tr th {\n",
       "        vertical-align: top;\n",
       "    }\n",
       "\n",
       "    .dataframe thead th {\n",
       "        text-align: right;\n",
       "    }\n",
       "</style>\n",
       "<table border=\"1\" class=\"dataframe\">\n",
       "  <thead>\n",
       "    <tr style=\"text-align: right;\">\n",
       "      <th></th>\n",
       "      <th>date</th>\n",
       "      <th>gold_price</th>\n",
       "    </tr>\n",
       "  </thead>\n",
       "  <tbody>\n",
       "    <tr>\n",
       "      <th>count</th>\n",
       "      <td>2499</td>\n",
       "      <td>2499.000000</td>\n",
       "    </tr>\n",
       "    <tr>\n",
       "      <th>mean</th>\n",
       "      <td>2019-11-23 00:54:44.513805312</td>\n",
       "      <td>1582.865506</td>\n",
       "    </tr>\n",
       "    <tr>\n",
       "      <th>min</th>\n",
       "      <td>2015-01-02 00:00:00</td>\n",
       "      <td>1049.600000</td>\n",
       "    </tr>\n",
       "    <tr>\n",
       "      <th>25%</th>\n",
       "      <td>2017-06-24 12:00:00</td>\n",
       "      <td>1262.750000</td>\n",
       "    </tr>\n",
       "    <tr>\n",
       "      <th>50%</th>\n",
       "      <td>2019-11-25 00:00:00</td>\n",
       "      <td>1511.700000</td>\n",
       "    </tr>\n",
       "    <tr>\n",
       "      <th>75%</th>\n",
       "      <td>2022-04-27 12:00:00</td>\n",
       "      <td>1857.600000</td>\n",
       "    </tr>\n",
       "    <tr>\n",
       "      <th>max</th>\n",
       "      <td>2024-10-01 00:00:00</td>\n",
       "      <td>2690.300000</td>\n",
       "    </tr>\n",
       "    <tr>\n",
       "      <th>std</th>\n",
       "      <td>NaN</td>\n",
       "      <td>361.865406</td>\n",
       "    </tr>\n",
       "  </tbody>\n",
       "</table>\n",
       "</div>"
      ],
      "text/plain": [
       "                                date   gold_price\n",
       "count                           2499  2499.000000\n",
       "mean   2019-11-23 00:54:44.513805312  1582.865506\n",
       "min              2015-01-02 00:00:00  1049.600000\n",
       "25%              2017-06-24 12:00:00  1262.750000\n",
       "50%              2019-11-25 00:00:00  1511.700000\n",
       "75%              2022-04-27 12:00:00  1857.600000\n",
       "max              2024-10-01 00:00:00  2690.300000\n",
       "std                              NaN   361.865406"
      ]
     },
     "execution_count": 239,
     "metadata": {},
     "output_type": "execute_result"
    }
   ],
   "source": [
    "df_gold_price.describe()"
   ]
  },
  {
   "cell_type": "code",
   "execution_count": 240,
   "id": "3ad72911-a037-4630-8341-2ccbc9630a6d",
   "metadata": {},
   "outputs": [
    {
     "data": {
      "text/plain": [
       "<Figure size 1400x700 with 0 Axes>"
      ]
     },
     "metadata": {},
     "output_type": "display_data"
    },
    {
     "data": {
      "image/png": "[encoded data removed]",
      "text/plain": [
       "<Figure size 1400x700 with 1 Axes>"
      ]
     },
     "metadata": {},
     "output_type": "display_data"
    }
   ],
   "source": [
    "# visualization of the gold closing price over time\n",
    "plt.style.use('seaborn-v0_8-dark-palette')\n",
    "plt.figure(figsize=(14, 7))\n",
    "\n",
    "plt.figure(figsize=(14, 7))\n",
    "plt.plot(df_gold_price['date'],df_gold_price['gold_price'],label='Closing Price')\n",
    "plt.title('Gold Closing Prices Over Time')\n",
    "plt.xlabel('Date')\n",
    "plt.ylabel('Closing Price')\n",
    "plt.legend()\n",
    "plt.show();"
   ]
  },
  {
   "cell_type": "code",
   "execution_count": 241,
   "id": "d2417b77-6387-4e04-9e5d-f8c88551d15b",
   "metadata": {},
   "outputs": [
    {
     "data": {
      "text/html": [
       "<div>\n",
       "<style scoped>\n",
       "    .dataframe tbody tr th:only-of-type {\n",
       "        vertical-align: middle;\n",
       "    }\n",
       "\n",
       "    .dataframe tbody tr th {\n",
       "        vertical-align: top;\n",
       "    }\n",
       "\n",
       "    .dataframe thead th {\n",
       "        text-align: right;\n",
       "    }\n",
       "</style>\n",
       "<table border=\"1\" class=\"dataframe\">\n",
       "  <thead>\n",
       "    <tr style=\"text-align: right;\">\n",
       "      <th></th>\n",
       "      <th>date</th>\n",
       "      <th>gold_price</th>\n",
       "    </tr>\n",
       "  </thead>\n",
       "  <tbody>\n",
       "    <tr>\n",
       "      <th>1</th>\n",
       "      <td>2015-01-02</td>\n",
       "      <td>1186.2</td>\n",
       "    </tr>\n",
       "    <tr>\n",
       "      <th>4</th>\n",
       "      <td>2015-01-05</td>\n",
       "      <td>1204.0</td>\n",
       "    </tr>\n",
       "    <tr>\n",
       "      <th>5</th>\n",
       "      <td>2015-01-06</td>\n",
       "      <td>1219.4</td>\n",
       "    </tr>\n",
       "    <tr>\n",
       "      <th>6</th>\n",
       "      <td>2015-01-07</td>\n",
       "      <td>1210.7</td>\n",
       "    </tr>\n",
       "    <tr>\n",
       "      <th>7</th>\n",
       "      <td>2015-01-08</td>\n",
       "      <td>1208.5</td>\n",
       "    </tr>\n",
       "  </tbody>\n",
       "</table>\n",
       "</div>"
      ],
      "text/plain": [
       "        date  gold_price\n",
       "1 2015-01-02      1186.2\n",
       "4 2015-01-05      1204.0\n",
       "5 2015-01-06      1219.4\n",
       "6 2015-01-07      1210.7\n",
       "7 2015-01-08      1208.5"
      ]
     },
     "execution_count": 241,
     "metadata": {},
     "output_type": "execute_result"
    }
   ],
   "source": [
    "# display dataframe content\n",
    "df_gold_price.head()"
   ]
  },
  {
   "cell_type": "code",
   "execution_count": 272,
   "id": "98408cc5-37c7-4ccc-a933-0cd9adfb7bc5",
   "metadata": {},
   "outputs": [
    {
     "data": {
      "text/plain": [
       "date          0\n",
       "gold_price    0\n",
       "dtype: int64"
      ]
     },
     "execution_count": 272,
     "metadata": {},
     "output_type": "execute_result"
    }
   ],
   "source": [
    "# check for any missing values\n",
    "df_gold_price.isnull().sum()"
   ]
  },
  {
   "cell_type": "code",
   "execution_count": 243,
   "id": "62d46579-80c6-4594-b06d-143e2637024e",
   "metadata": {},
   "outputs": [],
   "source": [
    "#export the final  dataset to csv for unward analysis\n",
    "df_gold_price.to_csv('result_Data/gold_dataset.csv', index=False)"
   ]
  }
 ],
 "metadata": {
  "kernelspec": {
   "display_name": "Python 3 (ipykernel)",
   "language": "python",
   "name": "python3"
  },
  "language_info": {
   "codemirror_mode": {
    "name": "ipython",
    "version": 3
   },
   "file_extension": ".py",
   "mimetype": "text/x-python",
   "name": "python",
   "nbconvert_exporter": "python",
   "pygments_lexer": "ipython3",
   "version": "3.12.4"
  }
 },
 "nbformat": 4,
 "nbformat_minor": 5
}

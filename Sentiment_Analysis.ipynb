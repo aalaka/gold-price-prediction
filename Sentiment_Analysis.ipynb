{
 "cells": [
  {
   "cell_type": "markdown",
   "id": "4b7fbb30-1c56-498b-bc18-bfc84d655435",
   "metadata": {},
   "source": [
    "## SENTIMENT ANALYSIS OF NEWS HEADLINES\n",
    "Below are the news keywords that were used to extract the news headlines to generate the sentiment dataset\n",
    "* Gold\n",
    "* Economic crises\n",
    "* inflation\n",
    "* geopolitical event\n",
    "* interest rate\n",
    "\n"
   ]
  },
  {
   "cell_type": "markdown",
   "id": "efafd4df-9de8-43c5-abff-f95f1f65c883",
   "metadata": {},
   "source": [
    "### News headline EDA & Data Pre-processing"
   ]
  },
  {
   "cell_type": "code",
   "execution_count": 2382,
   "id": "31a821b3-c6ff-4cab-b696-79c769aab604",
   "metadata": {},
   "outputs": [],
   "source": [
    "# importing all the required library\n",
    "import pandas as pd\n",
    "import numpy as np\n",
    "import re\n",
    "import nltk\n",
    "from datetime import datetime\n",
    "import matplotlib.pyplot as plt\n",
    "import seaborn as sns\n",
    "import matplotlib.dates as mdates\n",
    "import statsmodels.api as sm\n",
    "from statsmodels.tsa.seasonal import seasonal_decompose\n",
    "from dateutil import parser\n",
    "from statsmodels.tsa.arima.model import ARIMA\n",
    "from sklearn.metrics import mean_squared_error\n",
    "from nltk.book import text2\n",
    "from sklearn.model_selection import train_test_split\n",
    "from nltk.sentiment.vader import SentimentIntensityAnalyzer\n",
    "analyser = SentimentIntensityAnalyzer()\n",
    "\n",
    "import warnings\n",
    "warnings.filterwarnings('ignore')"
   ]
  },
  {
   "cell_type": "code",
   "execution_count": 2383,
   "id": "379633ae-59c6-485b-bff2-353c524e8522",
   "metadata": {},
   "outputs": [],
   "source": [
    "# import the news headlines data and convert to dataframe\n",
    "# The collected data do not have column header\n",
    "# Defining the column headers for the news\n",
    "headers = ['headline', 'link', 'date']  # Define the column headers\n",
    "\n",
    "usd_news = pd.read_csv('datafile/marketwatchdir/data_usd_index.csv', encoding='ISO-8859-1', names=headers, header=None)\n",
    "geopolitical_event_news = pd.read_csv('datafile/marketwatchdir/data_geopolitical_event.csv', encoding='ISO-8859-1', names=headers, header=None)\n",
    "inflation_news = pd.read_csv('datafile/marketwatchdir/data_inflation.csv', encoding='ISO-8859-1', names=headers, header=None)\n",
    "interest_rates_news = pd.read_csv('datafile/marketwatchdir/data_interest_rate.csv', encoding='ISO-8859-1', names=headers, header=None)\n",
    "gold_news = pd.read_csv('datafile/marketwatchdir/data_GOLD.csv', encoding='ISO-8859-1', names=headers, header=None)\n",
    "economic_crisis_news = pd.read_csv('datafile/marketwatchdir/data.csv', encoding='ISO-8859-1', names=headers, header=None)"
   ]
  },
  {
   "cell_type": "markdown",
   "id": "c344ece5-62d5-44d3-85d4-a0a4c7819626",
   "metadata": {},
   "source": [
    "#### Overview of all the news headline data"
   ]
  },
  {
   "cell_type": "code",
   "execution_count": 2385,
   "id": "9cd6f373-4355-4e9f-88c3-3a4e0ce73887",
   "metadata": {},
   "outputs": [
    {
     "data": {
      "text/html": [
       "<div>\n",
       "<style scoped>\n",
       "    .dataframe tbody tr th:only-of-type {\n",
       "        vertical-align: middle;\n",
       "    }\n",
       "\n",
       "    .dataframe tbody tr th {\n",
       "        vertical-align: top;\n",
       "    }\n",
       "\n",
       "    .dataframe thead th {\n",
       "        text-align: right;\n",
       "    }\n",
       "</style>\n",
       "<table border=\"1\" class=\"dataframe\">\n",
       "  <thead>\n",
       "    <tr style=\"text-align: right;\">\n",
       "      <th></th>\n",
       "      <th>headline</th>\n",
       "      <th>link</th>\n",
       "      <th>date</th>\n",
       "    </tr>\n",
       "  </thead>\n",
       "  <tbody>\n",
       "    <tr>\n",
       "      <th>0</th>\n",
       "      <td>Heres how bond ETFs fared as investors parsed...</td>\n",
       "      <td>https://www.marketwatch.com/story/heres-how-bo...</td>\n",
       "      <td>Oct. 10, 2024 at 6:52 p.m. ET</td>\n",
       "    </tr>\n",
       "    <tr>\n",
       "      <th>1</th>\n",
       "      <td>Emerging markets have surged. Why JPMorgan say...</td>\n",
       "      <td>https://www.marketwatch.com/story/emerging-mar...</td>\n",
       "      <td>Sep. 30, 2024 at 9:41 a.m. ET</td>\n",
       "    </tr>\n",
       "    <tr>\n",
       "      <th>2</th>\n",
       "      <td>Gold is giving you a once-in-a-generation buyi...</td>\n",
       "      <td>https://www.marketwatch.com/story/gold-is-givi...</td>\n",
       "      <td>Sep. 21, 2024 at 12:16 p.m. ET</td>\n",
       "    </tr>\n",
       "    <tr>\n",
       "      <th>3</th>\n",
       "      <td>High-yield bond ETF rallies after Fed rate cut...</td>\n",
       "      <td>https://www.marketwatch.com/story/high-yield-b...</td>\n",
       "      <td>Sep. 19, 2024 at 6:31 p.m. ET</td>\n",
       "    </tr>\n",
       "    <tr>\n",
       "      <th>4</th>\n",
       "      <td>The U.S. dollar is weakening ahead of Fed rate...</td>\n",
       "      <td>https://www.marketwatch.com/story/the-u-s-doll...</td>\n",
       "      <td>Sep. 18, 2024 at 5:34 p.m. ET</td>\n",
       "    </tr>\n",
       "  </tbody>\n",
       "</table>\n",
       "</div>"
      ],
      "text/plain": [
       "                                            headline  \\\n",
       "0  Heres how bond ETFs fared as investors parsed...   \n",
       "1  Emerging markets have surged. Why JPMorgan say...   \n",
       "2  Gold is giving you a once-in-a-generation buyi...   \n",
       "3  High-yield bond ETF rallies after Fed rate cut...   \n",
       "4  The U.S. dollar is weakening ahead of Fed rate...   \n",
       "\n",
       "                                                link  \\\n",
       "0  https://www.marketwatch.com/story/heres-how-bo...   \n",
       "1  https://www.marketwatch.com/story/emerging-mar...   \n",
       "2  https://www.marketwatch.com/story/gold-is-givi...   \n",
       "3  https://www.marketwatch.com/story/high-yield-b...   \n",
       "4  https://www.marketwatch.com/story/the-u-s-doll...   \n",
       "\n",
       "                             date  \n",
       "0   Oct. 10, 2024 at 6:52 p.m. ET  \n",
       "1   Sep. 30, 2024 at 9:41 a.m. ET  \n",
       "2  Sep. 21, 2024 at 12:16 p.m. ET  \n",
       "3   Sep. 19, 2024 at 6:31 p.m. ET  \n",
       "4   Sep. 18, 2024 at 5:34 p.m. ET  "
      ]
     },
     "execution_count": 2385,
     "metadata": {},
     "output_type": "execute_result"
    }
   ],
   "source": [
    "# first 5 records of news headlines on USD\n",
    "usd_news.head()"
   ]
  },
  {
   "cell_type": "code",
   "execution_count": 2386,
   "id": "6e708887-c887-4ed1-a96e-fd17190330aa",
   "metadata": {},
   "outputs": [
    {
     "data": {
      "text/html": [
       "<div>\n",
       "<style scoped>\n",
       "    .dataframe tbody tr th:only-of-type {\n",
       "        vertical-align: middle;\n",
       "    }\n",
       "\n",
       "    .dataframe tbody tr th {\n",
       "        vertical-align: top;\n",
       "    }\n",
       "\n",
       "    .dataframe thead th {\n",
       "        text-align: right;\n",
       "    }\n",
       "</style>\n",
       "<table border=\"1\" class=\"dataframe\">\n",
       "  <thead>\n",
       "    <tr style=\"text-align: right;\">\n",
       "      <th></th>\n",
       "      <th>headline</th>\n",
       "      <th>link</th>\n",
       "      <th>date</th>\n",
       "    </tr>\n",
       "  </thead>\n",
       "  <tbody>\n",
       "    <tr>\n",
       "      <th>0</th>\n",
       "      <td>Im convinced the U.S. will be drawn into Wor...</td>\n",
       "      <td>https://www.marketwatch.com/story/im-convinced...</td>\n",
       "      <td>Oct. 16, 2024 at 5:07 a.m. ET</td>\n",
       "    </tr>\n",
       "    <tr>\n",
       "      <th>1</th>\n",
       "      <td>Americas aging population is on a collision c...</td>\n",
       "      <td>https://www.marketwatch.com/story/americas-agi...</td>\n",
       "      <td>Oct. 15, 2024 at 12:39 p.m. ET</td>\n",
       "    </tr>\n",
       "    <tr>\n",
       "      <th>2</th>\n",
       "      <td>Nvidia Rally Has Legs. Why It Can Defy China F...</td>\n",
       "      <td>https://www.marketwatch.com/articles/nvidia-st...</td>\n",
       "      <td>Oct. 15, 2024 at 6:57 a.m. ET</td>\n",
       "    </tr>\n",
       "    <tr>\n",
       "      <th>3</th>\n",
       "      <td>Oils War Premium Is Back. Can Prices Top $100?</td>\n",
       "      <td>https://www.marketwatch.com/articles/oil-war-p...</td>\n",
       "      <td>Oct. 11, 2024 at 12:01 a.m. ET</td>\n",
       "    </tr>\n",
       "    <tr>\n",
       "      <th>4</th>\n",
       "      <td>Attacks on Iranian Oil Could Cause Pain at the...</td>\n",
       "      <td>https://www.marketwatch.com/articles/gas-price...</td>\n",
       "      <td>Oct. 4, 2024 at 10:30 a.m. ET</td>\n",
       "    </tr>\n",
       "  </tbody>\n",
       "</table>\n",
       "</div>"
      ],
      "text/plain": [
       "                                            headline  \\\n",
       "0  Im convinced the U.S. will be drawn into Wor...   \n",
       "1  Americas aging population is on a collision c...   \n",
       "2  Nvidia Rally Has Legs. Why It Can Defy China F...   \n",
       "3  Oils War Premium Is Back. Can Prices Top $100?   \n",
       "4  Attacks on Iranian Oil Could Cause Pain at the...   \n",
       "\n",
       "                                                link  \\\n",
       "0  https://www.marketwatch.com/story/im-convinced...   \n",
       "1  https://www.marketwatch.com/story/americas-agi...   \n",
       "2  https://www.marketwatch.com/articles/nvidia-st...   \n",
       "3  https://www.marketwatch.com/articles/oil-war-p...   \n",
       "4  https://www.marketwatch.com/articles/gas-price...   \n",
       "\n",
       "                             date  \n",
       "0   Oct. 16, 2024 at 5:07 a.m. ET  \n",
       "1  Oct. 15, 2024 at 12:39 p.m. ET  \n",
       "2   Oct. 15, 2024 at 6:57 a.m. ET  \n",
       "3  Oct. 11, 2024 at 12:01 a.m. ET  \n",
       "4   Oct. 4, 2024 at 10:30 a.m. ET  "
      ]
     },
     "execution_count": 2386,
     "metadata": {},
     "output_type": "execute_result"
    }
   ],
   "source": [
    "# first 5 records of news headlines on geopolitical event\n",
    "geopolitical_event_news.head()"
   ]
  },
  {
   "cell_type": "code",
   "execution_count": 2387,
   "id": "14bf039d-2285-4eca-9288-0b075f5f7ae0",
   "metadata": {},
   "outputs": [
    {
     "data": {
      "text/html": [
       "<div>\n",
       "<style scoped>\n",
       "    .dataframe tbody tr th:only-of-type {\n",
       "        vertical-align: middle;\n",
       "    }\n",
       "\n",
       "    .dataframe tbody tr th {\n",
       "        vertical-align: top;\n",
       "    }\n",
       "\n",
       "    .dataframe thead th {\n",
       "        text-align: right;\n",
       "    }\n",
       "</style>\n",
       "<table border=\"1\" class=\"dataframe\">\n",
       "  <thead>\n",
       "    <tr style=\"text-align: right;\">\n",
       "      <th></th>\n",
       "      <th>headline</th>\n",
       "      <th>link</th>\n",
       "      <th>date</th>\n",
       "    </tr>\n",
       "  </thead>\n",
       "  <tbody>\n",
       "    <tr>\n",
       "      <th>0</th>\n",
       "      <td>Bond Vigilantes Are Out in Force. How To Prote...</td>\n",
       "      <td>https://www.marketwatch.com/articles/bonds-yie...</td>\n",
       "      <td>Oct. 15, 2024 at 2:00 a.m. ET</td>\n",
       "    </tr>\n",
       "    <tr>\n",
       "      <th>1</th>\n",
       "      <td>Get ready for another mutual fund with a hedge...</td>\n",
       "      <td>https://www.marketwatch.com/story/get-ready-fo...</td>\n",
       "      <td>Oct. 15, 2024 at 12:01 a.m. ET</td>\n",
       "    </tr>\n",
       "    <tr>\n",
       "      <th>2</th>\n",
       "      <td>Australian Consumer-Spending Slump Keeps Door ...</td>\n",
       "      <td>https://www.marketwatch.com/story/australian-c...</td>\n",
       "      <td>Oct. 14, 2024 at 7:45 p.m. ET</td>\n",
       "    </tr>\n",
       "    <tr>\n",
       "      <th>3</th>\n",
       "      <td>Hint of very high consumer inflation expecta...</td>\n",
       "      <td>https://www.marketwatch.com/story/hint-of-very...</td>\n",
       "      <td>Oct. 14, 2024 at 2:51 p.m. ET</td>\n",
       "    </tr>\n",
       "    <tr>\n",
       "      <th>4</th>\n",
       "      <td>Its so unfair! Im miserable in my job. Im...</td>\n",
       "      <td>https://www.marketwatch.com/story/its-so-unfai...</td>\n",
       "      <td>Oct. 14, 2024 at 8:27 a.m. ET</td>\n",
       "    </tr>\n",
       "  </tbody>\n",
       "</table>\n",
       "</div>"
      ],
      "text/plain": [
       "                                            headline  \\\n",
       "0  Bond Vigilantes Are Out in Force. How To Prote...   \n",
       "1  Get ready for another mutual fund with a hedge...   \n",
       "2  Australian Consumer-Spending Slump Keeps Door ...   \n",
       "3  Hint of very high consumer inflation expecta...   \n",
       "4  Its so unfair! Im miserable in my job. Im...   \n",
       "\n",
       "                                                link  \\\n",
       "0  https://www.marketwatch.com/articles/bonds-yie...   \n",
       "1  https://www.marketwatch.com/story/get-ready-fo...   \n",
       "2  https://www.marketwatch.com/story/australian-c...   \n",
       "3  https://www.marketwatch.com/story/hint-of-very...   \n",
       "4  https://www.marketwatch.com/story/its-so-unfai...   \n",
       "\n",
       "                             date  \n",
       "0   Oct. 15, 2024 at 2:00 a.m. ET  \n",
       "1  Oct. 15, 2024 at 12:01 a.m. ET  \n",
       "2   Oct. 14, 2024 at 7:45 p.m. ET  \n",
       "3   Oct. 14, 2024 at 2:51 p.m. ET  \n",
       "4   Oct. 14, 2024 at 8:27 a.m. ET  "
      ]
     },
     "execution_count": 2387,
     "metadata": {},
     "output_type": "execute_result"
    }
   ],
   "source": [
    "# first 5 records of news headlines on inflation rate\n",
    "inflation_news.head()"
   ]
  },
  {
   "cell_type": "code",
   "execution_count": 2388,
   "id": "29eee15e-a350-42ac-a362-927cf8fa48c2",
   "metadata": {},
   "outputs": [
    {
     "data": {
      "text/html": [
       "<div>\n",
       "<style scoped>\n",
       "    .dataframe tbody tr th:only-of-type {\n",
       "        vertical-align: middle;\n",
       "    }\n",
       "\n",
       "    .dataframe tbody tr th {\n",
       "        vertical-align: top;\n",
       "    }\n",
       "\n",
       "    .dataframe thead th {\n",
       "        text-align: right;\n",
       "    }\n",
       "</style>\n",
       "<table border=\"1\" class=\"dataframe\">\n",
       "  <thead>\n",
       "    <tr style=\"text-align: right;\">\n",
       "      <th></th>\n",
       "      <th>headline</th>\n",
       "      <th>link</th>\n",
       "      <th>date</th>\n",
       "    </tr>\n",
       "  </thead>\n",
       "  <tbody>\n",
       "    <tr>\n",
       "      <th>0</th>\n",
       "      <td>TotalEnergies: Third Quarter 2024: Main Indica...</td>\n",
       "      <td>https://www.marketwatch.com/story/totalenergie...</td>\n",
       "      <td>Oct. 15, 2024 at 2:20 a.m. ET</td>\n",
       "    </tr>\n",
       "    <tr>\n",
       "      <th>1</th>\n",
       "      <td>Bond Vigilantes Are Out in Force. How To Prote...</td>\n",
       "      <td>https://www.marketwatch.com/articles/bonds-yie...</td>\n",
       "      <td>Oct. 15, 2024 at 2:00 a.m. ET</td>\n",
       "    </tr>\n",
       "    <tr>\n",
       "      <th>2</th>\n",
       "      <td>Get ready for another mutual fund with a hedge...</td>\n",
       "      <td>https://www.marketwatch.com/story/get-ready-fo...</td>\n",
       "      <td>Oct. 15, 2024 at 12:01 a.m. ET</td>\n",
       "    </tr>\n",
       "    <tr>\n",
       "      <th>3</th>\n",
       "      <td>Australian Consumer-Spending Slump Keeps Door ...</td>\n",
       "      <td>https://www.marketwatch.com/story/australian-c...</td>\n",
       "      <td>Oct. 14, 2024 at 7:45 p.m. ET</td>\n",
       "    </tr>\n",
       "    <tr>\n",
       "      <th>4</th>\n",
       "      <td>AMDs AI punches are landing where it counts ...</td>\n",
       "      <td>https://www.marketwatch.com/story/amds-ai-punc...</td>\n",
       "      <td>Oct. 14, 2024 at 6:19 p.m. ET</td>\n",
       "    </tr>\n",
       "  </tbody>\n",
       "</table>\n",
       "</div>"
      ],
      "text/plain": [
       "                                            headline  \\\n",
       "0  TotalEnergies: Third Quarter 2024: Main Indica...   \n",
       "1  Bond Vigilantes Are Out in Force. How To Prote...   \n",
       "2  Get ready for another mutual fund with a hedge...   \n",
       "3  Australian Consumer-Spending Slump Keeps Door ...   \n",
       "4  AMDs AI punches are landing where it counts ...   \n",
       "\n",
       "                                                link  \\\n",
       "0  https://www.marketwatch.com/story/totalenergie...   \n",
       "1  https://www.marketwatch.com/articles/bonds-yie...   \n",
       "2  https://www.marketwatch.com/story/get-ready-fo...   \n",
       "3  https://www.marketwatch.com/story/australian-c...   \n",
       "4  https://www.marketwatch.com/story/amds-ai-punc...   \n",
       "\n",
       "                             date  \n",
       "0   Oct. 15, 2024 at 2:20 a.m. ET  \n",
       "1   Oct. 15, 2024 at 2:00 a.m. ET  \n",
       "2  Oct. 15, 2024 at 12:01 a.m. ET  \n",
       "3   Oct. 14, 2024 at 7:45 p.m. ET  \n",
       "4   Oct. 14, 2024 at 6:19 p.m. ET  "
      ]
     },
     "execution_count": 2388,
     "metadata": {},
     "output_type": "execute_result"
    }
   ],
   "source": [
    "# first 5 records of news headlines on interest rate\n",
    "interest_rates_news.head()"
   ]
  },
  {
   "cell_type": "code",
   "execution_count": 2389,
   "id": "e6473c88-2759-4c47-95ba-d3755d800102",
   "metadata": {},
   "outputs": [
    {
     "data": {
      "text/html": [
       "<div>\n",
       "<style scoped>\n",
       "    .dataframe tbody tr th:only-of-type {\n",
       "        vertical-align: middle;\n",
       "    }\n",
       "\n",
       "    .dataframe tbody tr th {\n",
       "        vertical-align: top;\n",
       "    }\n",
       "\n",
       "    .dataframe thead th {\n",
       "        text-align: right;\n",
       "    }\n",
       "</style>\n",
       "<table border=\"1\" class=\"dataframe\">\n",
       "  <thead>\n",
       "    <tr style=\"text-align: right;\">\n",
       "      <th></th>\n",
       "      <th>headline</th>\n",
       "      <th>link</th>\n",
       "      <th>date</th>\n",
       "    </tr>\n",
       "  </thead>\n",
       "  <tbody>\n",
       "    <tr>\n",
       "      <th>0</th>\n",
       "      <td>Materials Post Limited Gains After Waller Comm...</td>\n",
       "      <td>https://www.marketwatch.com/story/materials-po...</td>\n",
       "      <td>Oct. 14, 2024 at 4:59 p.m. ET</td>\n",
       "    </tr>\n",
       "    <tr>\n",
       "      <th>1</th>\n",
       "      <td>Gold Is Losing Steam. These 4 Stocks Are Just ...</td>\n",
       "      <td>https://www.marketwatch.com/articles/cyclical-...</td>\n",
       "      <td>Oct. 14, 2024 at 3:34 p.m. ET</td>\n",
       "    </tr>\n",
       "    <tr>\n",
       "      <th>2</th>\n",
       "      <td>Bitcoins Jump Is Boosting MicroStrategy and O...</td>\n",
       "      <td>https://www.marketwatch.com/articles/bitcoin-p...</td>\n",
       "      <td>Oct. 14, 2024 at 1:43 p.m. ET</td>\n",
       "    </tr>\n",
       "    <tr>\n",
       "      <th>3</th>\n",
       "      <td>G Mining Ventures Reports Fatality at Guyana Site</td>\n",
       "      <td>https://www.marketwatch.com/story/g-mining-ven...</td>\n",
       "      <td>Oct. 14, 2024 at 11:30 a.m. ET</td>\n",
       "    </tr>\n",
       "    <tr>\n",
       "      <th>4</th>\n",
       "      <td>The market rally is broadening, so heres one ...</td>\n",
       "      <td>https://www.marketwatch.com/story/the-market-r...</td>\n",
       "      <td>Oct. 14, 2024 at 9:32 a.m. ET</td>\n",
       "    </tr>\n",
       "  </tbody>\n",
       "</table>\n",
       "</div>"
      ],
      "text/plain": [
       "                                            headline  \\\n",
       "0  Materials Post Limited Gains After Waller Comm...   \n",
       "1  Gold Is Losing Steam. These 4 Stocks Are Just ...   \n",
       "2  Bitcoins Jump Is Boosting MicroStrategy and O...   \n",
       "3  G Mining Ventures Reports Fatality at Guyana Site   \n",
       "4  The market rally is broadening, so heres one ...   \n",
       "\n",
       "                                                link  \\\n",
       "0  https://www.marketwatch.com/story/materials-po...   \n",
       "1  https://www.marketwatch.com/articles/cyclical-...   \n",
       "2  https://www.marketwatch.com/articles/bitcoin-p...   \n",
       "3  https://www.marketwatch.com/story/g-mining-ven...   \n",
       "4  https://www.marketwatch.com/story/the-market-r...   \n",
       "\n",
       "                             date  \n",
       "0   Oct. 14, 2024 at 4:59 p.m. ET  \n",
       "1   Oct. 14, 2024 at 3:34 p.m. ET  \n",
       "2   Oct. 14, 2024 at 1:43 p.m. ET  \n",
       "3  Oct. 14, 2024 at 11:30 a.m. ET  \n",
       "4   Oct. 14, 2024 at 9:32 a.m. ET  "
      ]
     },
     "execution_count": 2389,
     "metadata": {},
     "output_type": "execute_result"
    }
   ],
   "source": [
    "# first 5 records of news headlines on gold\n",
    "gold_news.head()"
   ]
  },
  {
   "cell_type": "code",
   "execution_count": 2390,
   "id": "ee86c491-9b1b-48ad-bbff-297c35a9264a",
   "metadata": {},
   "outputs": [
    {
     "data": {
      "text/html": [
       "<div>\n",
       "<style scoped>\n",
       "    .dataframe tbody tr th:only-of-type {\n",
       "        vertical-align: middle;\n",
       "    }\n",
       "\n",
       "    .dataframe tbody tr th {\n",
       "        vertical-align: top;\n",
       "    }\n",
       "\n",
       "    .dataframe thead th {\n",
       "        text-align: right;\n",
       "    }\n",
       "</style>\n",
       "<table border=\"1\" class=\"dataframe\">\n",
       "  <thead>\n",
       "    <tr style=\"text-align: right;\">\n",
       "      <th></th>\n",
       "      <th>headline</th>\n",
       "      <th>link</th>\n",
       "      <th>date</th>\n",
       "    </tr>\n",
       "  </thead>\n",
       "  <tbody>\n",
       "    <tr>\n",
       "      <th>0</th>\n",
       "      <td>ï»¿âIâm convinced the U.S. will be drawn i...</td>\n",
       "      <td>https://www.marketwatch.com/story/im-convinced...</td>\n",
       "      <td>Oct. 16, 2024 at 5:07 a.m. ET</td>\n",
       "    </tr>\n",
       "    <tr>\n",
       "      <th>1</th>\n",
       "      <td>Americaâs aging population is on a collision...</td>\n",
       "      <td>https://www.marketwatch.com/story/americas-agi...</td>\n",
       "      <td>Oct. 15, 2024 at 12:39 p.m. ET</td>\n",
       "    </tr>\n",
       "    <tr>\n",
       "      <th>2</th>\n",
       "      <td>Nvidia Rally Has Legs. Why It Can Defy China F...</td>\n",
       "      <td>https://www.marketwatch.com/articles/nvidia-st...</td>\n",
       "      <td>Oct. 15, 2024 at 6:57 a.m. ET</td>\n",
       "    </tr>\n",
       "    <tr>\n",
       "      <th>3</th>\n",
       "      <td>Oilâs âWar Premiumâ Is Back. Can Prices ...</td>\n",
       "      <td>https://www.marketwatch.com/articles/oil-war-p...</td>\n",
       "      <td>Oct. 11, 2024 at 12:01 a.m. ET</td>\n",
       "    </tr>\n",
       "    <tr>\n",
       "      <th>4</th>\n",
       "      <td>Attacks on Iranian Oil Could Cause Pain at the...</td>\n",
       "      <td>https://www.marketwatch.com/articles/gas-price...</td>\n",
       "      <td>Oct. 4, 2024 at 10:30 a.m. ET</td>\n",
       "    </tr>\n",
       "  </tbody>\n",
       "</table>\n",
       "</div>"
      ],
      "text/plain": [
       "                                            headline  \\\n",
       "0  ï»¿âIâm convinced the U.S. will be drawn i...   \n",
       "1  Americaâs aging population is on a collision...   \n",
       "2  Nvidia Rally Has Legs. Why It Can Defy China F...   \n",
       "3  Oilâs âWar Premiumâ Is Back. Can Prices ...   \n",
       "4  Attacks on Iranian Oil Could Cause Pain at the...   \n",
       "\n",
       "                                                link  \\\n",
       "0  https://www.marketwatch.com/story/im-convinced...   \n",
       "1  https://www.marketwatch.com/story/americas-agi...   \n",
       "2  https://www.marketwatch.com/articles/nvidia-st...   \n",
       "3  https://www.marketwatch.com/articles/oil-war-p...   \n",
       "4  https://www.marketwatch.com/articles/gas-price...   \n",
       "\n",
       "                             date  \n",
       "0   Oct. 16, 2024 at 5:07 a.m. ET  \n",
       "1  Oct. 15, 2024 at 12:39 p.m. ET  \n",
       "2   Oct. 15, 2024 at 6:57 a.m. ET  \n",
       "3  Oct. 11, 2024 at 12:01 a.m. ET  \n",
       "4   Oct. 4, 2024 at 10:30 a.m. ET  "
      ]
     },
     "execution_count": 2390,
     "metadata": {},
     "output_type": "execute_result"
    }
   ],
   "source": [
    "# first 5 records of news headlines on economic crisis\n",
    "economic_crisis_news.head()"
   ]
  },
  {
   "cell_type": "markdown",
   "id": "acb3a511-5689-462c-9858-63d5f3708d66",
   "metadata": {},
   "source": [
    "#### Pre-processing USD news headlines data"
   ]
  },
  {
   "cell_type": "code",
   "execution_count": 2392,
   "id": "6798efe6-92fe-4582-a0ac-e68f66e7caff",
   "metadata": {},
   "outputs": [],
   "source": [
    "df_usd_news =usd_news.copy()"
   ]
  },
  {
   "cell_type": "code",
   "execution_count": 2393,
   "id": "d5068e41-0240-48d3-ae82-5a73cc810644",
   "metadata": {},
   "outputs": [
    {
     "data": {
      "text/html": [
       "<div>\n",
       "<style scoped>\n",
       "    .dataframe tbody tr th:only-of-type {\n",
       "        vertical-align: middle;\n",
       "    }\n",
       "\n",
       "    .dataframe tbody tr th {\n",
       "        vertical-align: top;\n",
       "    }\n",
       "\n",
       "    .dataframe thead th {\n",
       "        text-align: right;\n",
       "    }\n",
       "</style>\n",
       "<table border=\"1\" class=\"dataframe\">\n",
       "  <thead>\n",
       "    <tr style=\"text-align: right;\">\n",
       "      <th></th>\n",
       "      <th>headline</th>\n",
       "      <th>link</th>\n",
       "      <th>date</th>\n",
       "    </tr>\n",
       "  </thead>\n",
       "  <tbody>\n",
       "    <tr>\n",
       "      <th>0</th>\n",
       "      <td>Heres how bond ETFs fared as investors parsed...</td>\n",
       "      <td>https://www.marketwatch.com/story/heres-how-bo...</td>\n",
       "      <td>Oct. 10, 2024 at 6:52 p.m. ET</td>\n",
       "    </tr>\n",
       "    <tr>\n",
       "      <th>1</th>\n",
       "      <td>Emerging markets have surged. Why JPMorgan say...</td>\n",
       "      <td>https://www.marketwatch.com/story/emerging-mar...</td>\n",
       "      <td>Sep. 30, 2024 at 9:41 a.m. ET</td>\n",
       "    </tr>\n",
       "    <tr>\n",
       "      <th>2</th>\n",
       "      <td>Gold is giving you a once-in-a-generation buyi...</td>\n",
       "      <td>https://www.marketwatch.com/story/gold-is-givi...</td>\n",
       "      <td>Sep. 21, 2024 at 12:16 p.m. ET</td>\n",
       "    </tr>\n",
       "    <tr>\n",
       "      <th>3</th>\n",
       "      <td>High-yield bond ETF rallies after Fed rate cut...</td>\n",
       "      <td>https://www.marketwatch.com/story/high-yield-b...</td>\n",
       "      <td>Sep. 19, 2024 at 6:31 p.m. ET</td>\n",
       "    </tr>\n",
       "    <tr>\n",
       "      <th>4</th>\n",
       "      <td>The U.S. dollar is weakening ahead of Fed rate...</td>\n",
       "      <td>https://www.marketwatch.com/story/the-u-s-doll...</td>\n",
       "      <td>Sep. 18, 2024 at 5:34 p.m. ET</td>\n",
       "    </tr>\n",
       "  </tbody>\n",
       "</table>\n",
       "</div>"
      ],
      "text/plain": [
       "                                            headline  \\\n",
       "0  Heres how bond ETFs fared as investors parsed...   \n",
       "1  Emerging markets have surged. Why JPMorgan say...   \n",
       "2  Gold is giving you a once-in-a-generation buyi...   \n",
       "3  High-yield bond ETF rallies after Fed rate cut...   \n",
       "4  The U.S. dollar is weakening ahead of Fed rate...   \n",
       "\n",
       "                                                link  \\\n",
       "0  https://www.marketwatch.com/story/heres-how-bo...   \n",
       "1  https://www.marketwatch.com/story/emerging-mar...   \n",
       "2  https://www.marketwatch.com/story/gold-is-givi...   \n",
       "3  https://www.marketwatch.com/story/high-yield-b...   \n",
       "4  https://www.marketwatch.com/story/the-u-s-doll...   \n",
       "\n",
       "                             date  \n",
       "0   Oct. 10, 2024 at 6:52 p.m. ET  \n",
       "1   Sep. 30, 2024 at 9:41 a.m. ET  \n",
       "2  Sep. 21, 2024 at 12:16 p.m. ET  \n",
       "3   Sep. 19, 2024 at 6:31 p.m. ET  \n",
       "4   Sep. 18, 2024 at 5:34 p.m. ET  "
      ]
     },
     "execution_count": 2393,
     "metadata": {},
     "output_type": "execute_result"
    }
   ],
   "source": [
    "df_usd_news.head()"
   ]
  },
  {
   "cell_type": "code",
   "execution_count": 2394,
   "id": "8e8d51b2-00aa-4fa4-9262-c4279ccab2cf",
   "metadata": {},
   "outputs": [
    {
     "data": {
      "text/plain": [
       "(3276, 3)"
      ]
     },
     "execution_count": 2394,
     "metadata": {},
     "output_type": "execute_result"
    }
   ],
   "source": [
    "df_usd_news.shape"
   ]
  },
  {
   "cell_type": "code",
   "execution_count": 2395,
   "id": "20ed37b8-8265-4db9-9d65-3db32cdfe088",
   "metadata": {},
   "outputs": [
    {
     "name": "stdout",
     "output_type": "stream",
     "text": [
      "<class 'pandas.core.frame.DataFrame'>\n",
      "RangeIndex: 3276 entries, 0 to 3275\n",
      "Data columns (total 3 columns):\n",
      " #   Column    Non-Null Count  Dtype \n",
      "---  ------    --------------  ----- \n",
      " 0   headline  3276 non-null   object\n",
      " 1   link      3276 non-null   object\n",
      " 2   date      3276 non-null   object\n",
      "dtypes: object(3)\n",
      "memory usage: 76.9+ KB\n"
     ]
    }
   ],
   "source": [
    "df_usd_news.info()"
   ]
  },
  {
   "cell_type": "markdown",
   "id": "131b22a2-42c3-4315-96bd-2a110207e22e",
   "metadata": {},
   "source": [
    "#### Observation:\n",
    "* The date column data type is showing as object datatype.\n",
    "* The date column has some extra details that are not uniform accross the dataset.\n",
    "* The link column is not needed for the model.\n",
    "* headlines have some non alphanumeric characters."
   ]
  },
  {
   "cell_type": "code",
   "execution_count": 2397,
   "id": "e6820879-5e1f-40e0-8642-a120a1feee6d",
   "metadata": {},
   "outputs": [],
   "source": [
    "# function to remove the unwanted additional detail in the date column\n",
    "def formatDate(date_string):\n",
    "    # Remove \"a.m./p.m.\" and the timezone (ET)\n",
    "    cleaned_date_string = date_string.replace('a.m.', 'AM').replace('p.m.', 'PM').split(' at ')[0]\n",
    "    \n",
    "    # Define the format for parsing the cleaned string\n",
    "    date_format = \"%b. %d, %Y\"\n",
    "    \n",
    "    # Convert the cleaned string to a datetime object\n",
    "    parsed_date = datetime.strptime(cleaned_date_string, date_format)\n",
    "    \n",
    "    # Extract only the date and change the datatype to datetime\n",
    "    only_date = parsed_date.date()\n",
    "    only_date = pd.to_datetime(only_date)\n",
    "    return only_date"
   ]
  },
  {
   "cell_type": "code",
   "execution_count": 2398,
   "id": "7517238d-fddb-480b-941e-6a8f101cfa68",
   "metadata": {},
   "outputs": [],
   "source": [
    "#function to remove unwanted columns\n",
    "def removeColumn(df):\n",
    "    df = df.drop(columns='link')\n",
    "    return df"
   ]
  },
  {
   "cell_type": "code",
   "execution_count": 2399,
   "id": "ec13f7bf-20bc-4690-8e5f-d97157f3d22e",
   "metadata": {},
   "outputs": [],
   "source": [
    "# function to remove unwanted characters from the headlines using regular expression\n",
    "def cleanHeadline(text):\n",
    "    # Check if the input is a string, if not return an empty string or handle it\n",
    "    if isinstance(text, str):\n",
    "        # Remove unwanted characters (non-ASCII characters)\n",
    "        cleaned_text = re.sub(r'[^\\x00-\\x7F]+', '', text)\n",
    "    else:\n",
    "        # Return empty string or handle it if the input is not a string\n",
    "        cleaned_text = ''\n",
    "    \n",
    "    return cleaned_text\n"
   ]
  },
  {
   "cell_type": "code",
   "execution_count": 2400,
   "id": "f215f090-5e3b-4d24-80ce-93b691cdddf5",
   "metadata": {},
   "outputs": [
    {
     "data": {
      "text/html": [
       "<div>\n",
       "<style scoped>\n",
       "    .dataframe tbody tr th:only-of-type {\n",
       "        vertical-align: middle;\n",
       "    }\n",
       "\n",
       "    .dataframe tbody tr th {\n",
       "        vertical-align: top;\n",
       "    }\n",
       "\n",
       "    .dataframe thead th {\n",
       "        text-align: right;\n",
       "    }\n",
       "</style>\n",
       "<table border=\"1\" class=\"dataframe\">\n",
       "  <thead>\n",
       "    <tr style=\"text-align: right;\">\n",
       "      <th></th>\n",
       "      <th>headline</th>\n",
       "      <th>link</th>\n",
       "      <th>date</th>\n",
       "    </tr>\n",
       "  </thead>\n",
       "  <tbody>\n",
       "    <tr>\n",
       "      <th>0</th>\n",
       "      <td>Heres how bond ETFs fared as investors parsed...</td>\n",
       "      <td>https://www.marketwatch.com/story/heres-how-bo...</td>\n",
       "      <td>2024-10-10</td>\n",
       "    </tr>\n",
       "    <tr>\n",
       "      <th>1</th>\n",
       "      <td>Emerging markets have surged. Why JPMorgan say...</td>\n",
       "      <td>https://www.marketwatch.com/story/emerging-mar...</td>\n",
       "      <td>2024-09-30</td>\n",
       "    </tr>\n",
       "    <tr>\n",
       "      <th>2</th>\n",
       "      <td>Gold is giving you a once-in-a-generation buyi...</td>\n",
       "      <td>https://www.marketwatch.com/story/gold-is-givi...</td>\n",
       "      <td>2024-09-21</td>\n",
       "    </tr>\n",
       "    <tr>\n",
       "      <th>3</th>\n",
       "      <td>High-yield bond ETF rallies after Fed rate cut...</td>\n",
       "      <td>https://www.marketwatch.com/story/high-yield-b...</td>\n",
       "      <td>2024-09-19</td>\n",
       "    </tr>\n",
       "    <tr>\n",
       "      <th>4</th>\n",
       "      <td>The U.S. dollar is weakening ahead of Fed rate...</td>\n",
       "      <td>https://www.marketwatch.com/story/the-u-s-doll...</td>\n",
       "      <td>2024-09-18</td>\n",
       "    </tr>\n",
       "  </tbody>\n",
       "</table>\n",
       "</div>"
      ],
      "text/plain": [
       "                                            headline  \\\n",
       "0  Heres how bond ETFs fared as investors parsed...   \n",
       "1  Emerging markets have surged. Why JPMorgan say...   \n",
       "2  Gold is giving you a once-in-a-generation buyi...   \n",
       "3  High-yield bond ETF rallies after Fed rate cut...   \n",
       "4  The U.S. dollar is weakening ahead of Fed rate...   \n",
       "\n",
       "                                                link       date  \n",
       "0  https://www.marketwatch.com/story/heres-how-bo... 2024-10-10  \n",
       "1  https://www.marketwatch.com/story/emerging-mar... 2024-09-30  \n",
       "2  https://www.marketwatch.com/story/gold-is-givi... 2024-09-21  \n",
       "3  https://www.marketwatch.com/story/high-yield-b... 2024-09-19  \n",
       "4  https://www.marketwatch.com/story/the-u-s-doll... 2024-09-18  "
      ]
     },
     "execution_count": 2400,
     "metadata": {},
     "output_type": "execute_result"
    }
   ],
   "source": [
    "# applying the function to streamline the date column\n",
    "df_usd_news['date'] = df_usd_news['date'].apply(formatDate)\n",
    "df_usd_news.head()"
   ]
  },
  {
   "cell_type": "code",
   "execution_count": 2401,
   "id": "dad64f4f-7018-425f-8827-80ca7807d57c",
   "metadata": {},
   "outputs": [
    {
     "data": {
      "text/html": [
       "<div>\n",
       "<style scoped>\n",
       "    .dataframe tbody tr th:only-of-type {\n",
       "        vertical-align: middle;\n",
       "    }\n",
       "\n",
       "    .dataframe tbody tr th {\n",
       "        vertical-align: top;\n",
       "    }\n",
       "\n",
       "    .dataframe thead th {\n",
       "        text-align: right;\n",
       "    }\n",
       "</style>\n",
       "<table border=\"1\" class=\"dataframe\">\n",
       "  <thead>\n",
       "    <tr style=\"text-align: right;\">\n",
       "      <th></th>\n",
       "      <th>headline</th>\n",
       "      <th>date</th>\n",
       "    </tr>\n",
       "  </thead>\n",
       "  <tbody>\n",
       "    <tr>\n",
       "      <th>0</th>\n",
       "      <td>Heres how bond ETFs fared as investors parsed...</td>\n",
       "      <td>2024-10-10</td>\n",
       "    </tr>\n",
       "    <tr>\n",
       "      <th>1</th>\n",
       "      <td>Emerging markets have surged. Why JPMorgan say...</td>\n",
       "      <td>2024-09-30</td>\n",
       "    </tr>\n",
       "    <tr>\n",
       "      <th>2</th>\n",
       "      <td>Gold is giving you a once-in-a-generation buyi...</td>\n",
       "      <td>2024-09-21</td>\n",
       "    </tr>\n",
       "    <tr>\n",
       "      <th>3</th>\n",
       "      <td>High-yield bond ETF rallies after Fed rate cut...</td>\n",
       "      <td>2024-09-19</td>\n",
       "    </tr>\n",
       "    <tr>\n",
       "      <th>4</th>\n",
       "      <td>The U.S. dollar is weakening ahead of Fed rate...</td>\n",
       "      <td>2024-09-18</td>\n",
       "    </tr>\n",
       "  </tbody>\n",
       "</table>\n",
       "</div>"
      ],
      "text/plain": [
       "                                            headline       date\n",
       "0  Heres how bond ETFs fared as investors parsed... 2024-10-10\n",
       "1  Emerging markets have surged. Why JPMorgan say... 2024-09-30\n",
       "2  Gold is giving you a once-in-a-generation buyi... 2024-09-21\n",
       "3  High-yield bond ETF rallies after Fed rate cut... 2024-09-19\n",
       "4  The U.S. dollar is weakening ahead of Fed rate... 2024-09-18"
      ]
     },
     "execution_count": 2401,
     "metadata": {},
     "output_type": "execute_result"
    }
   ],
   "source": [
    "#apply the removeColumn\n",
    "df_usd = removeColumn(df_usd_news)\n",
    "df_usd.head()"
   ]
  },
  {
   "cell_type": "code",
   "execution_count": 2402,
   "id": "e212d870-436e-4f15-be05-e83e3328ab7a",
   "metadata": {},
   "outputs": [
    {
     "data": {
      "text/html": [
       "<div>\n",
       "<style scoped>\n",
       "    .dataframe tbody tr th:only-of-type {\n",
       "        vertical-align: middle;\n",
       "    }\n",
       "\n",
       "    .dataframe tbody tr th {\n",
       "        vertical-align: top;\n",
       "    }\n",
       "\n",
       "    .dataframe thead th {\n",
       "        text-align: right;\n",
       "    }\n",
       "</style>\n",
       "<table border=\"1\" class=\"dataframe\">\n",
       "  <thead>\n",
       "    <tr style=\"text-align: right;\">\n",
       "      <th></th>\n",
       "      <th>headline</th>\n",
       "      <th>date</th>\n",
       "    </tr>\n",
       "  </thead>\n",
       "  <tbody>\n",
       "    <tr>\n",
       "      <th>0</th>\n",
       "      <td>Heres how bond ETFs fared as investors parsed ...</td>\n",
       "      <td>2024-10-10</td>\n",
       "    </tr>\n",
       "    <tr>\n",
       "      <th>1</th>\n",
       "      <td>Emerging markets have surged. Why JPMorgan say...</td>\n",
       "      <td>2024-09-30</td>\n",
       "    </tr>\n",
       "    <tr>\n",
       "      <th>2</th>\n",
       "      <td>Gold is giving you a once-in-a-generation buyi...</td>\n",
       "      <td>2024-09-21</td>\n",
       "    </tr>\n",
       "    <tr>\n",
       "      <th>3</th>\n",
       "      <td>High-yield bond ETF rallies after Fed rate cut...</td>\n",
       "      <td>2024-09-19</td>\n",
       "    </tr>\n",
       "    <tr>\n",
       "      <th>4</th>\n",
       "      <td>The U.S. dollar is weakening ahead of Fed rate...</td>\n",
       "      <td>2024-09-18</td>\n",
       "    </tr>\n",
       "  </tbody>\n",
       "</table>\n",
       "</div>"
      ],
      "text/plain": [
       "                                            headline       date\n",
       "0  Heres how bond ETFs fared as investors parsed ... 2024-10-10\n",
       "1  Emerging markets have surged. Why JPMorgan say... 2024-09-30\n",
       "2  Gold is giving you a once-in-a-generation buyi... 2024-09-21\n",
       "3  High-yield bond ETF rallies after Fed rate cut... 2024-09-19\n",
       "4  The U.S. dollar is weakening ahead of Fed rate... 2024-09-18"
      ]
     },
     "execution_count": 2402,
     "metadata": {},
     "output_type": "execute_result"
    }
   ],
   "source": [
    "# Apply the cleanHeadline function to the 'headline' column\n",
    "df_usd['headline'] = df_usd['headline'].apply(cleanHeadline)\n",
    "df_usd.head()"
   ]
  },
  {
   "cell_type": "code",
   "execution_count": 2403,
   "id": "27bba179-4952-4b50-996b-3bb24d78791e",
   "metadata": {},
   "outputs": [
    {
     "name": "stdout",
     "output_type": "stream",
     "text": [
      "<class 'pandas.core.frame.DataFrame'>\n",
      "RangeIndex: 3276 entries, 0 to 3275\n",
      "Data columns (total 2 columns):\n",
      " #   Column    Non-Null Count  Dtype         \n",
      "---  ------    --------------  -----         \n",
      " 0   headline  3276 non-null   object        \n",
      " 1   date      3276 non-null   datetime64[ns]\n",
      "dtypes: datetime64[ns](1), object(1)\n",
      "memory usage: 51.3+ KB\n"
     ]
    }
   ],
   "source": [
    "df_usd.info()"
   ]
  },
  {
   "cell_type": "code",
   "execution_count": 2404,
   "id": "ffd1ae7a-140f-4a52-81d1-c48d7958135c",
   "metadata": {},
   "outputs": [
    {
     "data": {
      "text/plain": [
       "23"
      ]
     },
     "execution_count": 2404,
     "metadata": {},
     "output_type": "execute_result"
    }
   ],
   "source": [
    "#check for duplicate\n",
    "df_usd.duplicated().sum()"
   ]
  },
  {
   "cell_type": "code",
   "execution_count": 2405,
   "id": "89651fad-4a3d-48cc-bc92-0f26784a2358",
   "metadata": {},
   "outputs": [],
   "source": [
    "# remove duplicated records\n",
    "df_usd.drop_duplicates(inplace=True)"
   ]
  },
  {
   "cell_type": "code",
   "execution_count": 2406,
   "id": "0f52a4f1-c0c1-4f0e-8001-90a9be3704c7",
   "metadata": {},
   "outputs": [
    {
     "data": {
      "text/html": [
       "<div>\n",
       "<style scoped>\n",
       "    .dataframe tbody tr th:only-of-type {\n",
       "        vertical-align: middle;\n",
       "    }\n",
       "\n",
       "    .dataframe tbody tr th {\n",
       "        vertical-align: top;\n",
       "    }\n",
       "\n",
       "    .dataframe thead th {\n",
       "        text-align: right;\n",
       "    }\n",
       "</style>\n",
       "<table border=\"1\" class=\"dataframe\">\n",
       "  <thead>\n",
       "    <tr style=\"text-align: right;\">\n",
       "      <th></th>\n",
       "      <th>date</th>\n",
       "    </tr>\n",
       "  </thead>\n",
       "  <tbody>\n",
       "    <tr>\n",
       "      <th>count</th>\n",
       "      <td>3253</td>\n",
       "    </tr>\n",
       "    <tr>\n",
       "      <th>mean</th>\n",
       "      <td>2021-08-10 03:45:19.090070784</td>\n",
       "    </tr>\n",
       "    <tr>\n",
       "      <th>min</th>\n",
       "      <td>2003-09-29 00:00:00</td>\n",
       "    </tr>\n",
       "    <tr>\n",
       "      <th>25%</th>\n",
       "      <td>2022-05-02 00:00:00</td>\n",
       "    </tr>\n",
       "    <tr>\n",
       "      <th>50%</th>\n",
       "      <td>2022-11-28 00:00:00</td>\n",
       "    </tr>\n",
       "    <tr>\n",
       "      <th>75%</th>\n",
       "      <td>2023-07-13 00:00:00</td>\n",
       "    </tr>\n",
       "    <tr>\n",
       "      <th>max</th>\n",
       "      <td>2024-10-10 00:00:00</td>\n",
       "    </tr>\n",
       "  </tbody>\n",
       "</table>\n",
       "</div>"
      ],
      "text/plain": [
       "                                date\n",
       "count                           3253\n",
       "mean   2021-08-10 03:45:19.090070784\n",
       "min              2003-09-29 00:00:00\n",
       "25%              2022-05-02 00:00:00\n",
       "50%              2022-11-28 00:00:00\n",
       "75%              2023-07-13 00:00:00\n",
       "max              2024-10-10 00:00:00"
      ]
     },
     "execution_count": 2406,
     "metadata": {},
     "output_type": "execute_result"
    }
   ],
   "source": [
    "df_usd.describe()"
   ]
  },
  {
   "cell_type": "code",
   "execution_count": 2407,
   "id": "6ca5ef26-f76a-414e-a79a-73eb9e557672",
   "metadata": {},
   "outputs": [
    {
     "data": {
      "text/html": [
       "<div>\n",
       "<style scoped>\n",
       "    .dataframe tbody tr th:only-of-type {\n",
       "        vertical-align: middle;\n",
       "    }\n",
       "\n",
       "    .dataframe tbody tr th {\n",
       "        vertical-align: top;\n",
       "    }\n",
       "\n",
       "    .dataframe thead th {\n",
       "        text-align: right;\n",
       "    }\n",
       "</style>\n",
       "<table border=\"1\" class=\"dataframe\">\n",
       "  <thead>\n",
       "    <tr style=\"text-align: right;\">\n",
       "      <th></th>\n",
       "      <th>headline</th>\n",
       "      <th>date</th>\n",
       "    </tr>\n",
       "  </thead>\n",
       "  <tbody>\n",
       "    <tr>\n",
       "      <th>0</th>\n",
       "      <td>Heres how bond ETFs fared as investors parsed ...</td>\n",
       "      <td>2024-10-10</td>\n",
       "    </tr>\n",
       "    <tr>\n",
       "      <th>1</th>\n",
       "      <td>Emerging markets have surged. Why JPMorgan say...</td>\n",
       "      <td>2024-09-30</td>\n",
       "    </tr>\n",
       "    <tr>\n",
       "      <th>2</th>\n",
       "      <td>Gold is giving you a once-in-a-generation buyi...</td>\n",
       "      <td>2024-09-21</td>\n",
       "    </tr>\n",
       "    <tr>\n",
       "      <th>3</th>\n",
       "      <td>High-yield bond ETF rallies after Fed rate cut...</td>\n",
       "      <td>2024-09-19</td>\n",
       "    </tr>\n",
       "    <tr>\n",
       "      <th>4</th>\n",
       "      <td>The U.S. dollar is weakening ahead of Fed rate...</td>\n",
       "      <td>2024-09-18</td>\n",
       "    </tr>\n",
       "  </tbody>\n",
       "</table>\n",
       "</div>"
      ],
      "text/plain": [
       "                                            headline       date\n",
       "0  Heres how bond ETFs fared as investors parsed ... 2024-10-10\n",
       "1  Emerging markets have surged. Why JPMorgan say... 2024-09-30\n",
       "2  Gold is giving you a once-in-a-generation buyi... 2024-09-21\n",
       "3  High-yield bond ETF rallies after Fed rate cut... 2024-09-19\n",
       "4  The U.S. dollar is weakening ahead of Fed rate... 2024-09-18"
      ]
     },
     "execution_count": 2407,
     "metadata": {},
     "output_type": "execute_result"
    }
   ],
   "source": [
    "# USD \n",
    "df_usd_clean = df_usd.copy()\n",
    "df_usd_clean.head()"
   ]
  },
  {
   "cell_type": "markdown",
   "id": "0d01f825-15fc-4c61-8400-7355e6a92647",
   "metadata": {},
   "source": [
    "#### Pre-processing geopoliticalevent news headlines data"
   ]
  },
  {
   "cell_type": "code",
   "execution_count": 2409,
   "id": "c824a3e8-a91f-45e0-88a4-45e6c9cc74f6",
   "metadata": {},
   "outputs": [],
   "source": [
    "df_geopolitical_event_news = geopolitical_event_news.copy()"
   ]
  },
  {
   "cell_type": "code",
   "execution_count": 2410,
   "id": "248cf86e-bc7a-4f58-b723-5fa93896eda6",
   "metadata": {},
   "outputs": [
    {
     "data": {
      "text/html": [
       "<div>\n",
       "<style scoped>\n",
       "    .dataframe tbody tr th:only-of-type {\n",
       "        vertical-align: middle;\n",
       "    }\n",
       "\n",
       "    .dataframe tbody tr th {\n",
       "        vertical-align: top;\n",
       "    }\n",
       "\n",
       "    .dataframe thead th {\n",
       "        text-align: right;\n",
       "    }\n",
       "</style>\n",
       "<table border=\"1\" class=\"dataframe\">\n",
       "  <thead>\n",
       "    <tr style=\"text-align: right;\">\n",
       "      <th></th>\n",
       "      <th>headline</th>\n",
       "      <th>link</th>\n",
       "      <th>date</th>\n",
       "    </tr>\n",
       "  </thead>\n",
       "  <tbody>\n",
       "    <tr>\n",
       "      <th>0</th>\n",
       "      <td>Im convinced the U.S. will be drawn into Wor...</td>\n",
       "      <td>https://www.marketwatch.com/story/im-convinced...</td>\n",
       "      <td>Oct. 16, 2024 at 5:07 a.m. ET</td>\n",
       "    </tr>\n",
       "    <tr>\n",
       "      <th>1</th>\n",
       "      <td>Americas aging population is on a collision c...</td>\n",
       "      <td>https://www.marketwatch.com/story/americas-agi...</td>\n",
       "      <td>Oct. 15, 2024 at 12:39 p.m. ET</td>\n",
       "    </tr>\n",
       "    <tr>\n",
       "      <th>2</th>\n",
       "      <td>Nvidia Rally Has Legs. Why It Can Defy China F...</td>\n",
       "      <td>https://www.marketwatch.com/articles/nvidia-st...</td>\n",
       "      <td>Oct. 15, 2024 at 6:57 a.m. ET</td>\n",
       "    </tr>\n",
       "    <tr>\n",
       "      <th>3</th>\n",
       "      <td>Oils War Premium Is Back. Can Prices Top $100?</td>\n",
       "      <td>https://www.marketwatch.com/articles/oil-war-p...</td>\n",
       "      <td>Oct. 11, 2024 at 12:01 a.m. ET</td>\n",
       "    </tr>\n",
       "    <tr>\n",
       "      <th>4</th>\n",
       "      <td>Attacks on Iranian Oil Could Cause Pain at the...</td>\n",
       "      <td>https://www.marketwatch.com/articles/gas-price...</td>\n",
       "      <td>Oct. 4, 2024 at 10:30 a.m. ET</td>\n",
       "    </tr>\n",
       "  </tbody>\n",
       "</table>\n",
       "</div>"
      ],
      "text/plain": [
       "                                            headline  \\\n",
       "0  Im convinced the U.S. will be drawn into Wor...   \n",
       "1  Americas aging population is on a collision c...   \n",
       "2  Nvidia Rally Has Legs. Why It Can Defy China F...   \n",
       "3  Oils War Premium Is Back. Can Prices Top $100?   \n",
       "4  Attacks on Iranian Oil Could Cause Pain at the...   \n",
       "\n",
       "                                                link  \\\n",
       "0  https://www.marketwatch.com/story/im-convinced...   \n",
       "1  https://www.marketwatch.com/story/americas-agi...   \n",
       "2  https://www.marketwatch.com/articles/nvidia-st...   \n",
       "3  https://www.marketwatch.com/articles/oil-war-p...   \n",
       "4  https://www.marketwatch.com/articles/gas-price...   \n",
       "\n",
       "                             date  \n",
       "0   Oct. 16, 2024 at 5:07 a.m. ET  \n",
       "1  Oct. 15, 2024 at 12:39 p.m. ET  \n",
       "2   Oct. 15, 2024 at 6:57 a.m. ET  \n",
       "3  Oct. 11, 2024 at 12:01 a.m. ET  \n",
       "4   Oct. 4, 2024 at 10:30 a.m. ET  "
      ]
     },
     "execution_count": 2410,
     "metadata": {},
     "output_type": "execute_result"
    }
   ],
   "source": [
    "df_geopolitical_event_news.head()"
   ]
  },
  {
   "cell_type": "code",
   "execution_count": 2411,
   "id": "e624c734-a5ae-4f06-b23a-2456bf602415",
   "metadata": {},
   "outputs": [
    {
     "data": {
      "text/plain": [
       "(3276, 3)"
      ]
     },
     "execution_count": 2411,
     "metadata": {},
     "output_type": "execute_result"
    }
   ],
   "source": [
    "df_geopolitical_event_news.shape"
   ]
  },
  {
   "cell_type": "code",
   "execution_count": 2412,
   "id": "dcfc58dd-e91f-40a5-9f73-8f77b56c6eac",
   "metadata": {},
   "outputs": [
    {
     "name": "stdout",
     "output_type": "stream",
     "text": [
      "<class 'pandas.core.frame.DataFrame'>\n",
      "RangeIndex: 3276 entries, 0 to 3275\n",
      "Data columns (total 3 columns):\n",
      " #   Column    Non-Null Count  Dtype \n",
      "---  ------    --------------  ----- \n",
      " 0   headline  3276 non-null   object\n",
      " 1   link      3276 non-null   object\n",
      " 2   date      3276 non-null   object\n",
      "dtypes: object(3)\n",
      "memory usage: 76.9+ KB\n"
     ]
    }
   ],
   "source": [
    "df_geopolitical_event_news.info()"
   ]
  },
  {
   "cell_type": "markdown",
   "id": "f78a1902-a8c1-48fc-a643-8861c3ad28cd",
   "metadata": {},
   "source": [
    "#### Observation:\n",
    "* The date column data type is showing as object datatype.\n",
    "* The date column has some extra details that are not uniform accross the dataset.\n",
    "* The link column is not needed for the model.\n",
    "* headlines have some non alphanumeric character."
   ]
  },
  {
   "cell_type": "code",
   "execution_count": 2414,
   "id": "b4803a03-b537-4a5c-9af8-e136e205061f",
   "metadata": {},
   "outputs": [
    {
     "data": {
      "text/html": [
       "<div>\n",
       "<style scoped>\n",
       "    .dataframe tbody tr th:only-of-type {\n",
       "        vertical-align: middle;\n",
       "    }\n",
       "\n",
       "    .dataframe tbody tr th {\n",
       "        vertical-align: top;\n",
       "    }\n",
       "\n",
       "    .dataframe thead th {\n",
       "        text-align: right;\n",
       "    }\n",
       "</style>\n",
       "<table border=\"1\" class=\"dataframe\">\n",
       "  <thead>\n",
       "    <tr style=\"text-align: right;\">\n",
       "      <th></th>\n",
       "      <th>headline</th>\n",
       "      <th>link</th>\n",
       "      <th>date</th>\n",
       "    </tr>\n",
       "  </thead>\n",
       "  <tbody>\n",
       "    <tr>\n",
       "      <th>0</th>\n",
       "      <td>Im convinced the U.S. will be drawn into Wor...</td>\n",
       "      <td>https://www.marketwatch.com/story/im-convinced...</td>\n",
       "      <td>2024-10-16</td>\n",
       "    </tr>\n",
       "    <tr>\n",
       "      <th>1</th>\n",
       "      <td>Americas aging population is on a collision c...</td>\n",
       "      <td>https://www.marketwatch.com/story/americas-agi...</td>\n",
       "      <td>2024-10-15</td>\n",
       "    </tr>\n",
       "    <tr>\n",
       "      <th>2</th>\n",
       "      <td>Nvidia Rally Has Legs. Why It Can Defy China F...</td>\n",
       "      <td>https://www.marketwatch.com/articles/nvidia-st...</td>\n",
       "      <td>2024-10-15</td>\n",
       "    </tr>\n",
       "    <tr>\n",
       "      <th>3</th>\n",
       "      <td>Oils War Premium Is Back. Can Prices Top $100?</td>\n",
       "      <td>https://www.marketwatch.com/articles/oil-war-p...</td>\n",
       "      <td>2024-10-11</td>\n",
       "    </tr>\n",
       "    <tr>\n",
       "      <th>4</th>\n",
       "      <td>Attacks on Iranian Oil Could Cause Pain at the...</td>\n",
       "      <td>https://www.marketwatch.com/articles/gas-price...</td>\n",
       "      <td>2024-10-04</td>\n",
       "    </tr>\n",
       "  </tbody>\n",
       "</table>\n",
       "</div>"
      ],
      "text/plain": [
       "                                            headline  \\\n",
       "0  Im convinced the U.S. will be drawn into Wor...   \n",
       "1  Americas aging population is on a collision c...   \n",
       "2  Nvidia Rally Has Legs. Why It Can Defy China F...   \n",
       "3  Oils War Premium Is Back. Can Prices Top $100?   \n",
       "4  Attacks on Iranian Oil Could Cause Pain at the...   \n",
       "\n",
       "                                                link       date  \n",
       "0  https://www.marketwatch.com/story/im-convinced... 2024-10-16  \n",
       "1  https://www.marketwatch.com/story/americas-agi... 2024-10-15  \n",
       "2  https://www.marketwatch.com/articles/nvidia-st... 2024-10-15  \n",
       "3  https://www.marketwatch.com/articles/oil-war-p... 2024-10-11  \n",
       "4  https://www.marketwatch.com/articles/gas-price... 2024-10-04  "
      ]
     },
     "execution_count": 2414,
     "metadata": {},
     "output_type": "execute_result"
    }
   ],
   "source": [
    "#apply clean date function \n",
    "df_geopolitical_event_news['date'] = df_geopolitical_event_news['date'].apply(formatDate)\n",
    "df_geopolitical_event_news.head()"
   ]
  },
  {
   "cell_type": "code",
   "execution_count": 2415,
   "id": "f17cf735-cb83-4595-8cd3-2ccd64a53f86",
   "metadata": {},
   "outputs": [
    {
     "data": {
      "text/html": [
       "<div>\n",
       "<style scoped>\n",
       "    .dataframe tbody tr th:only-of-type {\n",
       "        vertical-align: middle;\n",
       "    }\n",
       "\n",
       "    .dataframe tbody tr th {\n",
       "        vertical-align: top;\n",
       "    }\n",
       "\n",
       "    .dataframe thead th {\n",
       "        text-align: right;\n",
       "    }\n",
       "</style>\n",
       "<table border=\"1\" class=\"dataframe\">\n",
       "  <thead>\n",
       "    <tr style=\"text-align: right;\">\n",
       "      <th></th>\n",
       "      <th>headline</th>\n",
       "      <th>date</th>\n",
       "    </tr>\n",
       "  </thead>\n",
       "  <tbody>\n",
       "    <tr>\n",
       "      <th>0</th>\n",
       "      <td>Im convinced the U.S. will be drawn into Wor...</td>\n",
       "      <td>2024-10-16</td>\n",
       "    </tr>\n",
       "    <tr>\n",
       "      <th>1</th>\n",
       "      <td>Americas aging population is on a collision c...</td>\n",
       "      <td>2024-10-15</td>\n",
       "    </tr>\n",
       "    <tr>\n",
       "      <th>2</th>\n",
       "      <td>Nvidia Rally Has Legs. Why It Can Defy China F...</td>\n",
       "      <td>2024-10-15</td>\n",
       "    </tr>\n",
       "    <tr>\n",
       "      <th>3</th>\n",
       "      <td>Oils War Premium Is Back. Can Prices Top $100?</td>\n",
       "      <td>2024-10-11</td>\n",
       "    </tr>\n",
       "    <tr>\n",
       "      <th>4</th>\n",
       "      <td>Attacks on Iranian Oil Could Cause Pain at the...</td>\n",
       "      <td>2024-10-04</td>\n",
       "    </tr>\n",
       "  </tbody>\n",
       "</table>\n",
       "</div>"
      ],
      "text/plain": [
       "                                            headline       date\n",
       "0  Im convinced the U.S. will be drawn into Wor... 2024-10-16\n",
       "1  Americas aging population is on a collision c... 2024-10-15\n",
       "2  Nvidia Rally Has Legs. Why It Can Defy China F... 2024-10-15\n",
       "3  Oils War Premium Is Back. Can Prices Top $100? 2024-10-11\n",
       "4  Attacks on Iranian Oil Could Cause Pain at the... 2024-10-04"
      ]
     },
     "execution_count": 2415,
     "metadata": {},
     "output_type": "execute_result"
    }
   ],
   "source": [
    "#apply the removeColumn\n",
    "df_geopolitical_event_news = removeColumn(df_geopolitical_event_news)\n",
    "df_geopolitical_event_news.head()"
   ]
  },
  {
   "cell_type": "code",
   "execution_count": 2416,
   "id": "1a77b943-b450-49e6-ac52-3c5dc7bc0183",
   "metadata": {},
   "outputs": [
    {
     "data": {
      "text/html": [
       "<div>\n",
       "<style scoped>\n",
       "    .dataframe tbody tr th:only-of-type {\n",
       "        vertical-align: middle;\n",
       "    }\n",
       "\n",
       "    .dataframe tbody tr th {\n",
       "        vertical-align: top;\n",
       "    }\n",
       "\n",
       "    .dataframe thead th {\n",
       "        text-align: right;\n",
       "    }\n",
       "</style>\n",
       "<table border=\"1\" class=\"dataframe\">\n",
       "  <thead>\n",
       "    <tr style=\"text-align: right;\">\n",
       "      <th></th>\n",
       "      <th>headline</th>\n",
       "      <th>date</th>\n",
       "    </tr>\n",
       "  </thead>\n",
       "  <tbody>\n",
       "    <tr>\n",
       "      <th>0</th>\n",
       "      <td>Im convinced the U.S. will be drawn into World...</td>\n",
       "      <td>2024-10-16</td>\n",
       "    </tr>\n",
       "    <tr>\n",
       "      <th>1</th>\n",
       "      <td>Americas aging population is on a collision co...</td>\n",
       "      <td>2024-10-15</td>\n",
       "    </tr>\n",
       "    <tr>\n",
       "      <th>2</th>\n",
       "      <td>Nvidia Rally Has Legs. Why It Can Defy China F...</td>\n",
       "      <td>2024-10-15</td>\n",
       "    </tr>\n",
       "    <tr>\n",
       "      <th>3</th>\n",
       "      <td>Oils War Premium Is Back. Can Prices Top $100?</td>\n",
       "      <td>2024-10-11</td>\n",
       "    </tr>\n",
       "    <tr>\n",
       "      <th>4</th>\n",
       "      <td>Attacks on Iranian Oil Could Cause Pain at the...</td>\n",
       "      <td>2024-10-04</td>\n",
       "    </tr>\n",
       "  </tbody>\n",
       "</table>\n",
       "</div>"
      ],
      "text/plain": [
       "                                            headline       date\n",
       "0  Im convinced the U.S. will be drawn into World... 2024-10-16\n",
       "1  Americas aging population is on a collision co... 2024-10-15\n",
       "2  Nvidia Rally Has Legs. Why It Can Defy China F... 2024-10-15\n",
       "3     Oils War Premium Is Back. Can Prices Top $100? 2024-10-11\n",
       "4  Attacks on Iranian Oil Could Cause Pain at the... 2024-10-04"
      ]
     },
     "execution_count": 2416,
     "metadata": {},
     "output_type": "execute_result"
    }
   ],
   "source": [
    "# Apply the cleanHeadline function to the 'headline' column\n",
    "df_geopolitical_event_news['headline'] = df_geopolitical_event_news['headline'].apply(cleanHeadline)\n",
    "df_geopolitical_event_news.head()"
   ]
  },
  {
   "cell_type": "code",
   "execution_count": 2417,
   "id": "bf743026-0715-4e29-b5d4-db633de94ef3",
   "metadata": {},
   "outputs": [
    {
     "data": {
      "text/plain": [
       "446"
      ]
     },
     "execution_count": 2417,
     "metadata": {},
     "output_type": "execute_result"
    }
   ],
   "source": [
    "# check for duplicate\n",
    "df_geopolitical_event_news.duplicated().sum()"
   ]
  },
  {
   "cell_type": "code",
   "execution_count": 2418,
   "id": "ff9b0279-b5c5-4994-a630-4298ee4c1fc4",
   "metadata": {},
   "outputs": [],
   "source": [
    "# remove duplicated records\n",
    "df_geopolitical_event_news.drop_duplicates(inplace=True)"
   ]
  },
  {
   "cell_type": "code",
   "execution_count": 2419,
   "id": "d16e0130-1419-464c-baa5-1d8008e64aa9",
   "metadata": {},
   "outputs": [
    {
     "data": {
      "text/html": [
       "<div>\n",
       "<style scoped>\n",
       "    .dataframe tbody tr th:only-of-type {\n",
       "        vertical-align: middle;\n",
       "    }\n",
       "\n",
       "    .dataframe tbody tr th {\n",
       "        vertical-align: top;\n",
       "    }\n",
       "\n",
       "    .dataframe thead th {\n",
       "        text-align: right;\n",
       "    }\n",
       "</style>\n",
       "<table border=\"1\" class=\"dataframe\">\n",
       "  <thead>\n",
       "    <tr style=\"text-align: right;\">\n",
       "      <th></th>\n",
       "      <th>date</th>\n",
       "    </tr>\n",
       "  </thead>\n",
       "  <tbody>\n",
       "    <tr>\n",
       "      <th>count</th>\n",
       "      <td>2830</td>\n",
       "    </tr>\n",
       "    <tr>\n",
       "      <th>mean</th>\n",
       "      <td>2021-07-22 09:05:28.197880064</td>\n",
       "    </tr>\n",
       "    <tr>\n",
       "      <th>min</th>\n",
       "      <td>2003-02-19 00:00:00</td>\n",
       "    </tr>\n",
       "    <tr>\n",
       "      <th>25%</th>\n",
       "      <td>2022-04-29 00:00:00</td>\n",
       "    </tr>\n",
       "    <tr>\n",
       "      <th>50%</th>\n",
       "      <td>2022-10-31 00:00:00</td>\n",
       "    </tr>\n",
       "    <tr>\n",
       "      <th>75%</th>\n",
       "      <td>2023-05-18 00:00:00</td>\n",
       "    </tr>\n",
       "    <tr>\n",
       "      <th>max</th>\n",
       "      <td>2024-10-16 00:00:00</td>\n",
       "    </tr>\n",
       "  </tbody>\n",
       "</table>\n",
       "</div>"
      ],
      "text/plain": [
       "                                date\n",
       "count                           2830\n",
       "mean   2021-07-22 09:05:28.197880064\n",
       "min              2003-02-19 00:00:00\n",
       "25%              2022-04-29 00:00:00\n",
       "50%              2022-10-31 00:00:00\n",
       "75%              2023-05-18 00:00:00\n",
       "max              2024-10-16 00:00:00"
      ]
     },
     "execution_count": 2419,
     "metadata": {},
     "output_type": "execute_result"
    }
   ],
   "source": [
    "df_geopolitical_event_news.describe()"
   ]
  },
  {
   "cell_type": "code",
   "execution_count": 2420,
   "id": "0adb4a70-6901-47f7-8521-5f840f6f65f6",
   "metadata": {},
   "outputs": [
    {
     "data": {
      "text/html": [
       "<div>\n",
       "<style scoped>\n",
       "    .dataframe tbody tr th:only-of-type {\n",
       "        vertical-align: middle;\n",
       "    }\n",
       "\n",
       "    .dataframe tbody tr th {\n",
       "        vertical-align: top;\n",
       "    }\n",
       "\n",
       "    .dataframe thead th {\n",
       "        text-align: right;\n",
       "    }\n",
       "</style>\n",
       "<table border=\"1\" class=\"dataframe\">\n",
       "  <thead>\n",
       "    <tr style=\"text-align: right;\">\n",
       "      <th></th>\n",
       "      <th>headline</th>\n",
       "      <th>date</th>\n",
       "    </tr>\n",
       "  </thead>\n",
       "  <tbody>\n",
       "    <tr>\n",
       "      <th>0</th>\n",
       "      <td>Im convinced the U.S. will be drawn into World...</td>\n",
       "      <td>2024-10-16</td>\n",
       "    </tr>\n",
       "    <tr>\n",
       "      <th>1</th>\n",
       "      <td>Americas aging population is on a collision co...</td>\n",
       "      <td>2024-10-15</td>\n",
       "    </tr>\n",
       "    <tr>\n",
       "      <th>2</th>\n",
       "      <td>Nvidia Rally Has Legs. Why It Can Defy China F...</td>\n",
       "      <td>2024-10-15</td>\n",
       "    </tr>\n",
       "    <tr>\n",
       "      <th>3</th>\n",
       "      <td>Oils War Premium Is Back. Can Prices Top $100?</td>\n",
       "      <td>2024-10-11</td>\n",
       "    </tr>\n",
       "    <tr>\n",
       "      <th>4</th>\n",
       "      <td>Attacks on Iranian Oil Could Cause Pain at the...</td>\n",
       "      <td>2024-10-04</td>\n",
       "    </tr>\n",
       "  </tbody>\n",
       "</table>\n",
       "</div>"
      ],
      "text/plain": [
       "                                            headline       date\n",
       "0  Im convinced the U.S. will be drawn into World... 2024-10-16\n",
       "1  Americas aging population is on a collision co... 2024-10-15\n",
       "2  Nvidia Rally Has Legs. Why It Can Defy China F... 2024-10-15\n",
       "3     Oils War Premium Is Back. Can Prices Top $100? 2024-10-11\n",
       "4  Attacks on Iranian Oil Could Cause Pain at the... 2024-10-04"
      ]
     },
     "execution_count": 2420,
     "metadata": {},
     "output_type": "execute_result"
    }
   ],
   "source": [
    "df_geopolitical_event_news_clean = df_geopolitical_event_news.copy()\n",
    "df_geopolitical_event_news_clean.head()"
   ]
  },
  {
   "cell_type": "markdown",
   "id": "653a712c-5ead-4bb9-b517-a48a38890286",
   "metadata": {},
   "source": [
    "#### Pre-processing inflation news headlines data"
   ]
  },
  {
   "cell_type": "code",
   "execution_count": 2422,
   "id": "6bdc9b81-458f-41b8-bc99-1117adc12b16",
   "metadata": {},
   "outputs": [],
   "source": [
    "# make a copy of the dataset\n",
    "df_inflation_news= inflation_news.copy()"
   ]
  },
  {
   "cell_type": "code",
   "execution_count": 2423,
   "id": "8875958d-bcc7-4400-a2e5-eb41244e9e0b",
   "metadata": {},
   "outputs": [
    {
     "data": {
      "text/html": [
       "<div>\n",
       "<style scoped>\n",
       "    .dataframe tbody tr th:only-of-type {\n",
       "        vertical-align: middle;\n",
       "    }\n",
       "\n",
       "    .dataframe tbody tr th {\n",
       "        vertical-align: top;\n",
       "    }\n",
       "\n",
       "    .dataframe thead th {\n",
       "        text-align: right;\n",
       "    }\n",
       "</style>\n",
       "<table border=\"1\" class=\"dataframe\">\n",
       "  <thead>\n",
       "    <tr style=\"text-align: right;\">\n",
       "      <th></th>\n",
       "      <th>headline</th>\n",
       "      <th>link</th>\n",
       "      <th>date</th>\n",
       "    </tr>\n",
       "  </thead>\n",
       "  <tbody>\n",
       "    <tr>\n",
       "      <th>0</th>\n",
       "      <td>Bond Vigilantes Are Out in Force. How To Prote...</td>\n",
       "      <td>https://www.marketwatch.com/articles/bonds-yie...</td>\n",
       "      <td>Oct. 15, 2024 at 2:00 a.m. ET</td>\n",
       "    </tr>\n",
       "    <tr>\n",
       "      <th>1</th>\n",
       "      <td>Get ready for another mutual fund with a hedge...</td>\n",
       "      <td>https://www.marketwatch.com/story/get-ready-fo...</td>\n",
       "      <td>Oct. 15, 2024 at 12:01 a.m. ET</td>\n",
       "    </tr>\n",
       "    <tr>\n",
       "      <th>2</th>\n",
       "      <td>Australian Consumer-Spending Slump Keeps Door ...</td>\n",
       "      <td>https://www.marketwatch.com/story/australian-c...</td>\n",
       "      <td>Oct. 14, 2024 at 7:45 p.m. ET</td>\n",
       "    </tr>\n",
       "    <tr>\n",
       "      <th>3</th>\n",
       "      <td>Hint of very high consumer inflation expecta...</td>\n",
       "      <td>https://www.marketwatch.com/story/hint-of-very...</td>\n",
       "      <td>Oct. 14, 2024 at 2:51 p.m. ET</td>\n",
       "    </tr>\n",
       "    <tr>\n",
       "      <th>4</th>\n",
       "      <td>Its so unfair! Im miserable in my job. Im...</td>\n",
       "      <td>https://www.marketwatch.com/story/its-so-unfai...</td>\n",
       "      <td>Oct. 14, 2024 at 8:27 a.m. ET</td>\n",
       "    </tr>\n",
       "  </tbody>\n",
       "</table>\n",
       "</div>"
      ],
      "text/plain": [
       "                                            headline  \\\n",
       "0  Bond Vigilantes Are Out in Force. How To Prote...   \n",
       "1  Get ready for another mutual fund with a hedge...   \n",
       "2  Australian Consumer-Spending Slump Keeps Door ...   \n",
       "3  Hint of very high consumer inflation expecta...   \n",
       "4  Its so unfair! Im miserable in my job. Im...   \n",
       "\n",
       "                                                link  \\\n",
       "0  https://www.marketwatch.com/articles/bonds-yie...   \n",
       "1  https://www.marketwatch.com/story/get-ready-fo...   \n",
       "2  https://www.marketwatch.com/story/australian-c...   \n",
       "3  https://www.marketwatch.com/story/hint-of-very...   \n",
       "4  https://www.marketwatch.com/story/its-so-unfai...   \n",
       "\n",
       "                             date  \n",
       "0   Oct. 15, 2024 at 2:00 a.m. ET  \n",
       "1  Oct. 15, 2024 at 12:01 a.m. ET  \n",
       "2   Oct. 14, 2024 at 7:45 p.m. ET  \n",
       "3   Oct. 14, 2024 at 2:51 p.m. ET  \n",
       "4   Oct. 14, 2024 at 8:27 a.m. ET  "
      ]
     },
     "execution_count": 2423,
     "metadata": {},
     "output_type": "execute_result"
    }
   ],
   "source": [
    "# display few records\n",
    "df_inflation_news.head()"
   ]
  },
  {
   "cell_type": "code",
   "execution_count": 2424,
   "id": "a5a70ef2-a8e1-4061-b899-46e2d5dfe310",
   "metadata": {},
   "outputs": [
    {
     "data": {
      "text/plain": [
       "(2934, 3)"
      ]
     },
     "execution_count": 2424,
     "metadata": {},
     "output_type": "execute_result"
    }
   ],
   "source": [
    "#dimension\n",
    "df_inflation_news.shape"
   ]
  },
  {
   "cell_type": "code",
   "execution_count": 2425,
   "id": "6e1b78e3-c7c7-4c94-8d96-51b0ec94027f",
   "metadata": {},
   "outputs": [
    {
     "name": "stdout",
     "output_type": "stream",
     "text": [
      "<class 'pandas.core.frame.DataFrame'>\n",
      "RangeIndex: 2934 entries, 0 to 2933\n",
      "Data columns (total 3 columns):\n",
      " #   Column    Non-Null Count  Dtype \n",
      "---  ------    --------------  ----- \n",
      " 0   headline  2917 non-null   object\n",
      " 1   link      2917 non-null   object\n",
      " 2   date      2934 non-null   object\n",
      "dtypes: object(3)\n",
      "memory usage: 68.9+ KB\n"
     ]
    }
   ],
   "source": [
    "# display dataset info\n",
    "df_inflation_news.info()"
   ]
  },
  {
   "cell_type": "markdown",
   "id": "d20b0c9a-a661-4e6a-a67b-fe4bc574720c",
   "metadata": {},
   "source": [
    "### Observation:\n",
    "* Date is not in proper date format and it is not uniform\n",
    "* Date data type is showing as object datatype.\n",
    "* Link column is not needed for the model.\n",
    "* headlines have some non alphabetical character.\n",
    "* Some null values in headlines."
   ]
  },
  {
   "cell_type": "code",
   "execution_count": 2427,
   "id": "c0ddfa9f-413a-44d2-ba03-2e8ecc316828",
   "metadata": {},
   "outputs": [
    {
     "name": "stdout",
     "output_type": "stream",
     "text": [
      "<class 'pandas.core.frame.DataFrame'>\n",
      "Index: 2917 entries, 0 to 2933\n",
      "Data columns (total 3 columns):\n",
      " #   Column    Non-Null Count  Dtype \n",
      "---  ------    --------------  ----- \n",
      " 0   headline  2917 non-null   object\n",
      " 1   link      2917 non-null   object\n",
      " 2   date      2917 non-null   object\n",
      "dtypes: object(3)\n",
      "memory usage: 91.2+ KB\n"
     ]
    }
   ],
   "source": [
    "# removbe the record that do no have headline\n",
    "df_inflation_news.dropna(inplace=True)\n",
    "df_inflation_news.info()"
   ]
  },
  {
   "cell_type": "code",
   "execution_count": 2428,
   "id": "a9394542-08e5-4f52-85f0-996161f443c2",
   "metadata": {},
   "outputs": [
    {
     "data": {
      "text/html": [
       "<div>\n",
       "<style scoped>\n",
       "    .dataframe tbody tr th:only-of-type {\n",
       "        vertical-align: middle;\n",
       "    }\n",
       "\n",
       "    .dataframe tbody tr th {\n",
       "        vertical-align: top;\n",
       "    }\n",
       "\n",
       "    .dataframe thead th {\n",
       "        text-align: right;\n",
       "    }\n",
       "</style>\n",
       "<table border=\"1\" class=\"dataframe\">\n",
       "  <thead>\n",
       "    <tr style=\"text-align: right;\">\n",
       "      <th></th>\n",
       "      <th>headline</th>\n",
       "      <th>link</th>\n",
       "      <th>date</th>\n",
       "    </tr>\n",
       "  </thead>\n",
       "  <tbody>\n",
       "    <tr>\n",
       "      <th>0</th>\n",
       "      <td>Bond Vigilantes Are Out in Force. How To Prote...</td>\n",
       "      <td>https://www.marketwatch.com/articles/bonds-yie...</td>\n",
       "      <td>2024-10-15</td>\n",
       "    </tr>\n",
       "    <tr>\n",
       "      <th>1</th>\n",
       "      <td>Get ready for another mutual fund with a hedge...</td>\n",
       "      <td>https://www.marketwatch.com/story/get-ready-fo...</td>\n",
       "      <td>2024-10-15</td>\n",
       "    </tr>\n",
       "    <tr>\n",
       "      <th>2</th>\n",
       "      <td>Australian Consumer-Spending Slump Keeps Door ...</td>\n",
       "      <td>https://www.marketwatch.com/story/australian-c...</td>\n",
       "      <td>2024-10-14</td>\n",
       "    </tr>\n",
       "    <tr>\n",
       "      <th>3</th>\n",
       "      <td>Hint of very high consumer inflation expecta...</td>\n",
       "      <td>https://www.marketwatch.com/story/hint-of-very...</td>\n",
       "      <td>2024-10-14</td>\n",
       "    </tr>\n",
       "    <tr>\n",
       "      <th>4</th>\n",
       "      <td>Its so unfair! Im miserable in my job. Im...</td>\n",
       "      <td>https://www.marketwatch.com/story/its-so-unfai...</td>\n",
       "      <td>2024-10-14</td>\n",
       "    </tr>\n",
       "  </tbody>\n",
       "</table>\n",
       "</div>"
      ],
      "text/plain": [
       "                                            headline  \\\n",
       "0  Bond Vigilantes Are Out in Force. How To Prote...   \n",
       "1  Get ready for another mutual fund with a hedge...   \n",
       "2  Australian Consumer-Spending Slump Keeps Door ...   \n",
       "3  Hint of very high consumer inflation expecta...   \n",
       "4  Its so unfair! Im miserable in my job. Im...   \n",
       "\n",
       "                                                link       date  \n",
       "0  https://www.marketwatch.com/articles/bonds-yie... 2024-10-15  \n",
       "1  https://www.marketwatch.com/story/get-ready-fo... 2024-10-15  \n",
       "2  https://www.marketwatch.com/story/australian-c... 2024-10-14  \n",
       "3  https://www.marketwatch.com/story/hint-of-very... 2024-10-14  \n",
       "4  https://www.marketwatch.com/story/its-so-unfai... 2024-10-14  "
      ]
     },
     "execution_count": 2428,
     "metadata": {},
     "output_type": "execute_result"
    }
   ],
   "source": [
    "#apply clean date function to normalize the date format\n",
    "df_inflation_news['date'] = df_inflation_news['date'].apply(formatDate)\n",
    "df_inflation_news.head()"
   ]
  },
  {
   "cell_type": "code",
   "execution_count": 2429,
   "id": "beddaebb-7a18-4122-bd70-376c89e8d823",
   "metadata": {},
   "outputs": [
    {
     "data": {
      "text/html": [
       "<div>\n",
       "<style scoped>\n",
       "    .dataframe tbody tr th:only-of-type {\n",
       "        vertical-align: middle;\n",
       "    }\n",
       "\n",
       "    .dataframe tbody tr th {\n",
       "        vertical-align: top;\n",
       "    }\n",
       "\n",
       "    .dataframe thead th {\n",
       "        text-align: right;\n",
       "    }\n",
       "</style>\n",
       "<table border=\"1\" class=\"dataframe\">\n",
       "  <thead>\n",
       "    <tr style=\"text-align: right;\">\n",
       "      <th></th>\n",
       "      <th>headline</th>\n",
       "      <th>date</th>\n",
       "    </tr>\n",
       "  </thead>\n",
       "  <tbody>\n",
       "    <tr>\n",
       "      <th>0</th>\n",
       "      <td>Bond Vigilantes Are Out in Force. How To Prote...</td>\n",
       "      <td>2024-10-15</td>\n",
       "    </tr>\n",
       "    <tr>\n",
       "      <th>1</th>\n",
       "      <td>Get ready for another mutual fund with a hedge...</td>\n",
       "      <td>2024-10-15</td>\n",
       "    </tr>\n",
       "    <tr>\n",
       "      <th>2</th>\n",
       "      <td>Australian Consumer-Spending Slump Keeps Door ...</td>\n",
       "      <td>2024-10-14</td>\n",
       "    </tr>\n",
       "    <tr>\n",
       "      <th>3</th>\n",
       "      <td>Hint of very high consumer inflation expecta...</td>\n",
       "      <td>2024-10-14</td>\n",
       "    </tr>\n",
       "    <tr>\n",
       "      <th>4</th>\n",
       "      <td>Its so unfair! Im miserable in my job. Im...</td>\n",
       "      <td>2024-10-14</td>\n",
       "    </tr>\n",
       "  </tbody>\n",
       "</table>\n",
       "</div>"
      ],
      "text/plain": [
       "                                            headline       date\n",
       "0  Bond Vigilantes Are Out in Force. How To Prote... 2024-10-15\n",
       "1  Get ready for another mutual fund with a hedge... 2024-10-15\n",
       "2  Australian Consumer-Spending Slump Keeps Door ... 2024-10-14\n",
       "3  Hint of very high consumer inflation expecta... 2024-10-14\n",
       "4  Its so unfair! Im miserable in my job. Im... 2024-10-14"
      ]
     },
     "execution_count": 2429,
     "metadata": {},
     "output_type": "execute_result"
    }
   ],
   "source": [
    "#applying clean data function to remove unwanted column and change the date datatype from object to datetime\n",
    "df_inflation_news = removeColumn(df_inflation_news)\n",
    "df_inflation_news.head()"
   ]
  },
  {
   "cell_type": "code",
   "execution_count": 2430,
   "id": "8d7193a7-7b3a-4ff5-827f-9ddfd9fe83e5",
   "metadata": {},
   "outputs": [
    {
     "data": {
      "text/html": [
       "<div>\n",
       "<style scoped>\n",
       "    .dataframe tbody tr th:only-of-type {\n",
       "        vertical-align: middle;\n",
       "    }\n",
       "\n",
       "    .dataframe tbody tr th {\n",
       "        vertical-align: top;\n",
       "    }\n",
       "\n",
       "    .dataframe thead th {\n",
       "        text-align: right;\n",
       "    }\n",
       "</style>\n",
       "<table border=\"1\" class=\"dataframe\">\n",
       "  <thead>\n",
       "    <tr style=\"text-align: right;\">\n",
       "      <th></th>\n",
       "      <th>headline</th>\n",
       "      <th>date</th>\n",
       "    </tr>\n",
       "  </thead>\n",
       "  <tbody>\n",
       "    <tr>\n",
       "      <th>0</th>\n",
       "      <td>Bond Vigilantes Are Out in Force. How To Prote...</td>\n",
       "      <td>2024-10-15</td>\n",
       "    </tr>\n",
       "    <tr>\n",
       "      <th>1</th>\n",
       "      <td>Get ready for another mutual fund with a hedge...</td>\n",
       "      <td>2024-10-15</td>\n",
       "    </tr>\n",
       "    <tr>\n",
       "      <th>2</th>\n",
       "      <td>Australian Consumer-Spending Slump Keeps Door ...</td>\n",
       "      <td>2024-10-14</td>\n",
       "    </tr>\n",
       "    <tr>\n",
       "      <th>3</th>\n",
       "      <td>Hint of very high consumer inflation expectati...</td>\n",
       "      <td>2024-10-14</td>\n",
       "    </tr>\n",
       "    <tr>\n",
       "      <th>4</th>\n",
       "      <td>Its so unfair! Im miserable in my job. Im 58 a...</td>\n",
       "      <td>2024-10-14</td>\n",
       "    </tr>\n",
       "  </tbody>\n",
       "</table>\n",
       "</div>"
      ],
      "text/plain": [
       "                                            headline       date\n",
       "0  Bond Vigilantes Are Out in Force. How To Prote... 2024-10-15\n",
       "1  Get ready for another mutual fund with a hedge... 2024-10-15\n",
       "2  Australian Consumer-Spending Slump Keeps Door ... 2024-10-14\n",
       "3  Hint of very high consumer inflation expectati... 2024-10-14\n",
       "4  Its so unfair! Im miserable in my job. Im 58 a... 2024-10-14"
      ]
     },
     "execution_count": 2430,
     "metadata": {},
     "output_type": "execute_result"
    }
   ],
   "source": [
    "# Apply the cleanHeadline function to the 'headline' column and handle the nun string values\n",
    "df_inflation_news['headline'] = df_inflation_news['headline'].apply(cleanHeadline)\n",
    "df_inflation_news.head()\n"
   ]
  },
  {
   "cell_type": "code",
   "execution_count": 2431,
   "id": "6a557156-7488-4da7-82bd-6165976e2f6d",
   "metadata": {},
   "outputs": [
    {
     "data": {
      "text/plain": [
       "0"
      ]
     },
     "execution_count": 2431,
     "metadata": {},
     "output_type": "execute_result"
    }
   ],
   "source": [
    "#check for duplicated records\n",
    "df_inflation_news.duplicated().sum()"
   ]
  },
  {
   "cell_type": "code",
   "execution_count": 2432,
   "id": "a49f9bc0-d200-4196-9223-b7a69f5bd695",
   "metadata": {},
   "outputs": [
    {
     "data": {
      "text/html": [
       "<div>\n",
       "<style scoped>\n",
       "    .dataframe tbody tr th:only-of-type {\n",
       "        vertical-align: middle;\n",
       "    }\n",
       "\n",
       "    .dataframe tbody tr th {\n",
       "        vertical-align: top;\n",
       "    }\n",
       "\n",
       "    .dataframe thead th {\n",
       "        text-align: right;\n",
       "    }\n",
       "</style>\n",
       "<table border=\"1\" class=\"dataframe\">\n",
       "  <thead>\n",
       "    <tr style=\"text-align: right;\">\n",
       "      <th></th>\n",
       "      <th>date</th>\n",
       "    </tr>\n",
       "  </thead>\n",
       "  <tbody>\n",
       "    <tr>\n",
       "      <th>count</th>\n",
       "      <td>2917</td>\n",
       "    </tr>\n",
       "    <tr>\n",
       "      <th>mean</th>\n",
       "      <td>2024-03-05 06:46:46.444977664</td>\n",
       "    </tr>\n",
       "    <tr>\n",
       "      <th>min</th>\n",
       "      <td>2020-01-24 00:00:00</td>\n",
       "    </tr>\n",
       "    <tr>\n",
       "      <th>25%</th>\n",
       "      <td>2023-11-13 00:00:00</td>\n",
       "    </tr>\n",
       "    <tr>\n",
       "      <th>50%</th>\n",
       "      <td>2024-03-08 00:00:00</td>\n",
       "    </tr>\n",
       "    <tr>\n",
       "      <th>75%</th>\n",
       "      <td>2024-06-28 00:00:00</td>\n",
       "    </tr>\n",
       "    <tr>\n",
       "      <th>max</th>\n",
       "      <td>2024-10-15 00:00:00</td>\n",
       "    </tr>\n",
       "  </tbody>\n",
       "</table>\n",
       "</div>"
      ],
      "text/plain": [
       "                                date\n",
       "count                           2917\n",
       "mean   2024-03-05 06:46:46.444977664\n",
       "min              2020-01-24 00:00:00\n",
       "25%              2023-11-13 00:00:00\n",
       "50%              2024-03-08 00:00:00\n",
       "75%              2024-06-28 00:00:00\n",
       "max              2024-10-15 00:00:00"
      ]
     },
     "execution_count": 2432,
     "metadata": {},
     "output_type": "execute_result"
    }
   ],
   "source": [
    "# statistical overview of the resulting dataset\n",
    "df_inflation_news.describe()"
   ]
  },
  {
   "cell_type": "code",
   "execution_count": 2433,
   "id": "0ead45dc-5bf1-4770-a100-04c72c95da58",
   "metadata": {},
   "outputs": [
    {
     "data": {
      "text/html": [
       "<div>\n",
       "<style scoped>\n",
       "    .dataframe tbody tr th:only-of-type {\n",
       "        vertical-align: middle;\n",
       "    }\n",
       "\n",
       "    .dataframe tbody tr th {\n",
       "        vertical-align: top;\n",
       "    }\n",
       "\n",
       "    .dataframe thead th {\n",
       "        text-align: right;\n",
       "    }\n",
       "</style>\n",
       "<table border=\"1\" class=\"dataframe\">\n",
       "  <thead>\n",
       "    <tr style=\"text-align: right;\">\n",
       "      <th></th>\n",
       "      <th>headline</th>\n",
       "      <th>date</th>\n",
       "    </tr>\n",
       "  </thead>\n",
       "  <tbody>\n",
       "    <tr>\n",
       "      <th>0</th>\n",
       "      <td>Bond Vigilantes Are Out in Force. How To Prote...</td>\n",
       "      <td>2024-10-15</td>\n",
       "    </tr>\n",
       "    <tr>\n",
       "      <th>1</th>\n",
       "      <td>Get ready for another mutual fund with a hedge...</td>\n",
       "      <td>2024-10-15</td>\n",
       "    </tr>\n",
       "    <tr>\n",
       "      <th>2</th>\n",
       "      <td>Australian Consumer-Spending Slump Keeps Door ...</td>\n",
       "      <td>2024-10-14</td>\n",
       "    </tr>\n",
       "    <tr>\n",
       "      <th>3</th>\n",
       "      <td>Hint of very high consumer inflation expectati...</td>\n",
       "      <td>2024-10-14</td>\n",
       "    </tr>\n",
       "    <tr>\n",
       "      <th>4</th>\n",
       "      <td>Its so unfair! Im miserable in my job. Im 58 a...</td>\n",
       "      <td>2024-10-14</td>\n",
       "    </tr>\n",
       "  </tbody>\n",
       "</table>\n",
       "</div>"
      ],
      "text/plain": [
       "                                            headline       date\n",
       "0  Bond Vigilantes Are Out in Force. How To Prote... 2024-10-15\n",
       "1  Get ready for another mutual fund with a hedge... 2024-10-15\n",
       "2  Australian Consumer-Spending Slump Keeps Door ... 2024-10-14\n",
       "3  Hint of very high consumer inflation expectati... 2024-10-14\n",
       "4  Its so unfair! Im miserable in my job. Im 58 a... 2024-10-14"
      ]
     },
     "execution_count": 2433,
     "metadata": {},
     "output_type": "execute_result"
    }
   ],
   "source": [
    "df_inflation_news_clean = df_inflation_news.copy()\n",
    "df_inflation_news_clean.head()"
   ]
  },
  {
   "cell_type": "markdown",
   "id": "832e6abc-28b0-4c3d-901e-01e373404573",
   "metadata": {},
   "source": [
    "#### Pre-processing interest rate news headlines data"
   ]
  },
  {
   "cell_type": "code",
   "execution_count": 2435,
   "id": "60829d69-6db9-40b7-8448-3beb48e0faed",
   "metadata": {},
   "outputs": [
    {
     "data": {
      "text/html": [
       "<div>\n",
       "<style scoped>\n",
       "    .dataframe tbody tr th:only-of-type {\n",
       "        vertical-align: middle;\n",
       "    }\n",
       "\n",
       "    .dataframe tbody tr th {\n",
       "        vertical-align: top;\n",
       "    }\n",
       "\n",
       "    .dataframe thead th {\n",
       "        text-align: right;\n",
       "    }\n",
       "</style>\n",
       "<table border=\"1\" class=\"dataframe\">\n",
       "  <thead>\n",
       "    <tr style=\"text-align: right;\">\n",
       "      <th></th>\n",
       "      <th>headline</th>\n",
       "      <th>link</th>\n",
       "      <th>date</th>\n",
       "    </tr>\n",
       "  </thead>\n",
       "  <tbody>\n",
       "    <tr>\n",
       "      <th>0</th>\n",
       "      <td>TotalEnergies: Third Quarter 2024: Main Indica...</td>\n",
       "      <td>https://www.marketwatch.com/story/totalenergie...</td>\n",
       "      <td>Oct. 15, 2024 at 2:20 a.m. ET</td>\n",
       "    </tr>\n",
       "    <tr>\n",
       "      <th>1</th>\n",
       "      <td>Bond Vigilantes Are Out in Force. How To Prote...</td>\n",
       "      <td>https://www.marketwatch.com/articles/bonds-yie...</td>\n",
       "      <td>Oct. 15, 2024 at 2:00 a.m. ET</td>\n",
       "    </tr>\n",
       "    <tr>\n",
       "      <th>2</th>\n",
       "      <td>Get ready for another mutual fund with a hedge...</td>\n",
       "      <td>https://www.marketwatch.com/story/get-ready-fo...</td>\n",
       "      <td>Oct. 15, 2024 at 12:01 a.m. ET</td>\n",
       "    </tr>\n",
       "    <tr>\n",
       "      <th>3</th>\n",
       "      <td>Australian Consumer-Spending Slump Keeps Door ...</td>\n",
       "      <td>https://www.marketwatch.com/story/australian-c...</td>\n",
       "      <td>Oct. 14, 2024 at 7:45 p.m. ET</td>\n",
       "    </tr>\n",
       "    <tr>\n",
       "      <th>4</th>\n",
       "      <td>AMDs AI punches are landing where it counts ...</td>\n",
       "      <td>https://www.marketwatch.com/story/amds-ai-punc...</td>\n",
       "      <td>Oct. 14, 2024 at 6:19 p.m. ET</td>\n",
       "    </tr>\n",
       "  </tbody>\n",
       "</table>\n",
       "</div>"
      ],
      "text/plain": [
       "                                            headline  \\\n",
       "0  TotalEnergies: Third Quarter 2024: Main Indica...   \n",
       "1  Bond Vigilantes Are Out in Force. How To Prote...   \n",
       "2  Get ready for another mutual fund with a hedge...   \n",
       "3  Australian Consumer-Spending Slump Keeps Door ...   \n",
       "4  AMDs AI punches are landing where it counts ...   \n",
       "\n",
       "                                                link  \\\n",
       "0  https://www.marketwatch.com/story/totalenergie...   \n",
       "1  https://www.marketwatch.com/articles/bonds-yie...   \n",
       "2  https://www.marketwatch.com/story/get-ready-fo...   \n",
       "3  https://www.marketwatch.com/story/australian-c...   \n",
       "4  https://www.marketwatch.com/story/amds-ai-punc...   \n",
       "\n",
       "                             date  \n",
       "0   Oct. 15, 2024 at 2:20 a.m. ET  \n",
       "1   Oct. 15, 2024 at 2:00 a.m. ET  \n",
       "2  Oct. 15, 2024 at 12:01 a.m. ET  \n",
       "3   Oct. 14, 2024 at 7:45 p.m. ET  \n",
       "4   Oct. 14, 2024 at 6:19 p.m. ET  "
      ]
     },
     "execution_count": 2435,
     "metadata": {},
     "output_type": "execute_result"
    }
   ],
   "source": [
    "# make a copy of the original dataset\n",
    "df_interest_rates_news = interest_rates_news.copy()\n",
    "df_interest_rates_news.head()"
   ]
  },
  {
   "cell_type": "code",
   "execution_count": 2436,
   "id": "f8355be0-6399-4acf-a74f-19cfe8692193",
   "metadata": {},
   "outputs": [
    {
     "data": {
      "text/plain": [
       "(3186, 3)"
      ]
     },
     "execution_count": 2436,
     "metadata": {},
     "output_type": "execute_result"
    }
   ],
   "source": [
    "# dimention\n",
    "df_interest_rates_news.shape"
   ]
  },
  {
   "cell_type": "code",
   "execution_count": 2437,
   "id": "995c1716-875d-4ba6-a077-df922be942d2",
   "metadata": {},
   "outputs": [
    {
     "name": "stdout",
     "output_type": "stream",
     "text": [
      "<class 'pandas.core.frame.DataFrame'>\n",
      "RangeIndex: 3186 entries, 0 to 3185\n",
      "Data columns (total 3 columns):\n",
      " #   Column    Non-Null Count  Dtype \n",
      "---  ------    --------------  ----- \n",
      " 0   headline  3161 non-null   object\n",
      " 1   link      3161 non-null   object\n",
      " 2   date      3186 non-null   object\n",
      "dtypes: object(3)\n",
      "memory usage: 74.8+ KB\n"
     ]
    }
   ],
   "source": [
    "df_interest_rates_news.info()"
   ]
  },
  {
   "cell_type": "markdown",
   "id": "0fd841a8-2d77-4014-b157-ed9617e1b292",
   "metadata": {},
   "source": [
    "### Observation:\n",
    "* Date is not in proper date format and it is not uniform\n",
    "* Date data type is showing as object datatype.\n",
    "* Link column is not needed for the model.\n",
    "* Headlines have some non alphabetical character.\n",
    "* Some null values in headlines, only the date are available.\n",
    "* Duplicated records"
   ]
  },
  {
   "cell_type": "code",
   "execution_count": 2439,
   "id": "1657cb38-7b68-4413-8d4a-0506d9a115bf",
   "metadata": {},
   "outputs": [],
   "source": [
    "# remove the records without headline, \n",
    "df_interest_rates_news.dropna(inplace=True)"
   ]
  },
  {
   "cell_type": "code",
   "execution_count": 2440,
   "id": "8f6b8c13-5c2e-47a4-a784-6ed51294ca13",
   "metadata": {},
   "outputs": [
    {
     "data": {
      "text/html": [
       "<div>\n",
       "<style scoped>\n",
       "    .dataframe tbody tr th:only-of-type {\n",
       "        vertical-align: middle;\n",
       "    }\n",
       "\n",
       "    .dataframe tbody tr th {\n",
       "        vertical-align: top;\n",
       "    }\n",
       "\n",
       "    .dataframe thead th {\n",
       "        text-align: right;\n",
       "    }\n",
       "</style>\n",
       "<table border=\"1\" class=\"dataframe\">\n",
       "  <thead>\n",
       "    <tr style=\"text-align: right;\">\n",
       "      <th></th>\n",
       "      <th>headline</th>\n",
       "      <th>link</th>\n",
       "      <th>date</th>\n",
       "    </tr>\n",
       "  </thead>\n",
       "  <tbody>\n",
       "    <tr>\n",
       "      <th>0</th>\n",
       "      <td>TotalEnergies: Third Quarter 2024: Main Indica...</td>\n",
       "      <td>https://www.marketwatch.com/story/totalenergie...</td>\n",
       "      <td>2024-10-15</td>\n",
       "    </tr>\n",
       "    <tr>\n",
       "      <th>1</th>\n",
       "      <td>Bond Vigilantes Are Out in Force. How To Prote...</td>\n",
       "      <td>https://www.marketwatch.com/articles/bonds-yie...</td>\n",
       "      <td>2024-10-15</td>\n",
       "    </tr>\n",
       "    <tr>\n",
       "      <th>2</th>\n",
       "      <td>Get ready for another mutual fund with a hedge...</td>\n",
       "      <td>https://www.marketwatch.com/story/get-ready-fo...</td>\n",
       "      <td>2024-10-15</td>\n",
       "    </tr>\n",
       "    <tr>\n",
       "      <th>3</th>\n",
       "      <td>Australian Consumer-Spending Slump Keeps Door ...</td>\n",
       "      <td>https://www.marketwatch.com/story/australian-c...</td>\n",
       "      <td>2024-10-14</td>\n",
       "    </tr>\n",
       "    <tr>\n",
       "      <th>4</th>\n",
       "      <td>AMDs AI punches are landing where it counts ...</td>\n",
       "      <td>https://www.marketwatch.com/story/amds-ai-punc...</td>\n",
       "      <td>2024-10-14</td>\n",
       "    </tr>\n",
       "  </tbody>\n",
       "</table>\n",
       "</div>"
      ],
      "text/plain": [
       "                                            headline  \\\n",
       "0  TotalEnergies: Third Quarter 2024: Main Indica...   \n",
       "1  Bond Vigilantes Are Out in Force. How To Prote...   \n",
       "2  Get ready for another mutual fund with a hedge...   \n",
       "3  Australian Consumer-Spending Slump Keeps Door ...   \n",
       "4  AMDs AI punches are landing where it counts ...   \n",
       "\n",
       "                                                link       date  \n",
       "0  https://www.marketwatch.com/story/totalenergie... 2024-10-15  \n",
       "1  https://www.marketwatch.com/articles/bonds-yie... 2024-10-15  \n",
       "2  https://www.marketwatch.com/story/get-ready-fo... 2024-10-15  \n",
       "3  https://www.marketwatch.com/story/australian-c... 2024-10-14  \n",
       "4  https://www.marketwatch.com/story/amds-ai-punc... 2024-10-14  "
      ]
     },
     "execution_count": 2440,
     "metadata": {},
     "output_type": "execute_result"
    }
   ],
   "source": [
    "df_interest_rates_news['date'] = df_interest_rates_news['date'].apply(formatDate)\n",
    "df_interest_rates_news.head()\n",
    "\n"
   ]
  },
  {
   "cell_type": "code",
   "execution_count": 2441,
   "id": "a437f212-0080-458a-a334-a1f15ac4ca26",
   "metadata": {},
   "outputs": [
    {
     "data": {
      "text/html": [
       "<div>\n",
       "<style scoped>\n",
       "    .dataframe tbody tr th:only-of-type {\n",
       "        vertical-align: middle;\n",
       "    }\n",
       "\n",
       "    .dataframe tbody tr th {\n",
       "        vertical-align: top;\n",
       "    }\n",
       "\n",
       "    .dataframe thead th {\n",
       "        text-align: right;\n",
       "    }\n",
       "</style>\n",
       "<table border=\"1\" class=\"dataframe\">\n",
       "  <thead>\n",
       "    <tr style=\"text-align: right;\">\n",
       "      <th></th>\n",
       "      <th>headline</th>\n",
       "      <th>date</th>\n",
       "    </tr>\n",
       "  </thead>\n",
       "  <tbody>\n",
       "    <tr>\n",
       "      <th>0</th>\n",
       "      <td>TotalEnergies: Third Quarter 2024: Main Indica...</td>\n",
       "      <td>2024-10-15</td>\n",
       "    </tr>\n",
       "    <tr>\n",
       "      <th>1</th>\n",
       "      <td>Bond Vigilantes Are Out in Force. How To Prote...</td>\n",
       "      <td>2024-10-15</td>\n",
       "    </tr>\n",
       "    <tr>\n",
       "      <th>2</th>\n",
       "      <td>Get ready for another mutual fund with a hedge...</td>\n",
       "      <td>2024-10-15</td>\n",
       "    </tr>\n",
       "    <tr>\n",
       "      <th>3</th>\n",
       "      <td>Australian Consumer-Spending Slump Keeps Door ...</td>\n",
       "      <td>2024-10-14</td>\n",
       "    </tr>\n",
       "    <tr>\n",
       "      <th>4</th>\n",
       "      <td>AMDs AI punches are landing where it counts ...</td>\n",
       "      <td>2024-10-14</td>\n",
       "    </tr>\n",
       "  </tbody>\n",
       "</table>\n",
       "</div>"
      ],
      "text/plain": [
       "                                            headline       date\n",
       "0  TotalEnergies: Third Quarter 2024: Main Indica... 2024-10-15\n",
       "1  Bond Vigilantes Are Out in Force. How To Prote... 2024-10-15\n",
       "2  Get ready for another mutual fund with a hedge... 2024-10-15\n",
       "3  Australian Consumer-Spending Slump Keeps Door ... 2024-10-14\n",
       "4  AMDs AI punches are landing where it counts ... 2024-10-14"
      ]
     },
     "execution_count": 2441,
     "metadata": {},
     "output_type": "execute_result"
    }
   ],
   "source": [
    "df_interest_rates_news = removeColumn(df_interest_rates_news)\n",
    "df_interest_rates_news.head()"
   ]
  },
  {
   "cell_type": "code",
   "execution_count": 2442,
   "id": "250560f3-4c84-47e1-9f39-f93c2881587f",
   "metadata": {},
   "outputs": [
    {
     "data": {
      "text/html": [
       "<div>\n",
       "<style scoped>\n",
       "    .dataframe tbody tr th:only-of-type {\n",
       "        vertical-align: middle;\n",
       "    }\n",
       "\n",
       "    .dataframe tbody tr th {\n",
       "        vertical-align: top;\n",
       "    }\n",
       "\n",
       "    .dataframe thead th {\n",
       "        text-align: right;\n",
       "    }\n",
       "</style>\n",
       "<table border=\"1\" class=\"dataframe\">\n",
       "  <thead>\n",
       "    <tr style=\"text-align: right;\">\n",
       "      <th></th>\n",
       "      <th>headline</th>\n",
       "      <th>date</th>\n",
       "    </tr>\n",
       "  </thead>\n",
       "  <tbody>\n",
       "    <tr>\n",
       "      <th>0</th>\n",
       "      <td>TotalEnergies: Third Quarter 2024: Main Indica...</td>\n",
       "      <td>2024-10-15</td>\n",
       "    </tr>\n",
       "    <tr>\n",
       "      <th>1</th>\n",
       "      <td>Bond Vigilantes Are Out in Force. How To Prote...</td>\n",
       "      <td>2024-10-15</td>\n",
       "    </tr>\n",
       "    <tr>\n",
       "      <th>2</th>\n",
       "      <td>Get ready for another mutual fund with a hedge...</td>\n",
       "      <td>2024-10-15</td>\n",
       "    </tr>\n",
       "    <tr>\n",
       "      <th>3</th>\n",
       "      <td>Australian Consumer-Spending Slump Keeps Door ...</td>\n",
       "      <td>2024-10-14</td>\n",
       "    </tr>\n",
       "    <tr>\n",
       "      <th>4</th>\n",
       "      <td>AMDs AI punches are landing where it counts  a...</td>\n",
       "      <td>2024-10-14</td>\n",
       "    </tr>\n",
       "  </tbody>\n",
       "</table>\n",
       "</div>"
      ],
      "text/plain": [
       "                                            headline       date\n",
       "0  TotalEnergies: Third Quarter 2024: Main Indica... 2024-10-15\n",
       "1  Bond Vigilantes Are Out in Force. How To Prote... 2024-10-15\n",
       "2  Get ready for another mutual fund with a hedge... 2024-10-15\n",
       "3  Australian Consumer-Spending Slump Keeps Door ... 2024-10-14\n",
       "4  AMDs AI punches are landing where it counts  a... 2024-10-14"
      ]
     },
     "execution_count": 2442,
     "metadata": {},
     "output_type": "execute_result"
    }
   ],
   "source": [
    "df_interest_rates_news['headline'] = df_interest_rates_news['headline'].apply(cleanHeadline)\n",
    "df_interest_rates_news.head()"
   ]
  },
  {
   "cell_type": "code",
   "execution_count": 2443,
   "id": "b78d8582-d688-4b6d-a1d4-be8233bfb661",
   "metadata": {},
   "outputs": [
    {
     "data": {
      "text/plain": [
       "1"
      ]
     },
     "execution_count": 2443,
     "metadata": {},
     "output_type": "execute_result"
    }
   ],
   "source": [
    "#check for duplicated records\n",
    "df_interest_rates_news.duplicated().sum()"
   ]
  },
  {
   "cell_type": "code",
   "execution_count": 2444,
   "id": "cb59c395-c5e8-417c-af08-cd2245c9bf17",
   "metadata": {},
   "outputs": [],
   "source": [
    "# remove the duplicated record\n",
    "df_interest_rates_news.drop_duplicates(inplace=True)"
   ]
  },
  {
   "cell_type": "code",
   "execution_count": 2445,
   "id": "d9ec9e82-a902-4dab-bbb8-4f1c79ec3d3e",
   "metadata": {},
   "outputs": [
    {
     "data": {
      "text/html": [
       "<div>\n",
       "<style scoped>\n",
       "    .dataframe tbody tr th:only-of-type {\n",
       "        vertical-align: middle;\n",
       "    }\n",
       "\n",
       "    .dataframe tbody tr th {\n",
       "        vertical-align: top;\n",
       "    }\n",
       "\n",
       "    .dataframe thead th {\n",
       "        text-align: right;\n",
       "    }\n",
       "</style>\n",
       "<table border=\"1\" class=\"dataframe\">\n",
       "  <thead>\n",
       "    <tr style=\"text-align: right;\">\n",
       "      <th></th>\n",
       "      <th>date</th>\n",
       "    </tr>\n",
       "  </thead>\n",
       "  <tbody>\n",
       "    <tr>\n",
       "      <th>count</th>\n",
       "      <td>3160</td>\n",
       "    </tr>\n",
       "    <tr>\n",
       "      <th>mean</th>\n",
       "      <td>2024-04-01 16:37:31.139240448</td>\n",
       "    </tr>\n",
       "    <tr>\n",
       "      <th>min</th>\n",
       "      <td>2020-01-24 00:00:00</td>\n",
       "    </tr>\n",
       "    <tr>\n",
       "      <th>25%</th>\n",
       "      <td>2023-12-21 00:00:00</td>\n",
       "    </tr>\n",
       "    <tr>\n",
       "      <th>50%</th>\n",
       "      <td>2024-04-05 00:00:00</td>\n",
       "    </tr>\n",
       "    <tr>\n",
       "      <th>75%</th>\n",
       "      <td>2024-07-22 00:00:00</td>\n",
       "    </tr>\n",
       "    <tr>\n",
       "      <th>max</th>\n",
       "      <td>2024-10-15 00:00:00</td>\n",
       "    </tr>\n",
       "  </tbody>\n",
       "</table>\n",
       "</div>"
      ],
      "text/plain": [
       "                                date\n",
       "count                           3160\n",
       "mean   2024-04-01 16:37:31.139240448\n",
       "min              2020-01-24 00:00:00\n",
       "25%              2023-12-21 00:00:00\n",
       "50%              2024-04-05 00:00:00\n",
       "75%              2024-07-22 00:00:00\n",
       "max              2024-10-15 00:00:00"
      ]
     },
     "execution_count": 2445,
     "metadata": {},
     "output_type": "execute_result"
    }
   ],
   "source": [
    "# statistical overview of the dataset\n",
    "df_interest_rates_news.describe()"
   ]
  },
  {
   "cell_type": "code",
   "execution_count": 2446,
   "id": "63cb9cba-7e00-4d5d-84d5-95e3d28359a1",
   "metadata": {},
   "outputs": [
    {
     "data": {
      "text/html": [
       "<div>\n",
       "<style scoped>\n",
       "    .dataframe tbody tr th:only-of-type {\n",
       "        vertical-align: middle;\n",
       "    }\n",
       "\n",
       "    .dataframe tbody tr th {\n",
       "        vertical-align: top;\n",
       "    }\n",
       "\n",
       "    .dataframe thead th {\n",
       "        text-align: right;\n",
       "    }\n",
       "</style>\n",
       "<table border=\"1\" class=\"dataframe\">\n",
       "  <thead>\n",
       "    <tr style=\"text-align: right;\">\n",
       "      <th></th>\n",
       "      <th>headline</th>\n",
       "      <th>date</th>\n",
       "    </tr>\n",
       "  </thead>\n",
       "  <tbody>\n",
       "    <tr>\n",
       "      <th>0</th>\n",
       "      <td>TotalEnergies: Third Quarter 2024: Main Indica...</td>\n",
       "      <td>2024-10-15</td>\n",
       "    </tr>\n",
       "    <tr>\n",
       "      <th>1</th>\n",
       "      <td>Bond Vigilantes Are Out in Force. How To Prote...</td>\n",
       "      <td>2024-10-15</td>\n",
       "    </tr>\n",
       "    <tr>\n",
       "      <th>2</th>\n",
       "      <td>Get ready for another mutual fund with a hedge...</td>\n",
       "      <td>2024-10-15</td>\n",
       "    </tr>\n",
       "    <tr>\n",
       "      <th>3</th>\n",
       "      <td>Australian Consumer-Spending Slump Keeps Door ...</td>\n",
       "      <td>2024-10-14</td>\n",
       "    </tr>\n",
       "    <tr>\n",
       "      <th>4</th>\n",
       "      <td>AMDs AI punches are landing where it counts  a...</td>\n",
       "      <td>2024-10-14</td>\n",
       "    </tr>\n",
       "  </tbody>\n",
       "</table>\n",
       "</div>"
      ],
      "text/plain": [
       "                                            headline       date\n",
       "0  TotalEnergies: Third Quarter 2024: Main Indica... 2024-10-15\n",
       "1  Bond Vigilantes Are Out in Force. How To Prote... 2024-10-15\n",
       "2  Get ready for another mutual fund with a hedge... 2024-10-15\n",
       "3  Australian Consumer-Spending Slump Keeps Door ... 2024-10-14\n",
       "4  AMDs AI punches are landing where it counts  a... 2024-10-14"
      ]
     },
     "execution_count": 2446,
     "metadata": {},
     "output_type": "execute_result"
    }
   ],
   "source": [
    "df_interest_rates_news_clean = df_interest_rates_news.copy()\n",
    "df_interest_rates_news.head()"
   ]
  },
  {
   "cell_type": "markdown",
   "id": "78c0c565-3a9d-4da2-a404-1f0ecc99c56d",
   "metadata": {},
   "source": [
    "#### Pre-processing gold news news headlines data"
   ]
  },
  {
   "cell_type": "code",
   "execution_count": 2448,
   "id": "37905cdf-b56a-45bc-bb40-0cbd231500d7",
   "metadata": {},
   "outputs": [],
   "source": [
    "df_gold_news = gold_news.copy()"
   ]
  },
  {
   "cell_type": "code",
   "execution_count": 2449,
   "id": "079cc863-22ae-48ac-9912-b179c3b3cafb",
   "metadata": {},
   "outputs": [
    {
     "data": {
      "text/html": [
       "<div>\n",
       "<style scoped>\n",
       "    .dataframe tbody tr th:only-of-type {\n",
       "        vertical-align: middle;\n",
       "    }\n",
       "\n",
       "    .dataframe tbody tr th {\n",
       "        vertical-align: top;\n",
       "    }\n",
       "\n",
       "    .dataframe thead th {\n",
       "        text-align: right;\n",
       "    }\n",
       "</style>\n",
       "<table border=\"1\" class=\"dataframe\">\n",
       "  <thead>\n",
       "    <tr style=\"text-align: right;\">\n",
       "      <th></th>\n",
       "      <th>headline</th>\n",
       "      <th>link</th>\n",
       "      <th>date</th>\n",
       "    </tr>\n",
       "  </thead>\n",
       "  <tbody>\n",
       "    <tr>\n",
       "      <th>0</th>\n",
       "      <td>Materials Post Limited Gains After Waller Comm...</td>\n",
       "      <td>https://www.marketwatch.com/story/materials-po...</td>\n",
       "      <td>Oct. 14, 2024 at 4:59 p.m. ET</td>\n",
       "    </tr>\n",
       "    <tr>\n",
       "      <th>1</th>\n",
       "      <td>Gold Is Losing Steam. These 4 Stocks Are Just ...</td>\n",
       "      <td>https://www.marketwatch.com/articles/cyclical-...</td>\n",
       "      <td>Oct. 14, 2024 at 3:34 p.m. ET</td>\n",
       "    </tr>\n",
       "    <tr>\n",
       "      <th>2</th>\n",
       "      <td>Bitcoins Jump Is Boosting MicroStrategy and O...</td>\n",
       "      <td>https://www.marketwatch.com/articles/bitcoin-p...</td>\n",
       "      <td>Oct. 14, 2024 at 1:43 p.m. ET</td>\n",
       "    </tr>\n",
       "    <tr>\n",
       "      <th>3</th>\n",
       "      <td>G Mining Ventures Reports Fatality at Guyana Site</td>\n",
       "      <td>https://www.marketwatch.com/story/g-mining-ven...</td>\n",
       "      <td>Oct. 14, 2024 at 11:30 a.m. ET</td>\n",
       "    </tr>\n",
       "    <tr>\n",
       "      <th>4</th>\n",
       "      <td>The market rally is broadening, so heres one ...</td>\n",
       "      <td>https://www.marketwatch.com/story/the-market-r...</td>\n",
       "      <td>Oct. 14, 2024 at 9:32 a.m. ET</td>\n",
       "    </tr>\n",
       "  </tbody>\n",
       "</table>\n",
       "</div>"
      ],
      "text/plain": [
       "                                            headline  \\\n",
       "0  Materials Post Limited Gains After Waller Comm...   \n",
       "1  Gold Is Losing Steam. These 4 Stocks Are Just ...   \n",
       "2  Bitcoins Jump Is Boosting MicroStrategy and O...   \n",
       "3  G Mining Ventures Reports Fatality at Guyana Site   \n",
       "4  The market rally is broadening, so heres one ...   \n",
       "\n",
       "                                                link  \\\n",
       "0  https://www.marketwatch.com/story/materials-po...   \n",
       "1  https://www.marketwatch.com/articles/cyclical-...   \n",
       "2  https://www.marketwatch.com/articles/bitcoin-p...   \n",
       "3  https://www.marketwatch.com/story/g-mining-ven...   \n",
       "4  https://www.marketwatch.com/story/the-market-r...   \n",
       "\n",
       "                             date  \n",
       "0   Oct. 14, 2024 at 4:59 p.m. ET  \n",
       "1   Oct. 14, 2024 at 3:34 p.m. ET  \n",
       "2   Oct. 14, 2024 at 1:43 p.m. ET  \n",
       "3  Oct. 14, 2024 at 11:30 a.m. ET  \n",
       "4   Oct. 14, 2024 at 9:32 a.m. ET  "
      ]
     },
     "execution_count": 2449,
     "metadata": {},
     "output_type": "execute_result"
    }
   ],
   "source": [
    "df_gold_news.head()"
   ]
  },
  {
   "cell_type": "code",
   "execution_count": 2450,
   "id": "e5bdee7b-2720-4d3c-b6de-8de0598ddb68",
   "metadata": {},
   "outputs": [
    {
     "data": {
      "text/plain": [
       "(3276, 3)"
      ]
     },
     "execution_count": 2450,
     "metadata": {},
     "output_type": "execute_result"
    }
   ],
   "source": [
    "# gold's news dataset dimension\n",
    "df_gold_news.shape"
   ]
  },
  {
   "cell_type": "code",
   "execution_count": 2451,
   "id": "2ce722f3-3e8e-4c49-b34d-706850bcc8de",
   "metadata": {},
   "outputs": [
    {
     "name": "stdout",
     "output_type": "stream",
     "text": [
      "<class 'pandas.core.frame.DataFrame'>\n",
      "RangeIndex: 3276 entries, 0 to 3275\n",
      "Data columns (total 3 columns):\n",
      " #   Column    Non-Null Count  Dtype \n",
      "---  ------    --------------  ----- \n",
      " 0   headline  3254 non-null   object\n",
      " 1   link      3254 non-null   object\n",
      " 2   date      3276 non-null   object\n",
      "dtypes: object(3)\n",
      "memory usage: 76.9+ KB\n"
     ]
    }
   ],
   "source": [
    "df_gold_news.info()"
   ]
  },
  {
   "cell_type": "markdown",
   "id": "7a1413b8-6307-453f-bbe5-feee79cd19d3",
   "metadata": {},
   "source": [
    "### Observation:\n",
    "* The date is not in proper date format and it is not uniform\r\n",
    "* Date data type is showing as object datatype\r\n",
    "* The link column is not needed for the model\r\n",
    "* Headlines have some non-alphabetical character\r\n",
    "* Some null values in headlines\r\n",
    "* Duplicated values"
   ]
  },
  {
   "cell_type": "code",
   "execution_count": 2453,
   "id": "3684f318-367b-4056-b35b-70e1ed772272",
   "metadata": {},
   "outputs": [],
   "source": [
    "# remove the records without headline\n",
    "df_gold_news.dropna(inplace=True)"
   ]
  },
  {
   "cell_type": "code",
   "execution_count": 2454,
   "id": "f5562d5d-9c46-4f87-b7d9-4cc9bd2350cf",
   "metadata": {},
   "outputs": [
    {
     "data": {
      "text/html": [
       "<div>\n",
       "<style scoped>\n",
       "    .dataframe tbody tr th:only-of-type {\n",
       "        vertical-align: middle;\n",
       "    }\n",
       "\n",
       "    .dataframe tbody tr th {\n",
       "        vertical-align: top;\n",
       "    }\n",
       "\n",
       "    .dataframe thead th {\n",
       "        text-align: right;\n",
       "    }\n",
       "</style>\n",
       "<table border=\"1\" class=\"dataframe\">\n",
       "  <thead>\n",
       "    <tr style=\"text-align: right;\">\n",
       "      <th></th>\n",
       "      <th>headline</th>\n",
       "      <th>link</th>\n",
       "      <th>date</th>\n",
       "    </tr>\n",
       "  </thead>\n",
       "  <tbody>\n",
       "    <tr>\n",
       "      <th>0</th>\n",
       "      <td>Materials Post Limited Gains After Waller Comm...</td>\n",
       "      <td>https://www.marketwatch.com/story/materials-po...</td>\n",
       "      <td>2024-10-14</td>\n",
       "    </tr>\n",
       "    <tr>\n",
       "      <th>1</th>\n",
       "      <td>Gold Is Losing Steam. These 4 Stocks Are Just ...</td>\n",
       "      <td>https://www.marketwatch.com/articles/cyclical-...</td>\n",
       "      <td>2024-10-14</td>\n",
       "    </tr>\n",
       "    <tr>\n",
       "      <th>2</th>\n",
       "      <td>Bitcoins Jump Is Boosting MicroStrategy and O...</td>\n",
       "      <td>https://www.marketwatch.com/articles/bitcoin-p...</td>\n",
       "      <td>2024-10-14</td>\n",
       "    </tr>\n",
       "    <tr>\n",
       "      <th>3</th>\n",
       "      <td>G Mining Ventures Reports Fatality at Guyana Site</td>\n",
       "      <td>https://www.marketwatch.com/story/g-mining-ven...</td>\n",
       "      <td>2024-10-14</td>\n",
       "    </tr>\n",
       "    <tr>\n",
       "      <th>4</th>\n",
       "      <td>The market rally is broadening, so heres one ...</td>\n",
       "      <td>https://www.marketwatch.com/story/the-market-r...</td>\n",
       "      <td>2024-10-14</td>\n",
       "    </tr>\n",
       "  </tbody>\n",
       "</table>\n",
       "</div>"
      ],
      "text/plain": [
       "                                            headline  \\\n",
       "0  Materials Post Limited Gains After Waller Comm...   \n",
       "1  Gold Is Losing Steam. These 4 Stocks Are Just ...   \n",
       "2  Bitcoins Jump Is Boosting MicroStrategy and O...   \n",
       "3  G Mining Ventures Reports Fatality at Guyana Site   \n",
       "4  The market rally is broadening, so heres one ...   \n",
       "\n",
       "                                                link       date  \n",
       "0  https://www.marketwatch.com/story/materials-po... 2024-10-14  \n",
       "1  https://www.marketwatch.com/articles/cyclical-... 2024-10-14  \n",
       "2  https://www.marketwatch.com/articles/bitcoin-p... 2024-10-14  \n",
       "3  https://www.marketwatch.com/story/g-mining-ven... 2024-10-14  \n",
       "4  https://www.marketwatch.com/story/the-market-r... 2024-10-14  "
      ]
     },
     "execution_count": 2454,
     "metadata": {},
     "output_type": "execute_result"
    }
   ],
   "source": [
    "# change the date data type\n",
    "df_gold_news['date'] = df_gold_news['date'].apply(formatDate)\n",
    "df_gold_news.head()\n"
   ]
  },
  {
   "cell_type": "code",
   "execution_count": 2455,
   "id": "39be3eb4-eb37-44da-a68c-7c3c4604b168",
   "metadata": {},
   "outputs": [
    {
     "data": {
      "text/html": [
       "<div>\n",
       "<style scoped>\n",
       "    .dataframe tbody tr th:only-of-type {\n",
       "        vertical-align: middle;\n",
       "    }\n",
       "\n",
       "    .dataframe tbody tr th {\n",
       "        vertical-align: top;\n",
       "    }\n",
       "\n",
       "    .dataframe thead th {\n",
       "        text-align: right;\n",
       "    }\n",
       "</style>\n",
       "<table border=\"1\" class=\"dataframe\">\n",
       "  <thead>\n",
       "    <tr style=\"text-align: right;\">\n",
       "      <th></th>\n",
       "      <th>headline</th>\n",
       "      <th>date</th>\n",
       "    </tr>\n",
       "  </thead>\n",
       "  <tbody>\n",
       "    <tr>\n",
       "      <th>0</th>\n",
       "      <td>Materials Post Limited Gains After Waller Comm...</td>\n",
       "      <td>2024-10-14</td>\n",
       "    </tr>\n",
       "    <tr>\n",
       "      <th>1</th>\n",
       "      <td>Gold Is Losing Steam. These 4 Stocks Are Just ...</td>\n",
       "      <td>2024-10-14</td>\n",
       "    </tr>\n",
       "    <tr>\n",
       "      <th>2</th>\n",
       "      <td>Bitcoins Jump Is Boosting MicroStrategy and O...</td>\n",
       "      <td>2024-10-14</td>\n",
       "    </tr>\n",
       "    <tr>\n",
       "      <th>3</th>\n",
       "      <td>G Mining Ventures Reports Fatality at Guyana Site</td>\n",
       "      <td>2024-10-14</td>\n",
       "    </tr>\n",
       "    <tr>\n",
       "      <th>4</th>\n",
       "      <td>The market rally is broadening, so heres one ...</td>\n",
       "      <td>2024-10-14</td>\n",
       "    </tr>\n",
       "  </tbody>\n",
       "</table>\n",
       "</div>"
      ],
      "text/plain": [
       "                                            headline       date\n",
       "0  Materials Post Limited Gains After Waller Comm... 2024-10-14\n",
       "1  Gold Is Losing Steam. These 4 Stocks Are Just ... 2024-10-14\n",
       "2  Bitcoins Jump Is Boosting MicroStrategy and O... 2024-10-14\n",
       "3  G Mining Ventures Reports Fatality at Guyana Site 2024-10-14\n",
       "4  The market rally is broadening, so heres one ... 2024-10-14"
      ]
     },
     "execution_count": 2455,
     "metadata": {},
     "output_type": "execute_result"
    }
   ],
   "source": [
    "# remove the link column\n",
    "df_gold_news = removeColumn(df_gold_news)\n",
    "df_gold_news.head()"
   ]
  },
  {
   "cell_type": "code",
   "execution_count": 2456,
   "id": "9914040a-0e0d-4b81-b9e9-ee7bcb8ce142",
   "metadata": {},
   "outputs": [
    {
     "data": {
      "text/html": [
       "<div>\n",
       "<style scoped>\n",
       "    .dataframe tbody tr th:only-of-type {\n",
       "        vertical-align: middle;\n",
       "    }\n",
       "\n",
       "    .dataframe tbody tr th {\n",
       "        vertical-align: top;\n",
       "    }\n",
       "\n",
       "    .dataframe thead th {\n",
       "        text-align: right;\n",
       "    }\n",
       "</style>\n",
       "<table border=\"1\" class=\"dataframe\">\n",
       "  <thead>\n",
       "    <tr style=\"text-align: right;\">\n",
       "      <th></th>\n",
       "      <th>headline</th>\n",
       "      <th>date</th>\n",
       "    </tr>\n",
       "  </thead>\n",
       "  <tbody>\n",
       "    <tr>\n",
       "      <th>0</th>\n",
       "      <td>Materials Post Limited Gains After Waller Comm...</td>\n",
       "      <td>2024-10-14</td>\n",
       "    </tr>\n",
       "    <tr>\n",
       "      <th>1</th>\n",
       "      <td>Gold Is Losing Steam. These 4 Stocks Are Just ...</td>\n",
       "      <td>2024-10-14</td>\n",
       "    </tr>\n",
       "    <tr>\n",
       "      <th>2</th>\n",
       "      <td>Bitcoins Jump Is Boosting MicroStrategy and Ot...</td>\n",
       "      <td>2024-10-14</td>\n",
       "    </tr>\n",
       "    <tr>\n",
       "      <th>3</th>\n",
       "      <td>G Mining Ventures Reports Fatality at Guyana Site</td>\n",
       "      <td>2024-10-14</td>\n",
       "    </tr>\n",
       "    <tr>\n",
       "      <th>4</th>\n",
       "      <td>The market rally is broadening, so heres one w...</td>\n",
       "      <td>2024-10-14</td>\n",
       "    </tr>\n",
       "  </tbody>\n",
       "</table>\n",
       "</div>"
      ],
      "text/plain": [
       "                                            headline       date\n",
       "0  Materials Post Limited Gains After Waller Comm... 2024-10-14\n",
       "1  Gold Is Losing Steam. These 4 Stocks Are Just ... 2024-10-14\n",
       "2  Bitcoins Jump Is Boosting MicroStrategy and Ot... 2024-10-14\n",
       "3  G Mining Ventures Reports Fatality at Guyana Site 2024-10-14\n",
       "4  The market rally is broadening, so heres one w... 2024-10-14"
      ]
     },
     "execution_count": 2456,
     "metadata": {},
     "output_type": "execute_result"
    }
   ],
   "source": [
    "# clean the headlines to remove the non-alphanumeric characters\n",
    "df_gold_news['headline'] = df_gold_news['headline'].apply(cleanHeadline)\n",
    "df_gold_news.head()"
   ]
  },
  {
   "cell_type": "code",
   "execution_count": 2457,
   "id": "c412b8a7-2830-4d5f-b428-1c9892c61ab4",
   "metadata": {},
   "outputs": [
    {
     "data": {
      "text/plain": [
       "1"
      ]
     },
     "execution_count": 2457,
     "metadata": {},
     "output_type": "execute_result"
    }
   ],
   "source": [
    "#check for duplicate records\n",
    "df_gold_news.duplicated().sum()"
   ]
  },
  {
   "cell_type": "code",
   "execution_count": 2458,
   "id": "e006b8e2-4f34-4137-9c44-40edc81ca0e2",
   "metadata": {},
   "outputs": [],
   "source": [
    "# remove duplicated records\n",
    "df_gold_news.drop_duplicates(inplace=True)"
   ]
  },
  {
   "cell_type": "code",
   "execution_count": 2459,
   "id": "9f65ea75-7827-4645-8247-254ac830e498",
   "metadata": {},
   "outputs": [
    {
     "data": {
      "text/html": [
       "<div>\n",
       "<style scoped>\n",
       "    .dataframe tbody tr th:only-of-type {\n",
       "        vertical-align: middle;\n",
       "    }\n",
       "\n",
       "    .dataframe tbody tr th {\n",
       "        vertical-align: top;\n",
       "    }\n",
       "\n",
       "    .dataframe thead th {\n",
       "        text-align: right;\n",
       "    }\n",
       "</style>\n",
       "<table border=\"1\" class=\"dataframe\">\n",
       "  <thead>\n",
       "    <tr style=\"text-align: right;\">\n",
       "      <th></th>\n",
       "      <th>headline</th>\n",
       "      <th>date</th>\n",
       "    </tr>\n",
       "  </thead>\n",
       "  <tbody>\n",
       "    <tr>\n",
       "      <th>0</th>\n",
       "      <td>Materials Post Limited Gains After Waller Comm...</td>\n",
       "      <td>2024-10-14</td>\n",
       "    </tr>\n",
       "    <tr>\n",
       "      <th>1</th>\n",
       "      <td>Gold Is Losing Steam. These 4 Stocks Are Just ...</td>\n",
       "      <td>2024-10-14</td>\n",
       "    </tr>\n",
       "    <tr>\n",
       "      <th>2</th>\n",
       "      <td>Bitcoins Jump Is Boosting MicroStrategy and Ot...</td>\n",
       "      <td>2024-10-14</td>\n",
       "    </tr>\n",
       "    <tr>\n",
       "      <th>3</th>\n",
       "      <td>G Mining Ventures Reports Fatality at Guyana Site</td>\n",
       "      <td>2024-10-14</td>\n",
       "    </tr>\n",
       "    <tr>\n",
       "      <th>4</th>\n",
       "      <td>The market rally is broadening, so heres one w...</td>\n",
       "      <td>2024-10-14</td>\n",
       "    </tr>\n",
       "  </tbody>\n",
       "</table>\n",
       "</div>"
      ],
      "text/plain": [
       "                                            headline       date\n",
       "0  Materials Post Limited Gains After Waller Comm... 2024-10-14\n",
       "1  Gold Is Losing Steam. These 4 Stocks Are Just ... 2024-10-14\n",
       "2  Bitcoins Jump Is Boosting MicroStrategy and Ot... 2024-10-14\n",
       "3  G Mining Ventures Reports Fatality at Guyana Site 2024-10-14\n",
       "4  The market rally is broadening, so heres one w... 2024-10-14"
      ]
     },
     "execution_count": 2459,
     "metadata": {},
     "output_type": "execute_result"
    }
   ],
   "source": [
    "df_gold_news.head()"
   ]
  },
  {
   "cell_type": "code",
   "execution_count": 2460,
   "id": "03578d83-fd1b-477d-9a93-aaea51d4a593",
   "metadata": {},
   "outputs": [
    {
     "data": {
      "text/html": [
       "<div>\n",
       "<style scoped>\n",
       "    .dataframe tbody tr th:only-of-type {\n",
       "        vertical-align: middle;\n",
       "    }\n",
       "\n",
       "    .dataframe tbody tr th {\n",
       "        vertical-align: top;\n",
       "    }\n",
       "\n",
       "    .dataframe thead th {\n",
       "        text-align: right;\n",
       "    }\n",
       "</style>\n",
       "<table border=\"1\" class=\"dataframe\">\n",
       "  <thead>\n",
       "    <tr style=\"text-align: right;\">\n",
       "      <th></th>\n",
       "      <th>date</th>\n",
       "    </tr>\n",
       "  </thead>\n",
       "  <tbody>\n",
       "    <tr>\n",
       "      <th>count</th>\n",
       "      <td>3253</td>\n",
       "    </tr>\n",
       "    <tr>\n",
       "      <th>mean</th>\n",
       "      <td>2023-07-11 12:35:11.527820288</td>\n",
       "    </tr>\n",
       "    <tr>\n",
       "      <th>min</th>\n",
       "      <td>2011-02-26 00:00:00</td>\n",
       "    </tr>\n",
       "    <tr>\n",
       "      <th>25%</th>\n",
       "      <td>2022-11-04 00:00:00</td>\n",
       "    </tr>\n",
       "    <tr>\n",
       "      <th>50%</th>\n",
       "      <td>2023-07-01 00:00:00</td>\n",
       "    </tr>\n",
       "    <tr>\n",
       "      <th>75%</th>\n",
       "      <td>2024-03-30 00:00:00</td>\n",
       "    </tr>\n",
       "    <tr>\n",
       "      <th>max</th>\n",
       "      <td>2024-10-14 00:00:00</td>\n",
       "    </tr>\n",
       "  </tbody>\n",
       "</table>\n",
       "</div>"
      ],
      "text/plain": [
       "                                date\n",
       "count                           3253\n",
       "mean   2023-07-11 12:35:11.527820288\n",
       "min              2011-02-26 00:00:00\n",
       "25%              2022-11-04 00:00:00\n",
       "50%              2023-07-01 00:00:00\n",
       "75%              2024-03-30 00:00:00\n",
       "max              2024-10-14 00:00:00"
      ]
     },
     "execution_count": 2460,
     "metadata": {},
     "output_type": "execute_result"
    }
   ],
   "source": [
    "df_gold_news.describe()"
   ]
  },
  {
   "cell_type": "code",
   "execution_count": 2461,
   "id": "96b46398-3aec-4473-9239-cc00a14c27ab",
   "metadata": {},
   "outputs": [
    {
     "data": {
      "text/html": [
       "<div>\n",
       "<style scoped>\n",
       "    .dataframe tbody tr th:only-of-type {\n",
       "        vertical-align: middle;\n",
       "    }\n",
       "\n",
       "    .dataframe tbody tr th {\n",
       "        vertical-align: top;\n",
       "    }\n",
       "\n",
       "    .dataframe thead th {\n",
       "        text-align: right;\n",
       "    }\n",
       "</style>\n",
       "<table border=\"1\" class=\"dataframe\">\n",
       "  <thead>\n",
       "    <tr style=\"text-align: right;\">\n",
       "      <th></th>\n",
       "      <th>headline</th>\n",
       "      <th>date</th>\n",
       "    </tr>\n",
       "  </thead>\n",
       "  <tbody>\n",
       "    <tr>\n",
       "      <th>0</th>\n",
       "      <td>Materials Post Limited Gains After Waller Comm...</td>\n",
       "      <td>2024-10-14</td>\n",
       "    </tr>\n",
       "    <tr>\n",
       "      <th>1</th>\n",
       "      <td>Gold Is Losing Steam. These 4 Stocks Are Just ...</td>\n",
       "      <td>2024-10-14</td>\n",
       "    </tr>\n",
       "    <tr>\n",
       "      <th>2</th>\n",
       "      <td>Bitcoins Jump Is Boosting MicroStrategy and Ot...</td>\n",
       "      <td>2024-10-14</td>\n",
       "    </tr>\n",
       "    <tr>\n",
       "      <th>3</th>\n",
       "      <td>G Mining Ventures Reports Fatality at Guyana Site</td>\n",
       "      <td>2024-10-14</td>\n",
       "    </tr>\n",
       "    <tr>\n",
       "      <th>4</th>\n",
       "      <td>The market rally is broadening, so heres one w...</td>\n",
       "      <td>2024-10-14</td>\n",
       "    </tr>\n",
       "  </tbody>\n",
       "</table>\n",
       "</div>"
      ],
      "text/plain": [
       "                                            headline       date\n",
       "0  Materials Post Limited Gains After Waller Comm... 2024-10-14\n",
       "1  Gold Is Losing Steam. These 4 Stocks Are Just ... 2024-10-14\n",
       "2  Bitcoins Jump Is Boosting MicroStrategy and Ot... 2024-10-14\n",
       "3  G Mining Ventures Reports Fatality at Guyana Site 2024-10-14\n",
       "4  The market rally is broadening, so heres one w... 2024-10-14"
      ]
     },
     "execution_count": 2461,
     "metadata": {},
     "output_type": "execute_result"
    }
   ],
   "source": [
    "df_gold_news_clean = df_gold_news.copy()\n",
    "df_gold_news.head()"
   ]
  },
  {
   "cell_type": "markdown",
   "id": "1e3627ea-47be-491c-88ed-0035e698a39d",
   "metadata": {},
   "source": [
    "#### Pre-processing Economic crisis news headlines data"
   ]
  },
  {
   "cell_type": "code",
   "execution_count": 2463,
   "id": "0b9fcdb5-4ce9-40e6-aa88-0aca6e5ea268",
   "metadata": {},
   "outputs": [
    {
     "data": {
      "text/html": [
       "<div>\n",
       "<style scoped>\n",
       "    .dataframe tbody tr th:only-of-type {\n",
       "        vertical-align: middle;\n",
       "    }\n",
       "\n",
       "    .dataframe tbody tr th {\n",
       "        vertical-align: top;\n",
       "    }\n",
       "\n",
       "    .dataframe thead th {\n",
       "        text-align: right;\n",
       "    }\n",
       "</style>\n",
       "<table border=\"1\" class=\"dataframe\">\n",
       "  <thead>\n",
       "    <tr style=\"text-align: right;\">\n",
       "      <th></th>\n",
       "      <th>headline</th>\n",
       "      <th>link</th>\n",
       "      <th>date</th>\n",
       "    </tr>\n",
       "  </thead>\n",
       "  <tbody>\n",
       "    <tr>\n",
       "      <th>0</th>\n",
       "      <td>ï»¿âIâm convinced the U.S. will be drawn i...</td>\n",
       "      <td>https://www.marketwatch.com/story/im-convinced...</td>\n",
       "      <td>Oct. 16, 2024 at 5:07 a.m. ET</td>\n",
       "    </tr>\n",
       "    <tr>\n",
       "      <th>1</th>\n",
       "      <td>Americaâs aging population is on a collision...</td>\n",
       "      <td>https://www.marketwatch.com/story/americas-agi...</td>\n",
       "      <td>Oct. 15, 2024 at 12:39 p.m. ET</td>\n",
       "    </tr>\n",
       "    <tr>\n",
       "      <th>2</th>\n",
       "      <td>Nvidia Rally Has Legs. Why It Can Defy China F...</td>\n",
       "      <td>https://www.marketwatch.com/articles/nvidia-st...</td>\n",
       "      <td>Oct. 15, 2024 at 6:57 a.m. ET</td>\n",
       "    </tr>\n",
       "    <tr>\n",
       "      <th>3</th>\n",
       "      <td>Oilâs âWar Premiumâ Is Back. Can Prices ...</td>\n",
       "      <td>https://www.marketwatch.com/articles/oil-war-p...</td>\n",
       "      <td>Oct. 11, 2024 at 12:01 a.m. ET</td>\n",
       "    </tr>\n",
       "    <tr>\n",
       "      <th>4</th>\n",
       "      <td>Attacks on Iranian Oil Could Cause Pain at the...</td>\n",
       "      <td>https://www.marketwatch.com/articles/gas-price...</td>\n",
       "      <td>Oct. 4, 2024 at 10:30 a.m. ET</td>\n",
       "    </tr>\n",
       "  </tbody>\n",
       "</table>\n",
       "</div>"
      ],
      "text/plain": [
       "                                            headline  \\\n",
       "0  ï»¿âIâm convinced the U.S. will be drawn i...   \n",
       "1  Americaâs aging population is on a collision...   \n",
       "2  Nvidia Rally Has Legs. Why It Can Defy China F...   \n",
       "3  Oilâs âWar Premiumâ Is Back. Can Prices ...   \n",
       "4  Attacks on Iranian Oil Could Cause Pain at the...   \n",
       "\n",
       "                                                link  \\\n",
       "0  https://www.marketwatch.com/story/im-convinced...   \n",
       "1  https://www.marketwatch.com/story/americas-agi...   \n",
       "2  https://www.marketwatch.com/articles/nvidia-st...   \n",
       "3  https://www.marketwatch.com/articles/oil-war-p...   \n",
       "4  https://www.marketwatch.com/articles/gas-price...   \n",
       "\n",
       "                             date  \n",
       "0   Oct. 16, 2024 at 5:07 a.m. ET  \n",
       "1  Oct. 15, 2024 at 12:39 p.m. ET  \n",
       "2   Oct. 15, 2024 at 6:57 a.m. ET  \n",
       "3  Oct. 11, 2024 at 12:01 a.m. ET  \n",
       "4   Oct. 4, 2024 at 10:30 a.m. ET  "
      ]
     },
     "execution_count": 2463,
     "metadata": {},
     "output_type": "execute_result"
    }
   ],
   "source": [
    "df_economic_crisis_news = economic_crisis_news.copy()\n",
    "df_economic_crisis_news.head()"
   ]
  },
  {
   "cell_type": "code",
   "execution_count": 2464,
   "id": "9e7cce93-a9de-4307-9146-b0f61f56c34f",
   "metadata": {},
   "outputs": [
    {
     "data": {
      "text/plain": [
       "(3276, 3)"
      ]
     },
     "execution_count": 2464,
     "metadata": {},
     "output_type": "execute_result"
    }
   ],
   "source": [
    "df_economic_crisis_news.shape"
   ]
  },
  {
   "cell_type": "code",
   "execution_count": 2465,
   "id": "463f85a7-0a1c-484b-ab06-cf2215f529bf",
   "metadata": {},
   "outputs": [
    {
     "name": "stdout",
     "output_type": "stream",
     "text": [
      "<class 'pandas.core.frame.DataFrame'>\n",
      "RangeIndex: 3276 entries, 0 to 3275\n",
      "Data columns (total 3 columns):\n",
      " #   Column    Non-Null Count  Dtype \n",
      "---  ------    --------------  ----- \n",
      " 0   headline  3276 non-null   object\n",
      " 1   link      3276 non-null   object\n",
      " 2   date      3276 non-null   object\n",
      "dtypes: object(3)\n",
      "memory usage: 76.9+ KB\n"
     ]
    }
   ],
   "source": [
    "df_economic_crisis_news.info()"
   ]
  },
  {
   "cell_type": "markdown",
   "id": "53560768-175d-4f06-9dae-009a9a88eb4b",
   "metadata": {},
   "source": [
    "### Observation:\n",
    "* The Date is not in proper date format and it is not uniform.\n",
    "* Date data type is showing as object datatype.\n",
    "* The link column is not needed for the model\n",
    "* headlines have some non-alphabetical characte.\n",
    "* Some null values in headlines, only the date is availabl.\n",
    "* Duplicated values"
   ]
  },
  {
   "cell_type": "code",
   "execution_count": 2467,
   "id": "a9726b35-925c-4d59-b0fb-b26b959d1636",
   "metadata": {},
   "outputs": [
    {
     "data": {
      "text/html": [
       "<div>\n",
       "<style scoped>\n",
       "    .dataframe tbody tr th:only-of-type {\n",
       "        vertical-align: middle;\n",
       "    }\n",
       "\n",
       "    .dataframe tbody tr th {\n",
       "        vertical-align: top;\n",
       "    }\n",
       "\n",
       "    .dataframe thead th {\n",
       "        text-align: right;\n",
       "    }\n",
       "</style>\n",
       "<table border=\"1\" class=\"dataframe\">\n",
       "  <thead>\n",
       "    <tr style=\"text-align: right;\">\n",
       "      <th></th>\n",
       "      <th>headline</th>\n",
       "      <th>link</th>\n",
       "      <th>date</th>\n",
       "    </tr>\n",
       "  </thead>\n",
       "  <tbody>\n",
       "    <tr>\n",
       "      <th>0</th>\n",
       "      <td>ï»¿âIâm convinced the U.S. will be drawn i...</td>\n",
       "      <td>https://www.marketwatch.com/story/im-convinced...</td>\n",
       "      <td>2024-10-16</td>\n",
       "    </tr>\n",
       "    <tr>\n",
       "      <th>1</th>\n",
       "      <td>Americaâs aging population is on a collision...</td>\n",
       "      <td>https://www.marketwatch.com/story/americas-agi...</td>\n",
       "      <td>2024-10-15</td>\n",
       "    </tr>\n",
       "    <tr>\n",
       "      <th>2</th>\n",
       "      <td>Nvidia Rally Has Legs. Why It Can Defy China F...</td>\n",
       "      <td>https://www.marketwatch.com/articles/nvidia-st...</td>\n",
       "      <td>2024-10-15</td>\n",
       "    </tr>\n",
       "    <tr>\n",
       "      <th>3</th>\n",
       "      <td>Oilâs âWar Premiumâ Is Back. Can Prices ...</td>\n",
       "      <td>https://www.marketwatch.com/articles/oil-war-p...</td>\n",
       "      <td>2024-10-11</td>\n",
       "    </tr>\n",
       "    <tr>\n",
       "      <th>4</th>\n",
       "      <td>Attacks on Iranian Oil Could Cause Pain at the...</td>\n",
       "      <td>https://www.marketwatch.com/articles/gas-price...</td>\n",
       "      <td>2024-10-04</td>\n",
       "    </tr>\n",
       "  </tbody>\n",
       "</table>\n",
       "</div>"
      ],
      "text/plain": [
       "                                            headline  \\\n",
       "0  ï»¿âIâm convinced the U.S. will be drawn i...   \n",
       "1  Americaâs aging population is on a collision...   \n",
       "2  Nvidia Rally Has Legs. Why It Can Defy China F...   \n",
       "3  Oilâs âWar Premiumâ Is Back. Can Prices ...   \n",
       "4  Attacks on Iranian Oil Could Cause Pain at the...   \n",
       "\n",
       "                                                link       date  \n",
       "0  https://www.marketwatch.com/story/im-convinced... 2024-10-16  \n",
       "1  https://www.marketwatch.com/story/americas-agi... 2024-10-15  \n",
       "2  https://www.marketwatch.com/articles/nvidia-st... 2024-10-15  \n",
       "3  https://www.marketwatch.com/articles/oil-war-p... 2024-10-11  \n",
       "4  https://www.marketwatch.com/articles/gas-price... 2024-10-04  "
      ]
     },
     "execution_count": 2467,
     "metadata": {},
     "output_type": "execute_result"
    }
   ],
   "source": [
    "# clean the data column\n",
    "df_economic_crisis_news['date'] = df_economic_crisis_news['date'].apply(formatDate)\n",
    "df_economic_crisis_news.head()\n"
   ]
  },
  {
   "cell_type": "code",
   "execution_count": 2468,
   "id": "635a65d3-2a13-48ed-9ae8-3aa38c43af18",
   "metadata": {},
   "outputs": [
    {
     "data": {
      "text/html": [
       "<div>\n",
       "<style scoped>\n",
       "    .dataframe tbody tr th:only-of-type {\n",
       "        vertical-align: middle;\n",
       "    }\n",
       "\n",
       "    .dataframe tbody tr th {\n",
       "        vertical-align: top;\n",
       "    }\n",
       "\n",
       "    .dataframe thead th {\n",
       "        text-align: right;\n",
       "    }\n",
       "</style>\n",
       "<table border=\"1\" class=\"dataframe\">\n",
       "  <thead>\n",
       "    <tr style=\"text-align: right;\">\n",
       "      <th></th>\n",
       "      <th>headline</th>\n",
       "      <th>date</th>\n",
       "    </tr>\n",
       "  </thead>\n",
       "  <tbody>\n",
       "    <tr>\n",
       "      <th>0</th>\n",
       "      <td>ï»¿âIâm convinced the U.S. will be drawn i...</td>\n",
       "      <td>2024-10-16</td>\n",
       "    </tr>\n",
       "    <tr>\n",
       "      <th>1</th>\n",
       "      <td>Americaâs aging population is on a collision...</td>\n",
       "      <td>2024-10-15</td>\n",
       "    </tr>\n",
       "    <tr>\n",
       "      <th>2</th>\n",
       "      <td>Nvidia Rally Has Legs. Why It Can Defy China F...</td>\n",
       "      <td>2024-10-15</td>\n",
       "    </tr>\n",
       "    <tr>\n",
       "      <th>3</th>\n",
       "      <td>Oilâs âWar Premiumâ Is Back. Can Prices ...</td>\n",
       "      <td>2024-10-11</td>\n",
       "    </tr>\n",
       "    <tr>\n",
       "      <th>4</th>\n",
       "      <td>Attacks on Iranian Oil Could Cause Pain at the...</td>\n",
       "      <td>2024-10-04</td>\n",
       "    </tr>\n",
       "  </tbody>\n",
       "</table>\n",
       "</div>"
      ],
      "text/plain": [
       "                                            headline       date\n",
       "0  ï»¿âIâm convinced the U.S. will be drawn i... 2024-10-16\n",
       "1  Americaâs aging population is on a collision... 2024-10-15\n",
       "2  Nvidia Rally Has Legs. Why It Can Defy China F... 2024-10-15\n",
       "3  Oilâs âWar Premiumâ Is Back. Can Prices ... 2024-10-11\n",
       "4  Attacks on Iranian Oil Could Cause Pain at the... 2024-10-04"
      ]
     },
     "execution_count": 2468,
     "metadata": {},
     "output_type": "execute_result"
    }
   ],
   "source": [
    "df_economic_crisis_news = removeColumn(df_economic_crisis_news)\n",
    "df_economic_crisis_news.head()"
   ]
  },
  {
   "cell_type": "code",
   "execution_count": 2469,
   "id": "9f7ff453-b34a-4ab8-896a-903f910f568a",
   "metadata": {},
   "outputs": [
    {
     "data": {
      "text/html": [
       "<div>\n",
       "<style scoped>\n",
       "    .dataframe tbody tr th:only-of-type {\n",
       "        vertical-align: middle;\n",
       "    }\n",
       "\n",
       "    .dataframe tbody tr th {\n",
       "        vertical-align: top;\n",
       "    }\n",
       "\n",
       "    .dataframe thead th {\n",
       "        text-align: right;\n",
       "    }\n",
       "</style>\n",
       "<table border=\"1\" class=\"dataframe\">\n",
       "  <thead>\n",
       "    <tr style=\"text-align: right;\">\n",
       "      <th></th>\n",
       "      <th>headline</th>\n",
       "      <th>date</th>\n",
       "    </tr>\n",
       "  </thead>\n",
       "  <tbody>\n",
       "    <tr>\n",
       "      <th>0</th>\n",
       "      <td>Im convinced the U.S. will be drawn into World...</td>\n",
       "      <td>2024-10-16</td>\n",
       "    </tr>\n",
       "    <tr>\n",
       "      <th>1</th>\n",
       "      <td>Americas aging population is on a collision co...</td>\n",
       "      <td>2024-10-15</td>\n",
       "    </tr>\n",
       "    <tr>\n",
       "      <th>2</th>\n",
       "      <td>Nvidia Rally Has Legs. Why It Can Defy China F...</td>\n",
       "      <td>2024-10-15</td>\n",
       "    </tr>\n",
       "    <tr>\n",
       "      <th>3</th>\n",
       "      <td>Oils War Premium Is Back. Can Prices Top $100?</td>\n",
       "      <td>2024-10-11</td>\n",
       "    </tr>\n",
       "    <tr>\n",
       "      <th>4</th>\n",
       "      <td>Attacks on Iranian Oil Could Cause Pain at the...</td>\n",
       "      <td>2024-10-04</td>\n",
       "    </tr>\n",
       "  </tbody>\n",
       "</table>\n",
       "</div>"
      ],
      "text/plain": [
       "                                            headline       date\n",
       "0  Im convinced the U.S. will be drawn into World... 2024-10-16\n",
       "1  Americas aging population is on a collision co... 2024-10-15\n",
       "2  Nvidia Rally Has Legs. Why It Can Defy China F... 2024-10-15\n",
       "3     Oils War Premium Is Back. Can Prices Top $100? 2024-10-11\n",
       "4  Attacks on Iranian Oil Could Cause Pain at the... 2024-10-04"
      ]
     },
     "execution_count": 2469,
     "metadata": {},
     "output_type": "execute_result"
    }
   ],
   "source": [
    "# clean the headline column\n",
    "df_economic_crisis_news['headline'] = df_economic_crisis_news['headline'].apply(cleanHeadline)\n",
    "df_economic_crisis_news.head()"
   ]
  },
  {
   "cell_type": "code",
   "execution_count": 2470,
   "id": "1826b55b-0668-46c6-ae68-d326412381ac",
   "metadata": {},
   "outputs": [
    {
     "data": {
      "text/plain": [
       "446"
      ]
     },
     "execution_count": 2470,
     "metadata": {},
     "output_type": "execute_result"
    }
   ],
   "source": [
    "# check for duplicated records\n",
    "df_economic_crisis_news.duplicated().sum()"
   ]
  },
  {
   "cell_type": "code",
   "execution_count": 2471,
   "id": "56bcb329-13fe-41bb-8260-37f5994bf8ed",
   "metadata": {},
   "outputs": [],
   "source": [
    "# remove the duplicated records\n",
    "df_economic_crisis_news.drop_duplicates(inplace=True)"
   ]
  },
  {
   "cell_type": "code",
   "execution_count": 2472,
   "id": "36e86675-6aca-4374-b504-333f3387e00f",
   "metadata": {},
   "outputs": [
    {
     "data": {
      "text/html": [
       "<div>\n",
       "<style scoped>\n",
       "    .dataframe tbody tr th:only-of-type {\n",
       "        vertical-align: middle;\n",
       "    }\n",
       "\n",
       "    .dataframe tbody tr th {\n",
       "        vertical-align: top;\n",
       "    }\n",
       "\n",
       "    .dataframe thead th {\n",
       "        text-align: right;\n",
       "    }\n",
       "</style>\n",
       "<table border=\"1\" class=\"dataframe\">\n",
       "  <thead>\n",
       "    <tr style=\"text-align: right;\">\n",
       "      <th></th>\n",
       "      <th>date</th>\n",
       "    </tr>\n",
       "  </thead>\n",
       "  <tbody>\n",
       "    <tr>\n",
       "      <th>count</th>\n",
       "      <td>2830</td>\n",
       "    </tr>\n",
       "    <tr>\n",
       "      <th>mean</th>\n",
       "      <td>2021-07-22 09:05:28.197880064</td>\n",
       "    </tr>\n",
       "    <tr>\n",
       "      <th>min</th>\n",
       "      <td>2003-02-19 00:00:00</td>\n",
       "    </tr>\n",
       "    <tr>\n",
       "      <th>25%</th>\n",
       "      <td>2022-04-29 00:00:00</td>\n",
       "    </tr>\n",
       "    <tr>\n",
       "      <th>50%</th>\n",
       "      <td>2022-10-31 00:00:00</td>\n",
       "    </tr>\n",
       "    <tr>\n",
       "      <th>75%</th>\n",
       "      <td>2023-05-18 00:00:00</td>\n",
       "    </tr>\n",
       "    <tr>\n",
       "      <th>max</th>\n",
       "      <td>2024-10-16 00:00:00</td>\n",
       "    </tr>\n",
       "  </tbody>\n",
       "</table>\n",
       "</div>"
      ],
      "text/plain": [
       "                                date\n",
       "count                           2830\n",
       "mean   2021-07-22 09:05:28.197880064\n",
       "min              2003-02-19 00:00:00\n",
       "25%              2022-04-29 00:00:00\n",
       "50%              2022-10-31 00:00:00\n",
       "75%              2023-05-18 00:00:00\n",
       "max              2024-10-16 00:00:00"
      ]
     },
     "execution_count": 2472,
     "metadata": {},
     "output_type": "execute_result"
    }
   ],
   "source": [
    "# statistical overview of the dataset\n",
    "df_economic_crisis_news.describe()"
   ]
  },
  {
   "cell_type": "code",
   "execution_count": 2473,
   "id": "2323e468-21e2-458f-b617-c57b920de23f",
   "metadata": {},
   "outputs": [
    {
     "data": {
      "text/html": [
       "<div>\n",
       "<style scoped>\n",
       "    .dataframe tbody tr th:only-of-type {\n",
       "        vertical-align: middle;\n",
       "    }\n",
       "\n",
       "    .dataframe tbody tr th {\n",
       "        vertical-align: top;\n",
       "    }\n",
       "\n",
       "    .dataframe thead th {\n",
       "        text-align: right;\n",
       "    }\n",
       "</style>\n",
       "<table border=\"1\" class=\"dataframe\">\n",
       "  <thead>\n",
       "    <tr style=\"text-align: right;\">\n",
       "      <th></th>\n",
       "      <th>headline</th>\n",
       "      <th>date</th>\n",
       "    </tr>\n",
       "  </thead>\n",
       "  <tbody>\n",
       "    <tr>\n",
       "      <th>0</th>\n",
       "      <td>Im convinced the U.S. will be drawn into World...</td>\n",
       "      <td>2024-10-16</td>\n",
       "    </tr>\n",
       "    <tr>\n",
       "      <th>1</th>\n",
       "      <td>Americas aging population is on a collision co...</td>\n",
       "      <td>2024-10-15</td>\n",
       "    </tr>\n",
       "    <tr>\n",
       "      <th>2</th>\n",
       "      <td>Nvidia Rally Has Legs. Why It Can Defy China F...</td>\n",
       "      <td>2024-10-15</td>\n",
       "    </tr>\n",
       "    <tr>\n",
       "      <th>3</th>\n",
       "      <td>Oils War Premium Is Back. Can Prices Top $100?</td>\n",
       "      <td>2024-10-11</td>\n",
       "    </tr>\n",
       "    <tr>\n",
       "      <th>4</th>\n",
       "      <td>Attacks on Iranian Oil Could Cause Pain at the...</td>\n",
       "      <td>2024-10-04</td>\n",
       "    </tr>\n",
       "  </tbody>\n",
       "</table>\n",
       "</div>"
      ],
      "text/plain": [
       "                                            headline       date\n",
       "0  Im convinced the U.S. will be drawn into World... 2024-10-16\n",
       "1  Americas aging population is on a collision co... 2024-10-15\n",
       "2  Nvidia Rally Has Legs. Why It Can Defy China F... 2024-10-15\n",
       "3     Oils War Premium Is Back. Can Prices Top $100? 2024-10-11\n",
       "4  Attacks on Iranian Oil Could Cause Pain at the... 2024-10-04"
      ]
     },
     "execution_count": 2473,
     "metadata": {},
     "output_type": "execute_result"
    }
   ],
   "source": [
    "df_economic_crisis_news_clean = df_economic_crisis_news.copy()\n",
    "df_economic_crisis_news.head()"
   ]
  },
  {
   "cell_type": "markdown",
   "id": "5f69ef26-3c63-4b87-9bfc-199241a3a95b",
   "metadata": {},
   "source": [
    "## Sentiment Analysis of the news headlines "
   ]
  },
  {
   "cell_type": "code",
   "execution_count": 2475,
   "id": "62d46579-80c6-4594-b06d-143e2637024e",
   "metadata": {},
   "outputs": [
    {
     "data": {
      "text/plain": [
       "(18243, 2)"
      ]
     },
     "execution_count": 2475,
     "metadata": {},
     "output_type": "execute_result"
    }
   ],
   "source": [
    "#combining all the news headlines dataframe together (df_geopolitical_tensions,df_economic_crisis,df_inflation,df_interest_rates,df_gold_news)\n",
    "combined_news_data = pd.concat([df_usd_clean,df_geopolitical_event_news_clean,df_inflation_news_clean,\n",
    "                                df_interest_rates_news_clean,df_gold_news_clean,df_economic_crisis_news_clean], axis=0)\n",
    "combined_news_data.shape\n"
   ]
  },
  {
   "cell_type": "code",
   "execution_count": 2476,
   "id": "44034051-7d76-4d44-9082-060c0e6e21ff",
   "metadata": {},
   "outputs": [
    {
     "data": {
      "text/html": [
       "<div>\n",
       "<style scoped>\n",
       "    .dataframe tbody tr th:only-of-type {\n",
       "        vertical-align: middle;\n",
       "    }\n",
       "\n",
       "    .dataframe tbody tr th {\n",
       "        vertical-align: top;\n",
       "    }\n",
       "\n",
       "    .dataframe thead th {\n",
       "        text-align: right;\n",
       "    }\n",
       "</style>\n",
       "<table border=\"1\" class=\"dataframe\">\n",
       "  <thead>\n",
       "    <tr style=\"text-align: right;\">\n",
       "      <th></th>\n",
       "      <th>headline</th>\n",
       "      <th>date</th>\n",
       "    </tr>\n",
       "  </thead>\n",
       "  <tbody>\n",
       "    <tr>\n",
       "      <th>0</th>\n",
       "      <td>Heres how bond ETFs fared as investors parsed ...</td>\n",
       "      <td>2024-10-10</td>\n",
       "    </tr>\n",
       "    <tr>\n",
       "      <th>1</th>\n",
       "      <td>Emerging markets have surged. Why JPMorgan say...</td>\n",
       "      <td>2024-09-30</td>\n",
       "    </tr>\n",
       "    <tr>\n",
       "      <th>2</th>\n",
       "      <td>Gold is giving you a once-in-a-generation buyi...</td>\n",
       "      <td>2024-09-21</td>\n",
       "    </tr>\n",
       "    <tr>\n",
       "      <th>3</th>\n",
       "      <td>High-yield bond ETF rallies after Fed rate cut...</td>\n",
       "      <td>2024-09-19</td>\n",
       "    </tr>\n",
       "    <tr>\n",
       "      <th>4</th>\n",
       "      <td>The U.S. dollar is weakening ahead of Fed rate...</td>\n",
       "      <td>2024-09-18</td>\n",
       "    </tr>\n",
       "  </tbody>\n",
       "</table>\n",
       "</div>"
      ],
      "text/plain": [
       "                                            headline       date\n",
       "0  Heres how bond ETFs fared as investors parsed ... 2024-10-10\n",
       "1  Emerging markets have surged. Why JPMorgan say... 2024-09-30\n",
       "2  Gold is giving you a once-in-a-generation buyi... 2024-09-21\n",
       "3  High-yield bond ETF rallies after Fed rate cut... 2024-09-19\n",
       "4  The U.S. dollar is weakening ahead of Fed rate... 2024-09-18"
      ]
     },
     "execution_count": 2476,
     "metadata": {},
     "output_type": "execute_result"
    }
   ],
   "source": [
    "combined_news = combined_news_data.copy()\n",
    "combined_news.head()"
   ]
  },
  {
   "cell_type": "code",
   "execution_count": 2477,
   "id": "7666d8de-3343-4d1c-b0c3-14d719f58baf",
   "metadata": {},
   "outputs": [
    {
     "name": "stdout",
     "output_type": "stream",
     "text": [
      "<class 'pandas.core.frame.DataFrame'>\n",
      "Index: 18243 entries, 0 to 3275\n",
      "Data columns (total 2 columns):\n",
      " #   Column    Non-Null Count  Dtype         \n",
      "---  ------    --------------  -----         \n",
      " 0   headline  18243 non-null  object        \n",
      " 1   date      18243 non-null  datetime64[ns]\n",
      "dtypes: datetime64[ns](1), object(1)\n",
      "memory usage: 427.6+ KB\n"
     ]
    }
   ],
   "source": [
    "combined_news.info()"
   ]
  },
  {
   "cell_type": "code",
   "execution_count": 2478,
   "id": "813ed27e-6b16-4f18-92fd-54a0efe414f1",
   "metadata": {},
   "outputs": [],
   "source": [
    "#function to apply VADER sentiment analysis\n",
    "#we are going to make use of the compound score, which is average of the sentiment score on the news headlines.\n",
    "def sentiment(df):\n",
    "    df['sentiment_score']=df['headline'].apply(lambda x:analyser.polarity_scores(x)['compound'])\n",
    "    df_sent = df[['date','headline','sentiment_score']]\n",
    "    return df_sent\n",
    "\n"
   ]
  },
  {
   "cell_type": "code",
   "execution_count": 2479,
   "id": "5a7306a4-3697-488a-bf4d-644c02e47e07",
   "metadata": {},
   "outputs": [
    {
     "data": {
      "text/plain": [
       "(18243, 3)"
      ]
     },
     "execution_count": 2479,
     "metadata": {},
     "output_type": "execute_result"
    }
   ],
   "source": [
    "# applying sentiment analysis function on the combined news headlines\n",
    "df_sentiment = sentiment(combined_news)\n",
    "df_sentiment.shape"
   ]
  },
  {
   "cell_type": "code",
   "execution_count": 2480,
   "id": "a2f993cf-8569-4b59-bab7-ff9df9233146",
   "metadata": {},
   "outputs": [
    {
     "data": {
      "text/html": [
       "<div>\n",
       "<style scoped>\n",
       "    .dataframe tbody tr th:only-of-type {\n",
       "        vertical-align: middle;\n",
       "    }\n",
       "\n",
       "    .dataframe tbody tr th {\n",
       "        vertical-align: top;\n",
       "    }\n",
       "\n",
       "    .dataframe thead th {\n",
       "        text-align: right;\n",
       "    }\n",
       "</style>\n",
       "<table border=\"1\" class=\"dataframe\">\n",
       "  <thead>\n",
       "    <tr style=\"text-align: right;\">\n",
       "      <th></th>\n",
       "      <th>date</th>\n",
       "      <th>headline</th>\n",
       "      <th>sentiment_score</th>\n",
       "    </tr>\n",
       "  </thead>\n",
       "  <tbody>\n",
       "    <tr>\n",
       "      <th>0</th>\n",
       "      <td>2024-10-10</td>\n",
       "      <td>Heres how bond ETFs fared as investors parsed ...</td>\n",
       "      <td>0.0000</td>\n",
       "    </tr>\n",
       "    <tr>\n",
       "      <th>1</th>\n",
       "      <td>2024-09-30</td>\n",
       "      <td>Emerging markets have surged. Why JPMorgan say...</td>\n",
       "      <td>0.0000</td>\n",
       "    </tr>\n",
       "    <tr>\n",
       "      <th>2</th>\n",
       "      <td>2024-09-21</td>\n",
       "      <td>Gold is giving you a once-in-a-generation buyi...</td>\n",
       "      <td>0.6369</td>\n",
       "    </tr>\n",
       "    <tr>\n",
       "      <th>3</th>\n",
       "      <td>2024-09-19</td>\n",
       "      <td>High-yield bond ETF rallies after Fed rate cut...</td>\n",
       "      <td>0.2960</td>\n",
       "    </tr>\n",
       "    <tr>\n",
       "      <th>4</th>\n",
       "      <td>2024-09-18</td>\n",
       "      <td>The U.S. dollar is weakening ahead of Fed rate...</td>\n",
       "      <td>-0.5267</td>\n",
       "    </tr>\n",
       "    <tr>\n",
       "      <th>5</th>\n",
       "      <td>2024-09-05</td>\n",
       "      <td>After its August selloff, the U.S. dollar may ...</td>\n",
       "      <td>-0.5678</td>\n",
       "    </tr>\n",
       "    <tr>\n",
       "      <th>6</th>\n",
       "      <td>2024-08-27</td>\n",
       "      <td>The U.S. dollar is close to being fairly value...</td>\n",
       "      <td>0.4404</td>\n",
       "    </tr>\n",
       "    <tr>\n",
       "      <th>7</th>\n",
       "      <td>2024-08-20</td>\n",
       "      <td>Why the U.S. dollars weird August fall could b...</td>\n",
       "      <td>-0.1779</td>\n",
       "    </tr>\n",
       "    <tr>\n",
       "      <th>8</th>\n",
       "      <td>2024-07-25</td>\n",
       "      <td>Anglo American Swings to Net Loss on $1.6 Bill...</td>\n",
       "      <td>-0.3182</td>\n",
       "    </tr>\n",
       "    <tr>\n",
       "      <th>9</th>\n",
       "      <td>2024-07-24</td>\n",
       "      <td>German bond yields dive as eurozone economy st...</td>\n",
       "      <td>0.0000</td>\n",
       "    </tr>\n",
       "  </tbody>\n",
       "</table>\n",
       "</div>"
      ],
      "text/plain": [
       "        date                                           headline  \\\n",
       "0 2024-10-10  Heres how bond ETFs fared as investors parsed ...   \n",
       "1 2024-09-30  Emerging markets have surged. Why JPMorgan say...   \n",
       "2 2024-09-21  Gold is giving you a once-in-a-generation buyi...   \n",
       "3 2024-09-19  High-yield bond ETF rallies after Fed rate cut...   \n",
       "4 2024-09-18  The U.S. dollar is weakening ahead of Fed rate...   \n",
       "5 2024-09-05  After its August selloff, the U.S. dollar may ...   \n",
       "6 2024-08-27  The U.S. dollar is close to being fairly value...   \n",
       "7 2024-08-20  Why the U.S. dollars weird August fall could b...   \n",
       "8 2024-07-25  Anglo American Swings to Net Loss on $1.6 Bill...   \n",
       "9 2024-07-24  German bond yields dive as eurozone economy st...   \n",
       "\n",
       "   sentiment_score  \n",
       "0           0.0000  \n",
       "1           0.0000  \n",
       "2           0.6369  \n",
       "3           0.2960  \n",
       "4          -0.5267  \n",
       "5          -0.5678  \n",
       "6           0.4404  \n",
       "7          -0.1779  \n",
       "8          -0.3182  \n",
       "9           0.0000  "
      ]
     },
     "execution_count": 2480,
     "metadata": {},
     "output_type": "execute_result"
    }
   ],
   "source": [
    "# few records of the new dataframe with sentiment score for the respective news headline \n",
    "df_sentiment.head(10)"
   ]
  },
  {
   "cell_type": "code",
   "execution_count": 2481,
   "id": "bb297411-6c71-4747-aa7b-36710891c013",
   "metadata": {},
   "outputs": [
    {
     "data": {
      "text/plain": [
       "9202"
      ]
     },
     "execution_count": 2481,
     "metadata": {},
     "output_type": "execute_result"
    }
   ],
   "source": [
    "# check for duplicated records\n",
    "df_sentiment.duplicated().sum()"
   ]
  },
  {
   "cell_type": "code",
   "execution_count": 2482,
   "id": "fd516dc1-bdec-4c1b-9ed2-2828b04ffda4",
   "metadata": {},
   "outputs": [],
   "source": [
    "# remove the duplicated records\n",
    "df_sentiment.drop_duplicates(inplace=True)"
   ]
  },
  {
   "cell_type": "code",
   "execution_count": 2483,
   "id": "2289407c-2acf-4aa2-929f-ecd071fefab1",
   "metadata": {},
   "outputs": [
    {
     "name": "stdout",
     "output_type": "stream",
     "text": [
      "<class 'pandas.core.frame.DataFrame'>\n",
      "Index: 9041 entries, 0 to 2142\n",
      "Data columns (total 3 columns):\n",
      " #   Column           Non-Null Count  Dtype         \n",
      "---  ------           --------------  -----         \n",
      " 0   date             9041 non-null   datetime64[ns]\n",
      " 1   headline         9041 non-null   object        \n",
      " 2   sentiment_score  9041 non-null   float64       \n",
      "dtypes: datetime64[ns](1), float64(1), object(1)\n",
      "memory usage: 282.5+ KB\n"
     ]
    }
   ],
   "source": [
    "df_sentiment.info()"
   ]
  },
  {
   "cell_type": "code",
   "execution_count": 2484,
   "id": "91580734-2fbf-4c4c-a53a-4f949fd64df0",
   "metadata": {},
   "outputs": [
    {
     "data": {
      "text/html": [
       "<div>\n",
       "<style scoped>\n",
       "    .dataframe tbody tr th:only-of-type {\n",
       "        vertical-align: middle;\n",
       "    }\n",
       "\n",
       "    .dataframe tbody tr th {\n",
       "        vertical-align: top;\n",
       "    }\n",
       "\n",
       "    .dataframe thead th {\n",
       "        text-align: right;\n",
       "    }\n",
       "</style>\n",
       "<table border=\"1\" class=\"dataframe\">\n",
       "  <thead>\n",
       "    <tr style=\"text-align: right;\">\n",
       "      <th></th>\n",
       "      <th>date</th>\n",
       "      <th>headline</th>\n",
       "      <th>sentiment_score</th>\n",
       "    </tr>\n",
       "  </thead>\n",
       "  <tbody>\n",
       "    <tr>\n",
       "      <th>1006</th>\n",
       "      <td>2011-07-12</td>\n",
       "      <td>War is hell, politics is hell and Im mad as hell</td>\n",
       "      <td>-0.9716</td>\n",
       "    </tr>\n",
       "  </tbody>\n",
       "</table>\n",
       "</div>"
      ],
      "text/plain": [
       "           date                                          headline  \\\n",
       "1006 2011-07-12  War is hell, politics is hell and Im mad as hell   \n",
       "\n",
       "      sentiment_score  \n",
       "1006          -0.9716  "
      ]
     },
     "execution_count": 2484,
     "metadata": {},
     "output_type": "execute_result"
    }
   ],
   "source": [
    "#the record for the least sentiment score\n",
    "df_sentiment[df_sentiment['sentiment_score']==df_sentiment['sentiment_score'].min()]"
   ]
  },
  {
   "cell_type": "code",
   "execution_count": 2485,
   "id": "1a668ec0-a642-4184-8367-b71d595bdc6c",
   "metadata": {},
   "outputs": [
    {
     "data": {
      "text/html": [
       "<div>\n",
       "<style scoped>\n",
       "    .dataframe tbody tr th:only-of-type {\n",
       "        vertical-align: middle;\n",
       "    }\n",
       "\n",
       "    .dataframe tbody tr th {\n",
       "        vertical-align: top;\n",
       "    }\n",
       "\n",
       "    .dataframe thead th {\n",
       "        text-align: right;\n",
       "    }\n",
       "</style>\n",
       "<table border=\"1\" class=\"dataframe\">\n",
       "  <thead>\n",
       "    <tr style=\"text-align: right;\">\n",
       "      <th></th>\n",
       "      <th>date</th>\n",
       "      <th>headline</th>\n",
       "      <th>sentiment_score</th>\n",
       "    </tr>\n",
       "  </thead>\n",
       "  <tbody>\n",
       "    <tr>\n",
       "      <th>87</th>\n",
       "      <td>2023-05-05</td>\n",
       "      <td>Great for consumers with fair or limited credi...</td>\n",
       "      <td>0.9552</td>\n",
       "    </tr>\n",
       "  </tbody>\n",
       "</table>\n",
       "</div>"
      ],
      "text/plain": [
       "         date                                           headline  \\\n",
       "87 2023-05-05  Great for consumers with fair or limited credi...   \n",
       "\n",
       "    sentiment_score  \n",
       "87           0.9552  "
      ]
     },
     "execution_count": 2485,
     "metadata": {},
     "output_type": "execute_result"
    }
   ],
   "source": [
    "#the record for the highest sentiment score\n",
    "df_sentiment[df_sentiment['sentiment_score']==df_sentiment['sentiment_score'].max()]"
   ]
  },
  {
   "cell_type": "code",
   "execution_count": 2486,
   "id": "03e9395c-6a91-4ccf-ab8a-10786821582f",
   "metadata": {},
   "outputs": [
    {
     "data": {
      "text/plain": [
       "(1939, 2)"
      ]
     },
     "execution_count": 2486,
     "metadata": {},
     "output_type": "execute_result"
    }
   ],
   "source": [
    "# group the records by the Date (daily) and the mean sentiment score per day.\n",
    "df_sentiment = df_sentiment[['date','sentiment_score']].groupby('date').mean().reset_index()\n",
    "df_sentiment.shape"
   ]
  },
  {
   "cell_type": "code",
   "execution_count": 2487,
   "id": "a544f32f-c5b4-47a2-baef-82bf7053ba8e",
   "metadata": {},
   "outputs": [
    {
     "data": {
      "text/html": [
       "<div>\n",
       "<style scoped>\n",
       "    .dataframe tbody tr th:only-of-type {\n",
       "        vertical-align: middle;\n",
       "    }\n",
       "\n",
       "    .dataframe tbody tr th {\n",
       "        vertical-align: top;\n",
       "    }\n",
       "\n",
       "    .dataframe thead th {\n",
       "        text-align: right;\n",
       "    }\n",
       "</style>\n",
       "<table border=\"1\" class=\"dataframe\">\n",
       "  <thead>\n",
       "    <tr style=\"text-align: right;\">\n",
       "      <th></th>\n",
       "      <th>date</th>\n",
       "      <th>sentiment_score</th>\n",
       "    </tr>\n",
       "  </thead>\n",
       "  <tbody>\n",
       "    <tr>\n",
       "      <th>0</th>\n",
       "      <td>2003-02-19</td>\n",
       "      <td>0.3400</td>\n",
       "    </tr>\n",
       "    <tr>\n",
       "      <th>1</th>\n",
       "      <td>2003-02-24</td>\n",
       "      <td>-0.2997</td>\n",
       "    </tr>\n",
       "    <tr>\n",
       "      <th>2</th>\n",
       "      <td>2003-02-26</td>\n",
       "      <td>0.0000</td>\n",
       "    </tr>\n",
       "    <tr>\n",
       "      <th>3</th>\n",
       "      <td>2003-03-03</td>\n",
       "      <td>0.0000</td>\n",
       "    </tr>\n",
       "    <tr>\n",
       "      <th>4</th>\n",
       "      <td>2003-03-24</td>\n",
       "      <td>0.0000</td>\n",
       "    </tr>\n",
       "  </tbody>\n",
       "</table>\n",
       "</div>"
      ],
      "text/plain": [
       "        date  sentiment_score\n",
       "0 2003-02-19           0.3400\n",
       "1 2003-02-24          -0.2997\n",
       "2 2003-02-26           0.0000\n",
       "3 2003-03-03           0.0000\n",
       "4 2003-03-24           0.0000"
      ]
     },
     "execution_count": 2487,
     "metadata": {},
     "output_type": "execute_result"
    }
   ],
   "source": [
    "df_sentiment.head()"
   ]
  },
  {
   "cell_type": "code",
   "execution_count": 2488,
   "id": "59bd4099-4399-4a58-be7d-e241d288c2e7",
   "metadata": {},
   "outputs": [
    {
     "name": "stdout",
     "output_type": "stream",
     "text": [
      "           date  sentiment_score\n",
      "0    2015-01-01              NaN\n",
      "1    2015-01-02        -0.401900\n",
      "2    2015-01-03              NaN\n",
      "3    2015-01-04              NaN\n",
      "4    2015-01-05         0.440400\n",
      "...         ...              ...\n",
      "3572 2024-10-12         0.048600\n",
      "3573 2024-10-13         0.151875\n",
      "3574 2024-10-14         0.039319\n",
      "3575 2024-10-15        -0.007940\n",
      "3576 2024-10-16        -0.296000\n",
      "\n",
      "[3577 rows x 2 columns]\n"
     ]
    }
   ],
   "source": [
    "# date range in consideration for the analysis\n",
    "all_dates = pd.date_range(start='2015-01-01', end='2024-10-16', freq='D')\n",
    "\n",
    "# applying the data range on the sentiment data \n",
    "df_sentiment = df_sentiment.set_index('date').reindex(all_dates).rename_axis('date').reset_index()\n",
    "print(df_sentiment)"
   ]
  },
  {
   "cell_type": "code",
   "execution_count": 2489,
   "id": "3d9775c1-ce5b-40bf-af8c-88c659d59a01",
   "metadata": {},
   "outputs": [
    {
     "data": {
      "text/plain": [
       "date                  0\n",
       "sentiment_score    2038\n",
       "dtype: int64"
      ]
     },
     "execution_count": 2489,
     "metadata": {},
     "output_type": "execute_result"
    }
   ],
   "source": [
    "df_sentiment.isnull().sum()"
   ]
  },
  {
   "cell_type": "code",
   "execution_count": 2490,
   "id": "f430e24c-19ea-44c2-8d4e-28aee3c89f91",
   "metadata": {},
   "outputs": [
    {
     "name": "stdout",
     "output_type": "stream",
     "text": [
      "<class 'pandas.core.frame.DataFrame'>\n",
      "Index: 1539 entries, 1 to 3576\n",
      "Data columns (total 2 columns):\n",
      " #   Column           Non-Null Count  Dtype         \n",
      "---  ------           --------------  -----         \n",
      " 0   date             1539 non-null   datetime64[ns]\n",
      " 1   sentiment_score  1539 non-null   float64       \n",
      "dtypes: datetime64[ns](1), float64(1)\n",
      "memory usage: 36.1 KB\n"
     ]
    }
   ],
   "source": [
    "df_sentiment.dropna(inplace=True)\n",
    "df_sentiment.info()"
   ]
  },
  {
   "cell_type": "code",
   "execution_count": 2491,
   "id": "85951025-b636-49f9-b744-696ba4cf3921",
   "metadata": {},
   "outputs": [
    {
     "data": {
      "text/html": [
       "<div>\n",
       "<style scoped>\n",
       "    .dataframe tbody tr th:only-of-type {\n",
       "        vertical-align: middle;\n",
       "    }\n",
       "\n",
       "    .dataframe tbody tr th {\n",
       "        vertical-align: top;\n",
       "    }\n",
       "\n",
       "    .dataframe thead th {\n",
       "        text-align: right;\n",
       "    }\n",
       "</style>\n",
       "<table border=\"1\" class=\"dataframe\">\n",
       "  <thead>\n",
       "    <tr style=\"text-align: right;\">\n",
       "      <th></th>\n",
       "      <th>date</th>\n",
       "      <th>sentiment_score</th>\n",
       "    </tr>\n",
       "  </thead>\n",
       "  <tbody>\n",
       "    <tr>\n",
       "      <th>count</th>\n",
       "      <td>1539</td>\n",
       "      <td>1539.000000</td>\n",
       "    </tr>\n",
       "    <tr>\n",
       "      <th>mean</th>\n",
       "      <td>2021-03-29 09:46:40.000000256</td>\n",
       "      <td>-0.001546</td>\n",
       "    </tr>\n",
       "    <tr>\n",
       "      <th>min</th>\n",
       "      <td>2015-01-02 00:00:00</td>\n",
       "      <td>-0.884700</td>\n",
       "    </tr>\n",
       "    <tr>\n",
       "      <th>25%</th>\n",
       "      <td>2018-07-14 00:00:00</td>\n",
       "      <td>-0.123308</td>\n",
       "    </tr>\n",
       "    <tr>\n",
       "      <th>50%</th>\n",
       "      <td>2022-07-21 00:00:00</td>\n",
       "      <td>0.000000</td>\n",
       "    </tr>\n",
       "    <tr>\n",
       "      <th>75%</th>\n",
       "      <td>2023-09-20 12:00:00</td>\n",
       "      <td>0.131100</td>\n",
       "    </tr>\n",
       "    <tr>\n",
       "      <th>max</th>\n",
       "      <td>2024-10-16 00:00:00</td>\n",
       "      <td>0.895700</td>\n",
       "    </tr>\n",
       "    <tr>\n",
       "      <th>std</th>\n",
       "      <td>NaN</td>\n",
       "      <td>0.262883</td>\n",
       "    </tr>\n",
       "  </tbody>\n",
       "</table>\n",
       "</div>"
      ],
      "text/plain": [
       "                                date  sentiment_score\n",
       "count                           1539      1539.000000\n",
       "mean   2021-03-29 09:46:40.000000256        -0.001546\n",
       "min              2015-01-02 00:00:00        -0.884700\n",
       "25%              2018-07-14 00:00:00        -0.123308\n",
       "50%              2022-07-21 00:00:00         0.000000\n",
       "75%              2023-09-20 12:00:00         0.131100\n",
       "max              2024-10-16 00:00:00         0.895700\n",
       "std                              NaN         0.262883"
      ]
     },
     "execution_count": 2491,
     "metadata": {},
     "output_type": "execute_result"
    }
   ],
   "source": [
    "df_sentiment.describe()"
   ]
  },
  {
   "cell_type": "code",
   "execution_count": 2492,
   "id": "ea9c8500-f137-443d-8030-8d3500fa5024",
   "metadata": {},
   "outputs": [
    {
     "data": {
      "image/png": "[encoded data removed]",
      "text/plain": [
       "<Figure size 800x600 with 1 Axes>"
      ]
     },
     "metadata": {},
     "output_type": "display_data"
    },
    {
     "data": {
      "image/png": "[encoded data removed]",
      "text/plain": [
       "<Figure size 800x600 with 1 Axes>"
      ]
     },
     "metadata": {},
     "output_type": "display_data"
    }
   ],
   "source": [
    "# Function to visualize numeric variables\n",
    "def visualize_numeric(df):\n",
    "    numeric_cols = df.select_dtypes(include=['float64']).columns\n",
    "    \n",
    "    # Histogram for each numeric variable\n",
    "    df[numeric_cols].hist(figsize=(8, 6), bins=20)\n",
    "    plt.suptitle('Histograms of Numeric Variables')\n",
    "    plt.show()\n",
    "\n",
    "    # Box plots for each numeric variable\n",
    "    plt.figure(figsize=(8, 6))\n",
    "    for i, col in enumerate(numeric_cols, 1):\n",
    "        plt.subplot(len(numeric_cols), 1, i)\n",
    "        sns.boxplot(x=df[col])\n",
    "        plt.title(f'Box plot of {col}')\n",
    "    plt.tight_layout()\n",
    "    plt.show()\n",
    "\n",
    "visualize_numeric(df_sentiment)"
   ]
  },
  {
   "cell_type": "code",
   "execution_count": 2262,
   "id": "1fbe1a30-f425-48d8-ae05-8442e38130ae",
   "metadata": {},
   "outputs": [
    {
     "data": {
      "image/png": "[encoded data removed]",
      "text/plain": [
       "<Figure size 1000x600 with 1 Axes>"
      ]
     },
     "metadata": {},
     "output_type": "display_data"
    }
   ],
   "source": [
    "# sorting the data with the date range\n",
    "df_sentiment = df_sentiment.sort_values(by='date')\n",
    "\n",
    "# Plotting the data\n",
    "plt.figure(figsize=(10, 6))  # Optional: Set figure size\n",
    "plt.plot(df_sentiment['date'], df_sentiment['sentiment_score'], color='blue', marker='o', linestyle='-', label='Price')\n",
    "\n",
    "# Adding labels and title\n",
    "plt.xlabel('Date', fontsize=14)\n",
    "plt.ylabel('sentiment_score', fontsize=14)\n",
    "plt.title('sentiment_score vs Date', fontsize=16)\n",
    "\n",
    "# Rotate the x-axis labels for better readability\n",
    "plt.xticks(rotation=45)\n",
    "\n",
    "# Add a grid and legend\n",
    "plt.grid(True)\n",
    "plt.legend()\n",
    "\n",
    "# Show the plot\n",
    "plt.tight_layout()  \n",
    "plt.show()\n"
   ]
  },
  {
   "cell_type": "markdown",
   "id": "719f5a06-0833-446b-966b-3075f3e515b9",
   "metadata": {},
   "source": [
    "Observation:  There are more sentiment records between 2015 and 2024"
   ]
  },
  {
   "cell_type": "code",
   "execution_count": 2594,
   "id": "490e357b-7b3d-4434-921e-432f0375f243",
   "metadata": {},
   "outputs": [],
   "source": [
    "# group sentiment score into four categories\n",
    "# Define the bins and labels for grouping sentiment scores\n",
    "bins = [-1, -0.5, 0.5, 1]  # Define boundaries for each group\n",
    "labels = ['Negative','Neutral' ,'Positive']  # Define group names"
   ]
  },
  {
   "cell_type": "code",
   "execution_count": 2596,
   "id": "a48a704b-56ea-4d4c-bb06-1aeeff6b49e3",
   "metadata": {},
   "outputs": [],
   "source": [
    "# create a new column to assign the group according to the sentimnet score\n",
    "# Group the sentiment scores into the three categories\n",
    "df_sentiment['sentiment_group'] = pd.cut(df_sentiment['sentiment_score'], bins=bins, labels=labels, include_lowest=True)"
   ]
  },
  {
   "cell_type": "code",
   "execution_count": 2600,
   "id": "b77143c0-fb5d-4e09-b984-7d8448040998",
   "metadata": {},
   "outputs": [
    {
     "data": {
      "text/html": [
       "<div>\n",
       "<style scoped>\n",
       "    .dataframe tbody tr th:only-of-type {\n",
       "        vertical-align: middle;\n",
       "    }\n",
       "\n",
       "    .dataframe tbody tr th {\n",
       "        vertical-align: top;\n",
       "    }\n",
       "\n",
       "    .dataframe thead th {\n",
       "        text-align: right;\n",
       "    }\n",
       "</style>\n",
       "<table border=\"1\" class=\"dataframe\">\n",
       "  <thead>\n",
       "    <tr style=\"text-align: right;\">\n",
       "      <th></th>\n",
       "      <th>date</th>\n",
       "      <th>sentiment_score</th>\n",
       "      <th>sentiment_group</th>\n",
       "    </tr>\n",
       "  </thead>\n",
       "  <tbody>\n",
       "    <tr>\n",
       "      <th>1</th>\n",
       "      <td>2015-01-02</td>\n",
       "      <td>-0.4019</td>\n",
       "      <td>Neutral</td>\n",
       "    </tr>\n",
       "    <tr>\n",
       "      <th>4</th>\n",
       "      <td>2015-01-05</td>\n",
       "      <td>0.4404</td>\n",
       "      <td>Neutral</td>\n",
       "    </tr>\n",
       "    <tr>\n",
       "      <th>6</th>\n",
       "      <td>2015-01-07</td>\n",
       "      <td>-0.5106</td>\n",
       "      <td>Negative</td>\n",
       "    </tr>\n",
       "    <tr>\n",
       "      <th>8</th>\n",
       "      <td>2015-01-09</td>\n",
       "      <td>0.0000</td>\n",
       "      <td>Neutral</td>\n",
       "    </tr>\n",
       "    <tr>\n",
       "      <th>11</th>\n",
       "      <td>2015-01-12</td>\n",
       "      <td>0.0000</td>\n",
       "      <td>Neutral</td>\n",
       "    </tr>\n",
       "  </tbody>\n",
       "</table>\n",
       "</div>"
      ],
      "text/plain": [
       "         date  sentiment_score sentiment_group\n",
       "1  2015-01-02          -0.4019         Neutral\n",
       "4  2015-01-05           0.4404         Neutral\n",
       "6  2015-01-07          -0.5106        Negative\n",
       "8  2015-01-09           0.0000         Neutral\n",
       "11 2015-01-12           0.0000         Neutral"
      ]
     },
     "execution_count": 2600,
     "metadata": {},
     "output_type": "execute_result"
    }
   ],
   "source": [
    "# Print the DataFrame with sentiment groups\n",
    "df_sentiment.head()\n"
   ]
  },
  {
   "cell_type": "code",
   "execution_count": 2602,
   "id": "a92e0eb1-b0c3-4e71-886b-2baaec023ef2",
   "metadata": {},
   "outputs": [
    {
     "data": {
      "text/plain": [
       "sentiment_group\n",
       "Neutral     1407\n",
       "Negative      74\n",
       "Positive      58\n",
       "Name: count, dtype: int64"
      ]
     },
     "execution_count": 2602,
     "metadata": {},
     "output_type": "execute_result"
    }
   ],
   "source": [
    "df_sentiment['sentiment_group'].value_counts()"
   ]
  },
  {
   "cell_type": "code",
   "execution_count": 2604,
   "id": "e5a5a6e1-a930-4977-809f-39e7c4ceaad8",
   "metadata": {},
   "outputs": [
    {
     "data": {
      "image/png": "[encoded data removed]",
      "text/plain": [
       "<Figure size 600x600 with 1 Axes>"
      ]
     },
     "metadata": {},
     "output_type": "display_data"
    }
   ],
   "source": [
    "# Plot pie chart distribution of the sentiment score category\n",
    "sentiment_counts = df_sentiment['sentiment_group'].value_counts()\n",
    "\n",
    "plt.figure(figsize=(6, 6))\n",
    "plt.pie(sentiment_counts, labels=sentiment_counts.index, autopct='%1.1f%%', startangle=90, colors=['#ff9999','#66b3ff','#99ff99','#ffcc99'])\n",
    "plt.title('Sentiment Group Distribution')\n",
    "plt.axis('equal')  \n",
    "\n",
    "# Show the plot\n",
    "plt.show()"
   ]
  },
  {
   "cell_type": "markdown",
   "id": "f48879f9-03da-4357-970b-07e0d1a1e088",
   "metadata": {},
   "source": [
    "Observation:\n",
    "* There are more negative sentiment in the dataset"
   ]
  },
  {
   "cell_type": "code",
   "execution_count": 2270,
   "id": "17e0dca3-e3eb-42a7-a58d-eed053d4a81f",
   "metadata": {},
   "outputs": [],
   "source": [
    "# drop the sentiment group colunm.\n",
    "df_sentiment.drop(columns='sentiment_group', inplace=True)"
   ]
  },
  {
   "cell_type": "code",
   "execution_count": 2271,
   "id": "4a8623f3-d2c6-41f0-8436-5a2a63130d52",
   "metadata": {},
   "outputs": [
    {
     "data": {
      "text/html": [
       "<div>\n",
       "<style scoped>\n",
       "    .dataframe tbody tr th:only-of-type {\n",
       "        vertical-align: middle;\n",
       "    }\n",
       "\n",
       "    .dataframe tbody tr th {\n",
       "        vertical-align: top;\n",
       "    }\n",
       "\n",
       "    .dataframe thead th {\n",
       "        text-align: right;\n",
       "    }\n",
       "</style>\n",
       "<table border=\"1\" class=\"dataframe\">\n",
       "  <thead>\n",
       "    <tr style=\"text-align: right;\">\n",
       "      <th></th>\n",
       "      <th>date</th>\n",
       "      <th>sentiment_score</th>\n",
       "    </tr>\n",
       "  </thead>\n",
       "  <tbody>\n",
       "    <tr>\n",
       "      <th>1</th>\n",
       "      <td>2015-01-02</td>\n",
       "      <td>-0.4019</td>\n",
       "    </tr>\n",
       "    <tr>\n",
       "      <th>4</th>\n",
       "      <td>2015-01-05</td>\n",
       "      <td>0.4404</td>\n",
       "    </tr>\n",
       "    <tr>\n",
       "      <th>6</th>\n",
       "      <td>2015-01-07</td>\n",
       "      <td>-0.5106</td>\n",
       "    </tr>\n",
       "    <tr>\n",
       "      <th>8</th>\n",
       "      <td>2015-01-09</td>\n",
       "      <td>0.0000</td>\n",
       "    </tr>\n",
       "    <tr>\n",
       "      <th>11</th>\n",
       "      <td>2015-01-12</td>\n",
       "      <td>0.0000</td>\n",
       "    </tr>\n",
       "  </tbody>\n",
       "</table>\n",
       "</div>"
      ],
      "text/plain": [
       "         date  sentiment_score\n",
       "1  2015-01-02          -0.4019\n",
       "4  2015-01-05           0.4404\n",
       "6  2015-01-07          -0.5106\n",
       "8  2015-01-09           0.0000\n",
       "11 2015-01-12           0.0000"
      ]
     },
     "execution_count": 2271,
     "metadata": {},
     "output_type": "execute_result"
    }
   ],
   "source": [
    "df_sentiment.head()"
   ]
  },
  {
   "cell_type": "code",
   "execution_count": 2272,
   "id": "855285a3-e03c-4d97-8100-b7824f868c64",
   "metadata": {},
   "outputs": [],
   "source": [
    "#export the final sentinent dataset to csv for unward analysis\n",
    "df_sentiment.to_csv('result_Data/sentiment_dataset.csv', index=False)"
   ]
  }
 ],
 "metadata": {
  "kernelspec": {
   "display_name": "Python 3 (ipykernel)",
   "language": "python",
   "name": "python3"
  },
  "language_info": {
   "codemirror_mode": {
    "name": "ipython",
    "version": 3
   },
   "file_extension": ".py",
   "mimetype": "text/x-python",
   "name": "python",
   "nbconvert_exporter": "python",
   "pygments_lexer": "ipython3",
   "version": "3.12.4"
  }
 },
 "nbformat": 4,
 "nbformat_minor": 5
}
